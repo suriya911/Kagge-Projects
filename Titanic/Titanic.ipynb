{
 "cells": [
  {
   "cell_type": "markdown",
   "metadata": {},
   "source": [
    "# Titanic Survival Prediction\n",
    "\n",
    "This notebook walks through the analysis, visualization, and prediction of survival on the Titanic using machine learning models. The dataset is available from the Kaggle Titanic competition, and the objective is to predict survival outcomes based on passenger data.\n"
   ]
  },
  {
   "cell_type": "markdown",
   "metadata": {
    "id": "_0l6oLejHpu-"
   },
   "source": [
    "# Importing Necessary Libraries\n",
    "\n",
    "In this step, we import the essential libraries required for data analysis, preprocessing, visualization, and machine learning model training and evaluation. Each library serves a specific purpose, as described below:\n",
    "\n",
    "- **Numpy (`np`)**: A fundamental package for numerical computing in Python, used here for data manipulation and mathematical operations.\n",
    "- **Pandas (`pd`)**: A powerful library for data manipulation and analysis, enabling us to load, clean, and process the Titanic dataset efficiently.\n",
    "- **Seaborn (`sns`)** and **Matplotlib (`plt`)**: Visualization libraries used to create insightful graphs and charts for data exploration. `Seaborn` provides a high-level interface for drawing attractive and informative statistical graphics.\n",
    "- **Scikit-learn (`sklearn`)**: The core machine learning library in Python, providing modules for:\n",
    "  - **Data Preprocessing**: `OneHotEncoder` for encoding categorical variables.\n",
    "  - **Model Selection**: `train_test_split` for data splitting, and `GridSearchCV` for hyperparameter tuning.\n",
    "  - **Metrics**: `accuracy_score`, `classification_report`, and `confusion_matrix` for model evaluation.\n",
    "  - **Algorithms**: Various classifiers like `RandomForestClassifier`, `LogisticRegression`, `DecisionTreeClassifier`, `SVC`, and more.\n",
    "- **XGBoost (`XGBClassifier`)**: A popular gradient-boosting framework known for its speed and accuracy in structured/tabular data.\n",
    "- **CatBoost (`CatBoostClassifier`)**: A gradient-boosting framework that handles categorical features natively and is known for its efficiency and accuracy.\n",
    "- **Warnings**: `warnings.filterwarnings('ignore')` suppresses warnings for cleaner output, particularly useful when using large models or extensive hyperparameter tuning.\n",
    "\n",
    "With these libraries imported, we’re ready to load, explore, and preprocess the data, as well as build and evaluate a variety of machine learning models for predicting survival on the Titanic.\n"
   ]
  },
  {
   "cell_type": "code",
   "execution_count": null,
   "metadata": {
    "id": "Z3nERSYoHpvA",
    "trusted": true
   },
   "outputs": [],
   "source": [
    "import numpy as np\n",
    "import pandas as pd\n",
    "import seaborn as sns\n",
    "import matplotlib.pyplot as plt\n",
    "from sklearn.model_selection import train_test_split, GridSearchCV\n",
    "from sklearn.preprocessing import OneHotEncoder\n",
    "from sklearn.metrics import accuracy_score, classification_report, confusion_matrix\n",
    "from sklearn.ensemble import (\n",
    "    RandomForestClassifier, AdaBoostClassifier, GradientBoostingClassifier\n",
    ")\n",
    "from sklearn.linear_model import LogisticRegression\n",
    "from sklearn.tree import DecisionTreeClassifier\n",
    "from sklearn.neighbors import KNeighborsClassifier\n",
    "from sklearn.naive_bayes import GaussianNB\n",
    "from sklearn.svm import SVC\n",
    "from xgboost import XGBClassifier\n",
    "from sklearn.neural_network import MLPClassifier\n",
    "import catboost as catboost\n",
    "from catboost import CatBoostClassifier\n",
    "import warnings\n",
    "warnings.filterwarnings('ignore')"
   ]
  },
  {
   "cell_type": "markdown",
   "metadata": {
    "id": "SG1hpysZHpvB"
   },
   "source": [
    "# Import data"
   ]
  },
  {
   "cell_type": "code",
   "execution_count": null,
   "metadata": {
    "id": "prUnyhFJHpvC",
    "trusted": true
   },
   "outputs": [],
   "source": [
    "train_data = pd.read_csv('train.csv')\n",
    "test_data = pd.read_csv('test.csv')"
   ]
  },
  {
   "cell_type": "markdown",
   "metadata": {
    "id": "uzIf59QaHpvC"
   },
   "source": [
    "# Exploratory Data Analysis"
   ]
  },
  {
   "cell_type": "markdown",
   "metadata": {},
   "source": [
    "Data overview\n",
    "- PassengerId: Unique id for each passenger. No effect on the target feature.\n",
    "- Survived: Whether or not the passenger survived. This is the target feature.\n",
    "  - 0 = No, 1 = Yes\n",
    "- Pclass: Reflects the socio-economic status of the passenger.\n",
    "  - 1 = 1st, Upper Class\n",
    "  - 2 = 2nd, Middle Class\n",
    "  - 3 = 3rd, Lower Class\n",
    "- Name: The name of the passenger. Includes the title of the passenger, such as \"Mr.\", \"Mrs.\", and \"Master.\".\n",
    "- Sex: Gender of the passenger, either \"male\" or \"female\".\n",
    "- Age: The age of the passenger in years.\n",
    "- SibSp: # of siblings / spouses aboard the Titanic.\n",
    "- Parch: # of parents / children aboard the Titanic.\n",
    "- Ticket: The Ticket number.\n",
    "- Fare: Passenger fare.\n",
    "- Cabin: Cabin number of the passenger.\n",
    "- Embarked: Which port the passenger embarked from.\n",
    "  - C = Cherbourg\n",
    "  - Q = Queenstown\n",
    "  - S = Southampton"
   ]
  },
  {
   "cell_type": "code",
   "execution_count": null,
   "metadata": {
    "colab": {
     "base_uri": "https://localhost:8080/"
    },
    "id": "y_nU440ZHpvD",
    "outputId": "c6d6c0c5-4af0-4972-a282-1dd5d2e07db4",
    "trusted": true
   },
   "outputs": [],
   "source": [
    "train_data.head()"
   ]
  },
  {
   "cell_type": "code",
   "execution_count": null,
   "metadata": {},
   "outputs": [],
   "source": [
    "train_data.info()"
   ]
  },
  {
   "cell_type": "code",
   "execution_count": null,
   "metadata": {},
   "outputs": [],
   "source": [
    "train_data.shape"
   ]
  },
  {
   "cell_type": "code",
   "execution_count": null,
   "metadata": {
    "colab": {
     "base_uri": "https://localhost:8080/"
    },
    "id": "1nNzMjAGHpvE",
    "outputId": "f029b0c2-1ce6-40ab-c062-e67651a4f8a6",
    "trusted": true
   },
   "outputs": [],
   "source": [
    "test_data.head()"
   ]
  },
  {
   "cell_type": "code",
   "execution_count": null,
   "metadata": {},
   "outputs": [],
   "source": [
    "test_data.info()"
   ]
  },
  {
   "cell_type": "code",
   "execution_count": null,
   "metadata": {},
   "outputs": [],
   "source": [
    "test_data.shape"
   ]
  },
  {
   "cell_type": "markdown",
   "metadata": {
    "id": "BoicuMP9HpvF"
   },
   "source": [
    "# Features and Survival"
   ]
  },
  {
   "cell_type": "markdown",
   "metadata": {},
   "source": [
    "### Age Distribution by Survival Status\n",
    "This plot compares the age distribution between passengers who survived and those who did not.\n"
   ]
  },
  {
   "cell_type": "code",
   "execution_count": null,
   "metadata": {
    "colab": {
     "base_uri": "https://localhost:8080/",
     "height": 430
    },
    "id": "In7q41JtHpvI",
    "outputId": "1d12837e-b1a2-4b6e-e85f-bd3d2c187af4",
    "trusted": true
   },
   "outputs": [],
   "source": [
    "plt.figure(figsize=(6, 4))\n",
    "\n",
    "plt.hist(train_data[train_data['Survived'] == 1]['Age'], bins=30,\n",
    "         alpha=0.5, label='Survived', color='green', edgecolor='black')\n",
    "plt.hist(train_data[train_data['Survived'] == 0]['Age'], bins=30,\n",
    "         alpha=0.5, label='Did Not Survive', color='red', edgecolor='black')\n",
    "\n",
    "plt.title('Age Distribution by Survival Status')\n",
    "plt.xlabel('Age')\n",
    "plt.ylabel('Frequency')\n",
    "plt.legend()\n",
    "plt.grid(True)\n",
    "\n",
    "plt.show()"
   ]
  },
  {
   "cell_type": "markdown",
   "metadata": {},
   "source": [
    "- Younger passengers, especially those < 5 years old, seem to survive at a higher rate.\n",
    "- Older passengers seem to have a lower survival rate, especially around 40 - 75 years old."
   ]
  },
  {
   "cell_type": "markdown",
   "metadata": {},
   "source": [
    "### Fare Distribution by Survival Status\n",
    "This plot shows the distribution of fares paid by passengers who survived and those who did not.\n"
   ]
  },
  {
   "cell_type": "code",
   "execution_count": null,
   "metadata": {},
   "outputs": [],
   "source": [
    "plt.figure(figsize=(6, 4))\n",
    "\n",
    "plt.hist(train_data[train_data['Survived'] == 1]['Fare'], bins=30,\n",
    "         alpha=0.5, label='Survived', color='green', edgecolor='black')\n",
    "plt.hist(train_data[train_data['Survived'] == 0]['Fare'], bins=30,\n",
    "         alpha=0.5, label='Did Not Survive', color='red', edgecolor='black')\n",
    "\n",
    "plt.title('Fare Distribution by Survival Status')\n",
    "plt.xlabel('Fare')\n",
    "plt.ylabel('Frequency')\n",
    "plt.legend()\n",
    "plt.grid(True)\n",
    "\n",
    "plt.show()"
   ]
  },
  {
   "cell_type": "markdown",
   "metadata": {},
   "source": [
    "- Lower fares seemed to have survived less.\n",
    "- Higher fares seemed to survive more.\n",
    "- This can be correlated with the socio-economic status of the passenger."
   ]
  },
  {
   "cell_type": "markdown",
   "metadata": {},
   "source": [
    "### Survival Counts by Sex\n",
    "This bar chart displays the survival counts based on the passenger’s sex.\n"
   ]
  },
  {
   "cell_type": "code",
   "execution_count": null,
   "metadata": {},
   "outputs": [],
   "source": [
    "df = train_data.copy()\n",
    "df['Sex_Label'] = df['Sex'].map({'male': 'Male', 'female': 'Female'})\n",
    "\n",
    "survival_counts = df.groupby(['Sex_Label', 'Survived']).size().unstack()\n",
    "survival_counts.plot(kind='bar', stacked=False,\n",
    "                     figsize=(6, 4), color=['salmon', 'skyblue'])\n",
    "\n",
    "plt.title('Survival Counts by Sex')\n",
    "plt.xlabel('Sex')\n",
    "plt.ylabel('Number of People')\n",
    "plt.xticks(rotation=0)\n",
    "plt.legend(title='Survived', labels=['Did not Survive', 'Survived'])\n",
    "plt.grid(True)\n",
    "\n",
    "plt.show()"
   ]
  },
  {
   "cell_type": "markdown",
   "metadata": {},
   "source": [
    "- Females have a higher survival rate than males, which aligns with evacuation protocols that prioritized women and children.\n",
    "- Males have a significantly lower survival rate, likely due to this prioritization.\n"
   ]
  },
  {
   "cell_type": "markdown",
   "metadata": {},
   "source": [
    "### Survival Counts by Embarkation Point\n",
    "This plot displays survival counts based on the port where passengers embarked: Southampton (S), Cherbourg (C), or Queenstown (Q).\n"
   ]
  },
  {
   "cell_type": "code",
   "execution_count": null,
   "metadata": {},
   "outputs": [],
   "source": [
    "survival_counts = train_data.groupby(['Embarked', 'Survived']).size().unstack()\n",
    "\n",
    "survival_counts.plot(kind='bar', stacked=False,\n",
    "                     figsize=(6, 4), color=['salmon', 'skyblue'])\n",
    "\n",
    "plt.title('Survival Counts by Embarked')\n",
    "plt.xlabel('Embarked')\n",
    "plt.ylabel('Number of People')\n",
    "plt.xticks(rotation=0)\n",
    "plt.legend(title='Survived', labels=['Did not Survive', 'Survived'])\n",
    "plt.grid(True)\n",
    "\n",
    "plt.show()"
   ]
  },
  {
   "cell_type": "markdown",
   "metadata": {},
   "source": [
    "- Passengers from Cherbourg (C) had the highest survival rates, possibly reflecting higher socio-economic status.\n",
    "- Passengers from Southampton (S) had the lowest survival rates.\n"
   ]
  },
  {
   "cell_type": "markdown",
   "metadata": {},
   "source": [
    "### Survival Counts by Passenger Class\n",
    "This bar chart shows the survival counts based on passenger class (1st, 2nd, and 3rd class).\n"
   ]
  },
  {
   "cell_type": "code",
   "execution_count": null,
   "metadata": {},
   "outputs": [],
   "source": [
    "survival_counts = train_data.groupby(['Pclass', 'Survived']).size().unstack()\n",
    "\n",
    "survival_counts.plot(kind='bar', stacked=False,\n",
    "                     figsize=(6, 4), color=['salmon', 'skyblue'])\n",
    "\n",
    "plt.title('Survival Counts by Pclass')\n",
    "plt.xlabel('Pclass')\n",
    "plt.ylabel('Number of People')\n",
    "plt.xticks(rotation=0)\n",
    "plt.legend(title='Survived', labels=['Did not Survive', 'Survived'])\n",
    "plt.grid(True)\n",
    "\n",
    "plt.show()"
   ]
  },
  {
   "cell_type": "markdown",
   "metadata": {},
   "source": [
    "- 1st class passengers have a high chance of survival, while 3rd class passengers have a high chance of dying.\n",
    "- Socio-economic status seems to play a part for survival."
   ]
  },
  {
   "cell_type": "markdown",
   "metadata": {},
   "source": [
    "### Feature Engineering: Fill Missing Values\n",
    "First, we identify missing values in the training and test datasets to determine the most appropriate imputation strategy for each feature.\n"
   ]
  },
  {
   "cell_type": "code",
   "execution_count": null,
   "metadata": {},
   "outputs": [],
   "source": [
    "train_data.isnull().sum()"
   ]
  },
  {
   "cell_type": "markdown",
   "metadata": {},
   "source": [
    "Missing values in train data:\n",
    "\n",
    "- Age (177 missing values)\n",
    "- Cabin (687 missing values)\n",
    "- Embarked (2 missing values)"
   ]
  },
  {
   "cell_type": "code",
   "execution_count": null,
   "metadata": {},
   "outputs": [],
   "source": [
    "test_data.isnull().sum()"
   ]
  },
  {
   "cell_type": "markdown",
   "metadata": {},
   "source": [
    "Missing values in test data:\n",
    "\n",
    "- Age (86 missing values)\n",
    "- Cabin (327 missing values)\n",
    "- Fare (1 missing value)"
   ]
  },
  {
   "cell_type": "markdown",
   "metadata": {},
   "source": [
    "### Combine Datasets\n",
    "We combine the training and test data for consistent preprocessing and feature engineering. Later, we’ll split them back into separate datasets.\n"
   ]
  },
  {
   "cell_type": "code",
   "execution_count": null,
   "metadata": {},
   "outputs": [],
   "source": [
    "all_data = pd.concat([train_data, test_data])"
   ]
  },
  {
   "cell_type": "markdown",
   "metadata": {},
   "source": [
    "**Update Sex to binary value** \n",
    "\n",
    "- I change the Sex feature to a binary value, 0 = male, 1 = female. Later, this will be changed to one-hot encoded values."
   ]
  },
  {
   "cell_type": "code",
   "execution_count": null,
   "metadata": {},
   "outputs": [],
   "source": [
    "all_data['Sex'] = all_data['Sex'].map({'male':0,'female':1})"
   ]
  },
  {
   "cell_type": "markdown",
   "metadata": {},
   "source": [
    "### Impute Missing Ages Using `Pclass`\n",
    "To fill in missing `Age` values, we use the median age for each passenger class (`Pclass`) since `Pclass` is highly correlated with `Age`.\n"
   ]
  },
  {
   "cell_type": "code",
   "execution_count": null,
   "metadata": {},
   "outputs": [],
   "source": [
    "features = [\"Survived\", \"Pclass\", \"Sex\", \"SibSp\", \"Parch\", \"Fare\", \"Age\"]\n",
    "\n",
    "# Only select rows without missing Age values\n",
    "age_present = all_data[all_data['Age'].notna()]\n",
    "age_data = age_present[features]\n",
    "\n",
    "corr = age_data.corr()\n",
    "\n",
    "plt.figure(figsize=(7, 6))\n",
    "sns.heatmap(corr, annot=True, cmap='coolwarm', linewidths=0.5)\n",
    "plt.title('Correlation Matrix Heatmap')\n",
    "plt.show()"
   ]
  },
  {
   "cell_type": "markdown",
   "metadata": {},
   "source": [
    "- The highest correlated feature with Age is the Pclass. The missing `Age` values are filled with the median age for each `Pclass`, preserving meaningful differences in age distribution across classes.\n"
   ]
  },
  {
   "cell_type": "code",
   "execution_count": null,
   "metadata": {},
   "outputs": [],
   "source": [
    "median_ages = all_data.groupby(\"Pclass\")['Age'].transform('median')\n",
    "all_data['Age'] = all_data['Age'].fillna(median_ages)"
   ]
  },
  {
   "cell_type": "markdown",
   "metadata": {},
   "source": [
    "### Extract Deck and Create Cabin Missing Indicator\n",
    "\n",
    "- I replace this column with the following two features:\n",
    "    - Deck: The first letter in the cabin number. Set to \"U\" if Cabin is missing.\n",
    "    - CabinMissing: 1 if cabin is missing, 0 otherwise."
   ]
  },
  {
   "cell_type": "code",
   "execution_count": null,
   "metadata": {},
   "outputs": [],
   "source": [
    "all_data['Deck'] = all_data['Cabin'].str[0].fillna('U')\n",
    "all_data['CabinMissing'] = all_data['Cabin'].isna().astype(int)"
   ]
  },
  {
   "cell_type": "code",
   "execution_count": null,
   "metadata": {},
   "outputs": [],
   "source": [
    "survival_counts = all_data[:891].groupby(['Deck','Survived']).size().unstack()\n",
    "\n",
    "survival_counts.plot(kind='bar', stacked=False, figsize=(10,6), color = ['salmon','skyblue'])\n",
    "\n",
    "plt.title('Survival Counts by Deck')\n",
    "plt.xlabel('Deck')\n",
    "plt.ylabel('Number of People')\n",
    "plt.xticks(rotation=0)\n",
    "plt.legend(title='Survived', labels=['Did not Survive', 'Survived'])\n",
    "plt.grid(True)\n",
    "\n",
    "plt.show()"
   ]
  },
  {
   "cell_type": "markdown",
   "metadata": {},
   "source": [
    "- `Deck` is extracted from `Cabin` and filled with 'U' for missing values.\n",
    "- The `CabinMissing` indicator helps capture missing information which may correlate with survival.\n"
   ]
  },
  {
   "cell_type": "markdown",
   "metadata": {},
   "source": [
    "### Impute Missing Embarked Values\n",
    "\n",
    "\n",
    "\n",
    "- I fill the missing values with the most common value for similar rows.\n",
    "- There are only 2 missing values, so I set them to the mode embarked value of the passengers who are also female and on Deck \"B\"."
   ]
  },
  {
   "cell_type": "code",
   "execution_count": null,
   "metadata": {},
   "outputs": [],
   "source": [
    "missing_embarked = all_data[all_data[\"Embarked\"].isna()]\n",
    "missing_embarked"
   ]
  },
  {
   "cell_type": "code",
   "execution_count": null,
   "metadata": {},
   "outputs": [],
   "source": [
    "def mode_or_nan(series):\n",
    "    mode = series.mode()\n",
    "    return mode[0] if not mode.empty else np.nan\n",
    "\n",
    "all_data['Embarked'] = all_data.groupby(['Sex','Deck'])['Embarked'].transform(lambda x: x.fillna(mode_or_nan(x)))"
   ]
  },
  {
   "cell_type": "markdown",
   "metadata": {},
   "source": [
    "- Missing `Embarked` values are filled with the mode of similar rows based on `Sex` and `Deck`.\n"
   ]
  },
  {
   "cell_type": "markdown",
   "metadata": {},
   "source": [
    "### Impute Missing Fare Values\n",
    "\n",
    "- I fill the missing fare values with the mean fare value for the highest correlated feature, which is the Pclass."
   ]
  },
  {
   "cell_type": "code",
   "execution_count": null,
   "metadata": {},
   "outputs": [],
   "source": [
    "all_data[all_data.Fare.isna()]"
   ]
  },
  {
   "cell_type": "code",
   "execution_count": null,
   "metadata": {},
   "outputs": [],
   "source": [
    "all_data[\"Fare\"] = all_data.groupby(\"Pclass\")[\"Fare\"].transform(\n",
    "    lambda x: x.fillna(x.mean())\n",
    ")"
   ]
  },
  {
   "cell_type": "markdown",
   "metadata": {},
   "source": [
    "- Missing `Fare` values are filled based on the mean fare of passengers in the same `Pclass`.\n"
   ]
  },
  {
   "cell_type": "markdown",
   "metadata": {},
   "source": [
    "# New Features"
   ]
  },
  {
   "cell_type": "markdown",
   "metadata": {},
   "source": [
    "### Create New Features\n",
    "1. `TicketCount`: The number of passengers with the same ticket, indicating group size.\n",
    "2. `FamilySize`: Combines `SibSp` and `Parch` to capture the family size.\n"
   ]
  },
  {
   "cell_type": "code",
   "execution_count": null,
   "metadata": {},
   "outputs": [],
   "source": [
    "all_data[\"TicketCount\"] = all_data.groupby(\n",
    "    \"Ticket\")[\"Ticket\"].transform(\"count\")"
   ]
  },
  {
   "cell_type": "code",
   "execution_count": null,
   "metadata": {},
   "outputs": [],
   "source": [
    "all_data[\"FamilySize\"] = all_data[\"SibSp\"] + all_data[\"Parch\"] + 1"
   ]
  },
  {
   "cell_type": "markdown",
   "metadata": {},
   "source": [
    "- `TicketCount` might indicate group size, which can impact survival probability.\n",
    "- `FamilySize` can affect survival as passengers traveling alone may face different survival chances than those with family.\n"
   ]
  },
  {
   "cell_type": "markdown",
   "metadata": {},
   "source": [
    "### Create IsAlone Feature\n",
    "Create `IsAlone`, which is 1 if `FamilySize` is 1, indicating the passenger is traveling alone."
   ]
  },
  {
   "cell_type": "code",
   "execution_count": null,
   "metadata": {},
   "outputs": [],
   "source": [
    "all_data[\"IsAlone\"] = (all_data[\"FamilySize\"] == 1).astype(int)"
   ]
  },
  {
   "cell_type": "markdown",
   "metadata": {},
   "source": [
    "- `IsAlone` could reveal differences in survival rates based on whether a passenger is alone or with family."
   ]
  },
  {
   "cell_type": "markdown",
   "metadata": {},
   "source": [
    "### Create Age Bins\n",
    "Bin `Age` into categorical ranges to simplify age-based differences in survival rates.\n"
   ]
  },
  {
   "cell_type": "code",
   "execution_count": null,
   "metadata": {},
   "outputs": [],
   "source": [
    "all_data[\"Age\"].describe()"
   ]
  },
  {
   "cell_type": "code",
   "execution_count": null,
   "metadata": {},
   "outputs": [],
   "source": [
    "bins = [x*10 for x in range(10)]\n",
    "labels = range(1, len(bins))\n",
    "\n",
    "all_data[\"AgeBin\"] = pd.cut(\n",
    "    all_data[\"Age\"], bins=bins, labels=labels, right=False)"
   ]
  },
  {
   "cell_type": "markdown",
   "metadata": {},
   "source": [
    "- `AgeBin` allows us to group passengers by age range, which can capture non-linear relationships between age and survival.\n"
   ]
  },
  {
   "cell_type": "markdown",
   "metadata": {},
   "source": [
    "### Extract and Group Titles from Names\n",
    "\n",
    "- This is extracted from the Name feature of each passenger.\n",
    "- It seems to carry potential information such as their gender (Mr. for male, Mrs. for female) and their age (Master. is given to boys)."
   ]
  },
  {
   "cell_type": "code",
   "execution_count": null,
   "metadata": {},
   "outputs": [],
   "source": [
    "all_data[\"Title\"] = all_data[\"Name\"].apply(\n",
    "    lambda x: x.split(',')[1].split()[0])\n",
    "all_data[\"Title\"].unique()"
   ]
  },
  {
   "cell_type": "code",
   "execution_count": null,
   "metadata": {},
   "outputs": [],
   "source": [
    "plt.figure(figsize=(7, 6))\n",
    "all_data[\"Title\"].value_counts().plot(kind='bar', color='skyblue')\n",
    "plt.show()"
   ]
  },
  {
   "cell_type": "code",
   "execution_count": null,
   "metadata": {},
   "outputs": [],
   "source": [
    "match_list = [\"the\", \"Jonkheer.\", \"Dona.\", \"Mlle.\", \"Mme.\", \"Don.\"]\n",
    "\n",
    "all_data[all_data[\"Name\"].apply(\n",
    "    lambda x: x.split(',')[1].split()[0]).isin(match_list)]"
   ]
  },
  {
   "cell_type": "markdown",
   "metadata": {},
   "source": [
    "- Jonkheer., Dona., Mlle., MMe. and Don. seem to be the names of passengers.\n",
    "- \"the\" is for PassengerId 760. It's followed by the term \"Countess\".\n",
    "\n",
    "I'll group together these titles by similarity into one of four groups:\n",
    "\n",
    "- Mr\n",
    "- Mrs/Miss\n",
    "- Master\n",
    "- Officer/Professional"
   ]
  },
  {
   "cell_type": "code",
   "execution_count": null,
   "metadata": {},
   "outputs": [],
   "source": [
    "replacements = {\n",
    "    'Mr.': 'Mr',\n",
    "    'Mrs.': 'Mrs/Miss',\n",
    "    'Miss.': 'Mrs/Miss',\n",
    "    'Master.': 'Master',\n",
    "    'Don.': 'Mr',\n",
    "    'Rev.': 'Officer/Professional',\n",
    "    'Dr.': 'Officer/Professional',\n",
    "    'Mme.': 'Mrs/Miss',\n",
    "    'Ms.': 'Mrs/Miss',\n",
    "    'Major.': 'Officer/Professional',\n",
    "    'Lady.': 'Mrs/Miss',\n",
    "    'Sir.': 'Mr',\n",
    "    'Mlle.': 'Mrs/Miss',\n",
    "    'Col.': 'Officer/Professional',\n",
    "    'Capt.': 'Officer/Professional',\n",
    "    'the': 'Mrs/Miss',\n",
    "    'Jonkheer.': 'Mr',\n",
    "    'Dona.': 'Mrs/Miss'\n",
    "}\n",
    "\n",
    "all_data[\"Title\"] = all_data[\"Title\"].replace(replacements)\n",
    "\n",
    "all_data[\"Title\"].unique()"
   ]
  },
  {
   "cell_type": "markdown",
   "metadata": {},
   "source": [
    "- Titles can provide insight into social status or gender and age (e.g., Master for young boys).\n"
   ]
  },
  {
   "cell_type": "markdown",
   "metadata": {},
   "source": [
    "### One-Hot Encode Categorical Variables\n",
    "Convert categorical variables (e.g., `Pclass`, `Title`, `Embarked`, `AgeBin`) into one-hot encoded features for model compatibility.\n"
   ]
  },
  {
   "cell_type": "code",
   "execution_count": null,
   "metadata": {},
   "outputs": [],
   "source": [
    "one_hot_columns = [\"Pclass\", \"Title\", \"Embarked\", \"Deck\", \"Sex\"]\n",
    "\n",
    "encoder = OneHotEncoder(sparse_output=False, dtype=int)\n",
    "encoded_features = encoder.fit_transform(all_data[one_hot_columns])\n",
    "encoded_df = pd.DataFrame(\n",
    "    encoded_features, columns=encoder.get_feature_names_out(one_hot_columns))\n",
    "encoded_df.index = all_data.index"
   ]
  },
  {
   "cell_type": "code",
   "execution_count": null,
   "metadata": {},
   "outputs": [],
   "source": [
    "df_final = pd.concat([all_data, encoded_df], axis=1)"
   ]
  },
  {
   "cell_type": "code",
   "execution_count": null,
   "metadata": {},
   "outputs": [],
   "source": [
    "df_final.columns \n",
    "# Convert categorical columns to one-hot encoding or label encoding\n",
    "# One-hot encode AgeBin\n",
    "df_final = pd.get_dummies(df_final, columns=[\"AgeBin\"])"
   ]
  },
  {
   "cell_type": "code",
   "execution_count": null,
   "metadata": {},
   "outputs": [],
   "source": [
    "df_final.columns"
   ]
  },
  {
   "cell_type": "markdown",
   "metadata": {},
   "source": [
    "- One-hot encoding allows categorical data to be represented numerically, making it suitable for model input.\n"
   ]
  },
  {
   "cell_type": "markdown",
   "metadata": {},
   "source": [
    "### Drop Irrelevant Columns\n",
    "Remove columns that are no longer needed after feature engineering (e.g., original categorical columns and IDs).\n"
   ]
  },
  {
   "cell_type": "code",
   "execution_count": null,
   "metadata": {},
   "outputs": [],
   "source": [
    "drop_cols = [\"Ticket\", \"Cabin\", \"Name\", \"PassengerId\", \"Age\",\n",
    "             \"SibSp\", \"Parch\", \"Pclass\", \"Embarked\", \"Title\", \"Deck\", \"Sex\"]\n",
    "\n",
    "df_final.drop(columns=drop_cols, inplace=True)"
   ]
  },
  {
   "cell_type": "markdown",
   "metadata": {},
   "source": [
    "- Dropping these columns reduces dimensionality, keeping only relevant engineered features.\n"
   ]
  },
  {
   "cell_type": "code",
   "execution_count": null,
   "metadata": {},
   "outputs": [],
   "source": [
    "df_final.columns"
   ]
  },
  {
   "cell_type": "code",
   "execution_count": null,
   "metadata": {},
   "outputs": [],
   "source": [
    "df_final.head()"
   ]
  },
  {
   "cell_type": "markdown",
   "metadata": {},
   "source": [
    "### Split Data Back into Train and Test Sets\n",
    "After feature engineering, separate the data back into training and test sets for model training and evaluation.\n"
   ]
  },
  {
   "cell_type": "code",
   "execution_count": null,
   "metadata": {},
   "outputs": [],
   "source": [
    "# Split the data back into the train and test sets\n",
    "df_train = df_final[:891]\n",
    "df_test = df_final[891:]"
   ]
  },
  {
   "cell_type": "code",
   "execution_count": null,
   "metadata": {},
   "outputs": [],
   "source": [
    "print(df_train.shape)\n",
    "print(df_test.shape)"
   ]
  },
  {
   "cell_type": "code",
   "execution_count": null,
   "metadata": {},
   "outputs": [],
   "source": [
    "df_test.drop(columns=['Survived'], inplace=True)"
   ]
  },
  {
   "cell_type": "code",
   "execution_count": null,
   "metadata": {},
   "outputs": [],
   "source": [
    "X_train = df_train.drop(columns=\"Survived\")\n",
    "y_train = df_train[\"Survived\"].values\n",
    "\n",
    "X_test = df_test"
   ]
  },
  {
   "cell_type": "markdown",
   "metadata": {},
   "source": [
    "- Data is split back into training and testing sets with the target variable (`Survived`) separated for training.\n"
   ]
  },
  {
   "cell_type": "code",
   "execution_count": null,
   "metadata": {},
   "outputs": [],
   "source": [
    "X_train.head()"
   ]
  },
  {
   "cell_type": "markdown",
   "metadata": {},
   "source": [
    "# Model Selection and Hyperparameter Tuning\n",
    "\n",
    "We use various machine learning algorithms to predict Titanic survival, including:\n",
    "- **Random Forest**: A robust ensemble method that performs well on tabular data.\n",
    "- **Logistic Regression**: A simple, interpretable linear model often used in binary classification.\n",
    "- **Artificial Neural Network (ANN)**: A basic neural network that can capture complex patterns.\n",
    "- **Decision Tree**: A non-linear model that performs well with high interpretability.\n",
    "- **Support Vector Machine (SVM)**: A powerful classification algorithm that creates decision boundaries.\n",
    "- **k-Nearest Neighbors (k-NN)**: A non-parametric method that relies on feature similarity.\n",
    "- **Naive Bayes**: A simple probabilistic classifier based on Bayes' theorem.\n",
    "- **AdaBoost and Gradient Boosting**: Ensemble methods that iteratively improve weak learners.\n",
    "- **XGBoost and CatBoost**: Gradient-boosting models optimized for performance on structured data.\n",
    "\n",
    "For each model, we define a parameter grid for `GridSearchCV` to perform hyperparameter tuning and select the best combination of parameters using cross-validation. This will optimize each model’s performance by finding the most suitable parameter values.\n"
   ]
  },
  {
   "cell_type": "code",
   "execution_count": null,
   "metadata": {},
   "outputs": [],
   "source": [
    "# Define all models with base parameters for GridSearchCV\n",
    "models = {\n",
    "    'Random Forest': RandomForestClassifier(class_weight='balanced'),\n",
    "    'Logistic Regression': LogisticRegression(max_iter=200),\n",
    "    'Artificial Neural Network': MLPClassifier(max_iter=200),\n",
    "    'Decision Tree': DecisionTreeClassifier(criterion='gini'),\n",
    "    'Support Vector Machine': SVC(),\n",
    "    'k-Nearest Neighbors': KNeighborsClassifier(),\n",
    "    'Naive Bayes': GaussianNB(),\n",
    "    'AdaBoost': AdaBoostClassifier(),\n",
    "    'Gradient Boosting': GradientBoostingClassifier(),\n",
    "    'XGBoost': XGBClassifier(use_label_encoder=False, eval_metric='logloss'),\n",
    "    'CatBoost': CatBoostClassifier(verbose=0)\n",
    "}"
   ]
  },
  {
   "cell_type": "markdown",
   "metadata": {},
   "source": [
    "This dictionary contains the initialized models, each with some default parameters to be further tuned with `GridSearchCV`. Each model has different characteristics that may contribute to improved performance in predicting survival on the Titanic dataset.\n"
   ]
  },
  {
   "cell_type": "markdown",
   "metadata": {},
   "source": [
    "### Defining Parameter Grids for GridSearchCV\n",
    "\n",
    "Here, we define the parameter grids for each model. These grids contain values for each hyperparameter to test during cross-validation. Notable parameters for each model include:\n",
    "- **Random Forest**: Number of estimators (trees), maximum tree depth, minimum samples per split, etc.\n",
    "- **Logistic Regression**: Regularization strength, solver type, and maximum iterations.\n",
    "- **Artificial Neural Network**: Number of hidden layers, activation function, learning rate, and maximum iterations.\n",
    "- **Support Vector Machine**: Penalty parameter (C), kernel type, and gamma for non-linear kernels.\n",
    "- **AdaBoost** and **Gradient Boosting**: Learning rate, number of estimators, and parameters for weak learners.\n",
    "- **XGBoost and CatBoost**: Number of boosting iterations, learning rate, and regularization parameters, among others.\n",
    "\n",
    "These parameter grids will be used in `GridSearchCV` to test multiple combinations, identifying the optimal parameter set for each model.\n"
   ]
  },
  {
   "cell_type": "code",
   "execution_count": null,
   "metadata": {},
   "outputs": [],
   "source": [
    "# Define parameter grids for models that will use GridSearchCV\n",
    "param_grids = {\n",
    "    'Random Forest': {'n_estimators': [100, 200, 300], 'max_depth': [5, 10, 15, None], 'min_samples_split': [2, 5, 10], 'min_samples_leaf': [1, 2, 4]},\n",
    "    'Logistic Regression': {'C': [0.01, 0.1, 0.5, 1.0, 10], 'solver': ['liblinear', 'lbfgs', 'saga'],'penalty': ['l1', 'l2', 'elasticnet'], 'max_iter': [100, 200, 300]},\n",
    "    'Artificial Neural Network': {'hidden_layer_sizes': [(50, 30), (100,),(100, 50),(150, 100, 50)], 'solver': ['adam','sgd'], 'alpha': [0.0001, 0.001, 0.01], 'learning_rate': ['constant', 'adaptive'], 'max_iter': [200, 300, 500]},\n",
    "    'Decision Tree': {'max_depth': [5, 10, 15, None], 'min_samples_split': [2, 5, 10], 'min_samples_leaf': [1, 2, 4], 'criterion': ['gini', 'entropy', 'log_loss']},\n",
    "    'Support Vector Machine': {'C': [0.1, 0.5, 1.0, 10], 'kernel': ['rbf', 'linear'], 'gamma': ['scale', 'auto']},\n",
    "    'k-Nearest Neighbors': {'n_neighbors': [3, 5, 7, 10], 'weights': ['uniform', 'distance'], 'metric': ['euclidean', 'manhattan', 'minkowski']},\n",
    "    'Naive Bayes': {'var_smoothing': [1e-9, 1e-8, 1e-7, 1e-6, 1e-5]},  # Test different levels of variance smoothing\n",
    "    'AdaBoost': {'n_estimators': [50, 100, 200], 'learning_rate': [0.1, 0.5, 1.0, 1.5]},\n",
    "    'Gradient Boosting': {'n_estimators': [100, 150, 200, 300], 'learning_rate': [0.01, 0.05, 0.1, 0.2], 'max_depth': [3, 5, 7], 'subsample': [0.7, 0.8, 1.0], 'min_samples_split': [2, 5, 10]},\n",
    "    'XGBoost': {'n_estimators': [100, 150, 200, 300], 'learning_rate': [0.01, 0.05, 0.1, 0.2], 'max_depth': [3, 5, 7], 'subsample': [0.7, 0.8, 1.0], 'colsample_bytree': [0.5, 0.8, 1.0], 'gamma': [0, 0.1, 0.3], 'reg_alpha': [0, 0.01, 0.1], 'reg_lambda': [1, 1.5, 2]},\n",
    "    'CatBoost': {'iterations': [100, 150, 200, 300],  'learning_rate': [0.01, 0.05, 0.1, 0.2],  'depth': [3, 5, 7, 10], 'l2_leaf_reg': [1, 3, 5, 7], 'bagging_temperature': [0.0, 0.5, 1.0], 'border_count': [32, 64, 128]}\n",
    "}"
   ]
  },
  {
   "cell_type": "markdown",
   "metadata": {},
   "source": [
    "The parameters defined in each grid cover a range of potential values, allowing `GridSearchCV` to find the most effective hyperparameters through cross-validation.\n"
   ]
  },
  {
   "cell_type": "markdown",
   "metadata": {},
   "source": [
    "### Train Models and Perform Hyperparameter Tuning\n",
    "\n",
    "For each model, we use `GridSearchCV` to search for the optimal hyperparameters through 5-fold cross-validation. The best-performing model for each algorithm is then selected based on the highest cross-validation accuracy.\n"
   ]
  },
  {
   "cell_type": "code",
   "execution_count": null,
   "metadata": {},
   "outputs": [],
   "source": [
    "# Track performance of each model\n",
    "model_performance = []\n",
    "\n",
    "# Split the data into training and validation sets\n",
    "train_x, X_val, train_y, y_val = train_test_split(\n",
    "    X_train, y_train, test_size=0.2, random_state=42)\n",
    "\n",
    "for model_name, model in models.items():\n",
    "    print(f\"Training {model_name}...\")\n",
    "\n",
    "    # Get the parameter grid for the model\n",
    "    param_grid = param_grids.get(model_name, {})\n",
    "\n",
    "    # Initialize best model\n",
    "    best_model = model\n",
    "\n",
    "    # If there are parameters to tune, use GridSearchCV\n",
    "    if param_grid:\n",
    "        grid_search_cv = GridSearchCV(\n",
    "            estimator=model, param_grid=param_grid, cv=5, n_jobs=-1, scoring='accuracy', verbose=0)\n",
    "        grid_search_cv.fit(train_x, train_y)\n",
    "\n",
    "        # Extract the best model and parameters\n",
    "        best_model = grid_search_cv.best_estimator_\n",
    "        best_params = grid_search_cv.best_params_\n",
    "        best_score = grid_search_cv.best_score_\n",
    "\n",
    "        print(f\"Best Parameters for {model_name}: {best_params}\")\n",
    "        print(\n",
    "            f\"Best Cross-Validation Accuracy for {model_name}: {best_score:.4f}\")\n",
    "    else:\n",
    "        # If no parameters to tune, fit model as-is\n",
    "        best_model.fit(train_x, train_y)\n",
    "\n",
    "    # Predict on validation set with best model\n",
    "    y_pred = best_model.predict(X_val)\n",
    "\n",
    "    # Calculate accuracy and detailed metrics\n",
    "    accuracy = accuracy_score(y_val, y_pred)\n",
    "    report = classification_report(y_val, y_pred, output_dict=True)\n",
    "\n",
    "    print(f\"{model_name} Validation Accuracy: {accuracy:.4f}\")\n",
    "    print(classification_report(y_val, y_pred))\n",
    "    print(\"Confusion Matrix:\\n\", confusion_matrix(y_val, y_pred))\n",
    "    print(\"\\n\" + \"=\"*50 + \"\\n\")\n",
    "\n",
    "    # Append results to model_performance list\n",
    "    model_performance.append({\n",
    "        'Model': model_name,\n",
    "        'Best Parameters': best_params if param_grid else \"Default\",\n",
    "        'Cross-Validation Accuracy': best_score if param_grid else \"Not Applicable\",\n",
    "        'Validation Accuracy': accuracy,\n",
    "        'Precision': report['weighted avg']['precision'],\n",
    "        'Recall': report['weighted avg']['recall'],\n",
    "        'F1 Score': report['weighted avg']['f1-score']\n",
    "    })\n"
   ]
  },
  {
   "cell_type": "markdown",
   "metadata": {},
   "source": [
    "Each model is trained and evaluated on the validation set, with the best-performing hyperparameters applied. Performance metrics, including accuracy, precision, recall, and F1-score, are recorded for comparison.\n"
   ]
  },
  {
   "cell_type": "markdown",
   "metadata": {},
   "source": [
    "# Evaluate and Compare Model Performance\n",
    "\n",
    "After training, we compare all models based on validation accuracy to identify the best-performing model for Titanic survival prediction.\n"
   ]
  },
  {
   "cell_type": "code",
   "execution_count": null,
   "metadata": {},
   "outputs": [],
   "source": [
    "# Convert results to a DataFrame for better comparison\n",
    "performance_df = pd.DataFrame(model_performance).sort_values(\n",
    "    by='Cross-Validation Accuracy', ascending=False)\n",
    "performance_df"
   ]
  },
  {
   "cell_type": "markdown",
   "metadata": {},
   "source": [
    "This DataFrame ranks the models based on validation accuracy, allowing us to easily see which model performed the best on the validation set.\n"
   ]
  },
  {
   "cell_type": "markdown",
   "metadata": {
    "id": "u-gfA-zbHpvq"
   },
   "source": [
    "### Select and Train the Best Model\n",
    "\n",
    "Based on validation accuracy, we choose the best model (e.g., Gradient Boosting). This model is then retrained on the full training data using the best hyperparameters from `GridSearchCV`.\n"
   ]
  },
  {
   "cell_type": "code",
   "execution_count": null,
   "metadata": {
    "id": "rztTlyUnHpvq",
    "trusted": true
   },
   "outputs": [],
   "source": [
    "best_model = performance_df.iloc[0]['Model']\n",
    "print(f\"Best Model: {best_model}\")\n",
    "print(f\"Best Model Parameters: {performance_df.iloc[0]['Best Parameters']}\")\n",
    "\n",
    "# Retrieve the best parameters and model\n",
    "best_params = param_grids[best_model]\n",
    "best_model = models[best_model]\n",
    "\n",
    "# Re-run GridSearchCV on the full training data to use the best parameters for the best model\n",
    "grid_search_cv = GridSearchCV(estimator=best_model, param_grid=best_params, cv=5, n_jobs=-1, scoring='accuracy')\n",
    "grid_search_cv.fit(X_train, y_train)\n",
    "\n",
    "# Get the best estimator from grid search\n",
    "final_model = grid_search_cv.best_estimator_"
   ]
  },
  {
   "cell_type": "markdown",
   "metadata": {},
   "source": [
    "The best model is selected and retrained on the entire training set with the optimal parameters. This final model will be used to make predictions on the test data.\n"
   ]
  },
  {
   "cell_type": "markdown",
   "metadata": {},
   "source": [
    "### Generate Predictions and Create Submission File\n",
    "\n",
    "Using the final trained model, we predict survival outcomes on the test dataset and save the results in a CSV file for Kaggle submission.\n"
   ]
  },
  {
   "cell_type": "code",
   "execution_count": null,
   "metadata": {},
   "outputs": [],
   "source": [
    "# Make predictions on the test data\n",
    "prediction = final_model.predict(X_test)\n",
    "\n",
    "# Create a submission file\n",
    "submission = pd.DataFrame(\n",
    "    {'PassengerId': test_data.PassengerId, 'Survived': prediction.astype(int)})\n",
    "submission.to_csv('titanic_submission_all_comparision.csv', index=False)"
   ]
  }
 ],
 "metadata": {
  "accelerator": "TPU",
  "colab": {
   "gpuType": "V28",
   "name": "Titanic",
   "provenance": []
  },
  "kaggle": {
   "accelerator": "none",
   "dataSources": [
    {
     "databundleVersionId": 26502,
     "sourceId": 3136,
     "sourceType": "competition"
    }
   ],
   "dockerImageVersionId": 30786,
   "isGpuEnabled": false,
   "isInternetEnabled": true,
   "language": "python",
   "sourceType": "notebook"
  },
  "kernelspec": {
   "display_name": "kaggle",
   "language": "python",
   "name": "python3"
  },
  "language_info": {
   "codemirror_mode": {
    "name": "ipython",
    "version": 3
   },
   "file_extension": ".py",
   "mimetype": "text/x-python",
   "name": "python",
   "nbconvert_exporter": "python",
   "pygments_lexer": "ipython3",
   "version": "3.10.15"
  },
  "widgets": {
   "application/vnd.jupyter.widget-state+json": {
    "12655640e9a647039ba191c70d2bb1f0": {
     "model_module": "@jupyter-widgets/controls",
     "model_module_version": "1.5.0",
     "model_name": "PasswordModel",
     "state": {
      "_dom_classes": [],
      "_model_module": "@jupyter-widgets/controls",
      "_model_module_version": "1.5.0",
      "_model_name": "PasswordModel",
      "_view_count": null,
      "_view_module": "@jupyter-widgets/controls",
      "_view_module_version": "1.5.0",
      "_view_name": "PasswordView",
      "continuous_update": true,
      "description": "Token:",
      "description_tooltip": null,
      "disabled": false,
      "layout": "IPY_MODEL_44698e70fe464986b768ff1924367190",
      "placeholder": "​",
      "style": "IPY_MODEL_130ca7f75bc1404a8ec6ec16ace3674f",
      "value": ""
     }
    },
    "130ca7f75bc1404a8ec6ec16ace3674f": {
     "model_module": "@jupyter-widgets/controls",
     "model_module_version": "1.5.0",
     "model_name": "DescriptionStyleModel",
     "state": {
      "_model_module": "@jupyter-widgets/controls",
      "_model_module_version": "1.5.0",
      "_model_name": "DescriptionStyleModel",
      "_view_count": null,
      "_view_module": "@jupyter-widgets/base",
      "_view_module_version": "1.2.0",
      "_view_name": "StyleView",
      "description_width": ""
     }
    },
    "20cccc3aba854f569b96d713e9f7f9f3": {
     "model_module": "@jupyter-widgets/controls",
     "model_module_version": "1.5.0",
     "model_name": "VBoxModel",
     "state": {
      "_dom_classes": [],
      "_model_module": "@jupyter-widgets/controls",
      "_model_module_version": "1.5.0",
      "_model_name": "VBoxModel",
      "_view_count": null,
      "_view_module": "@jupyter-widgets/controls",
      "_view_module_version": "1.5.0",
      "_view_name": "VBoxView",
      "box_style": "",
      "children": [
       "IPY_MODEL_fc7768e2c67949819efac014b36ace53"
      ],
      "layout": "IPY_MODEL_c7d1e581d75a4c71b37fbc9125d6bd1f"
     }
    },
    "23bc8b87b5474e118f13c691fdb65b60": {
     "model_module": "@jupyter-widgets/base",
     "model_module_version": "1.2.0",
     "model_name": "LayoutModel",
     "state": {
      "_model_module": "@jupyter-widgets/base",
      "_model_module_version": "1.2.0",
      "_model_name": "LayoutModel",
      "_view_count": null,
      "_view_module": "@jupyter-widgets/base",
      "_view_module_version": "1.2.0",
      "_view_name": "LayoutView",
      "align_content": null,
      "align_items": null,
      "align_self": null,
      "border": null,
      "bottom": null,
      "display": null,
      "flex": null,
      "flex_flow": null,
      "grid_area": null,
      "grid_auto_columns": null,
      "grid_auto_flow": null,
      "grid_auto_rows": null,
      "grid_column": null,
      "grid_gap": null,
      "grid_row": null,
      "grid_template_areas": null,
      "grid_template_columns": null,
      "grid_template_rows": null,
      "height": null,
      "justify_content": null,
      "justify_items": null,
      "left": null,
      "margin": null,
      "max_height": null,
      "max_width": null,
      "min_height": null,
      "min_width": null,
      "object_fit": null,
      "object_position": null,
      "order": null,
      "overflow": null,
      "overflow_x": null,
      "overflow_y": null,
      "padding": null,
      "right": null,
      "top": null,
      "visibility": null,
      "width": null
     }
    },
    "439165d3dbe84ed58ce52b800f19a016": {
     "model_module": "@jupyter-widgets/controls",
     "model_module_version": "1.5.0",
     "model_name": "DescriptionStyleModel",
     "state": {
      "_model_module": "@jupyter-widgets/controls",
      "_model_module_version": "1.5.0",
      "_model_name": "DescriptionStyleModel",
      "_view_count": null,
      "_view_module": "@jupyter-widgets/base",
      "_view_module_version": "1.2.0",
      "_view_name": "StyleView",
      "description_width": ""
     }
    },
    "44698e70fe464986b768ff1924367190": {
     "model_module": "@jupyter-widgets/base",
     "model_module_version": "1.2.0",
     "model_name": "LayoutModel",
     "state": {
      "_model_module": "@jupyter-widgets/base",
      "_model_module_version": "1.2.0",
      "_model_name": "LayoutModel",
      "_view_count": null,
      "_view_module": "@jupyter-widgets/base",
      "_view_module_version": "1.2.0",
      "_view_name": "LayoutView",
      "align_content": null,
      "align_items": null,
      "align_self": null,
      "border": null,
      "bottom": null,
      "display": null,
      "flex": null,
      "flex_flow": null,
      "grid_area": null,
      "grid_auto_columns": null,
      "grid_auto_flow": null,
      "grid_auto_rows": null,
      "grid_column": null,
      "grid_gap": null,
      "grid_row": null,
      "grid_template_areas": null,
      "grid_template_columns": null,
      "grid_template_rows": null,
      "height": null,
      "justify_content": null,
      "justify_items": null,
      "left": null,
      "margin": null,
      "max_height": null,
      "max_width": null,
      "min_height": null,
      "min_width": null,
      "object_fit": null,
      "object_position": null,
      "order": null,
      "overflow": null,
      "overflow_x": null,
      "overflow_y": null,
      "padding": null,
      "right": null,
      "top": null,
      "visibility": null,
      "width": null
     }
    },
    "44e42c1b53204a48a4c4041aa7939dc0": {
     "model_module": "@jupyter-widgets/controls",
     "model_module_version": "1.5.0",
     "model_name": "DescriptionStyleModel",
     "state": {
      "_model_module": "@jupyter-widgets/controls",
      "_model_module_version": "1.5.0",
      "_model_name": "DescriptionStyleModel",
      "_view_count": null,
      "_view_module": "@jupyter-widgets/base",
      "_view_module_version": "1.2.0",
      "_view_name": "StyleView",
      "description_width": ""
     }
    },
    "4e3cc4d5a3834ed598a4d448f09174e0": {
     "model_module": "@jupyter-widgets/controls",
     "model_module_version": "1.5.0",
     "model_name": "LabelModel",
     "state": {
      "_dom_classes": [],
      "_model_module": "@jupyter-widgets/controls",
      "_model_module_version": "1.5.0",
      "_model_name": "LabelModel",
      "_view_count": null,
      "_view_module": "@jupyter-widgets/controls",
      "_view_module_version": "1.5.0",
      "_view_name": "LabelView",
      "description": "",
      "description_tooltip": null,
      "layout": "IPY_MODEL_23bc8b87b5474e118f13c691fdb65b60",
      "placeholder": "​",
      "style": "IPY_MODEL_44e42c1b53204a48a4c4041aa7939dc0",
      "value": "Connecting..."
     }
    },
    "5da2d97d7e9e4a1b9f876b585796ee8d": {
     "model_module": "@jupyter-widgets/base",
     "model_module_version": "1.2.0",
     "model_name": "LayoutModel",
     "state": {
      "_model_module": "@jupyter-widgets/base",
      "_model_module_version": "1.2.0",
      "_model_name": "LayoutModel",
      "_view_count": null,
      "_view_module": "@jupyter-widgets/base",
      "_view_module_version": "1.2.0",
      "_view_name": "LayoutView",
      "align_content": null,
      "align_items": null,
      "align_self": null,
      "border": null,
      "bottom": null,
      "display": null,
      "flex": null,
      "flex_flow": null,
      "grid_area": null,
      "grid_auto_columns": null,
      "grid_auto_flow": null,
      "grid_auto_rows": null,
      "grid_column": null,
      "grid_gap": null,
      "grid_row": null,
      "grid_template_areas": null,
      "grid_template_columns": null,
      "grid_template_rows": null,
      "height": null,
      "justify_content": null,
      "justify_items": null,
      "left": null,
      "margin": null,
      "max_height": null,
      "max_width": null,
      "min_height": null,
      "min_width": null,
      "object_fit": null,
      "object_position": null,
      "order": null,
      "overflow": null,
      "overflow_x": null,
      "overflow_y": null,
      "padding": null,
      "right": null,
      "top": null,
      "visibility": null,
      "width": null
     }
    },
    "6203a0ffcc484b84a6bd2ab5e8f358d7": {
     "model_module": "@jupyter-widgets/controls",
     "model_module_version": "1.5.0",
     "model_name": "ButtonStyleModel",
     "state": {
      "_model_module": "@jupyter-widgets/controls",
      "_model_module_version": "1.5.0",
      "_model_name": "ButtonStyleModel",
      "_view_count": null,
      "_view_module": "@jupyter-widgets/base",
      "_view_module_version": "1.2.0",
      "_view_name": "StyleView",
      "button_color": null,
      "font_weight": ""
     }
    },
    "67f6b111457244d2a7bf114a5188a0d6": {
     "model_module": "@jupyter-widgets/base",
     "model_module_version": "1.2.0",
     "model_name": "LayoutModel",
     "state": {
      "_model_module": "@jupyter-widgets/base",
      "_model_module_version": "1.2.0",
      "_model_name": "LayoutModel",
      "_view_count": null,
      "_view_module": "@jupyter-widgets/base",
      "_view_module_version": "1.2.0",
      "_view_name": "LayoutView",
      "align_content": null,
      "align_items": null,
      "align_self": null,
      "border": null,
      "bottom": null,
      "display": null,
      "flex": null,
      "flex_flow": null,
      "grid_area": null,
      "grid_auto_columns": null,
      "grid_auto_flow": null,
      "grid_auto_rows": null,
      "grid_column": null,
      "grid_gap": null,
      "grid_row": null,
      "grid_template_areas": null,
      "grid_template_columns": null,
      "grid_template_rows": null,
      "height": null,
      "justify_content": null,
      "justify_items": null,
      "left": null,
      "margin": null,
      "max_height": null,
      "max_width": null,
      "min_height": null,
      "min_width": null,
      "object_fit": null,
      "object_position": null,
      "order": null,
      "overflow": null,
      "overflow_x": null,
      "overflow_y": null,
      "padding": null,
      "right": null,
      "top": null,
      "visibility": null,
      "width": null
     }
    },
    "724fd5d8aef94edc9369cda79cb26450": {
     "model_module": "@jupyter-widgets/controls",
     "model_module_version": "1.5.0",
     "model_name": "HTMLModel",
     "state": {
      "_dom_classes": [],
      "_model_module": "@jupyter-widgets/controls",
      "_model_module_version": "1.5.0",
      "_model_name": "HTMLModel",
      "_view_count": null,
      "_view_module": "@jupyter-widgets/controls",
      "_view_module_version": "1.5.0",
      "_view_name": "HTMLView",
      "description": "",
      "description_tooltip": null,
      "layout": "IPY_MODEL_e91a083bacf04028a2fcef2295f8a520",
      "placeholder": "​",
      "style": "IPY_MODEL_a8ade60ab68846f0a87d7d2fcaebcb12",
      "value": "<center> <img\nsrc=https://www.kaggle.com/static/images/site-logo.png\nalt='Kaggle'> <br> Create an API token from <a\nhref=\"https://www.kaggle.com/settings/account\" target=\"_blank\">your Kaggle\nsettings page</a> and paste it below along with your Kaggle username. <br> </center>"
     }
    },
    "9f7189d0f90d44cdaafccda1b033a494": {
     "model_module": "@jupyter-widgets/controls",
     "model_module_version": "1.5.0",
     "model_name": "HTMLModel",
     "state": {
      "_dom_classes": [],
      "_model_module": "@jupyter-widgets/controls",
      "_model_module_version": "1.5.0",
      "_model_name": "HTMLModel",
      "_view_count": null,
      "_view_module": "@jupyter-widgets/controls",
      "_view_module_version": "1.5.0",
      "_view_name": "HTMLView",
      "description": "",
      "description_tooltip": null,
      "layout": "IPY_MODEL_baf70521c4004f639107f190326d6297",
      "placeholder": "​",
      "style": "IPY_MODEL_aa3a62f511e048f8aa4be339f2e89743",
      "value": "\n<b>Thank You</b></center>"
     }
    },
    "a8ade60ab68846f0a87d7d2fcaebcb12": {
     "model_module": "@jupyter-widgets/controls",
     "model_module_version": "1.5.0",
     "model_name": "DescriptionStyleModel",
     "state": {
      "_model_module": "@jupyter-widgets/controls",
      "_model_module_version": "1.5.0",
      "_model_name": "DescriptionStyleModel",
      "_view_count": null,
      "_view_module": "@jupyter-widgets/base",
      "_view_module_version": "1.2.0",
      "_view_name": "StyleView",
      "description_width": ""
     }
    },
    "aa3a62f511e048f8aa4be339f2e89743": {
     "model_module": "@jupyter-widgets/controls",
     "model_module_version": "1.5.0",
     "model_name": "DescriptionStyleModel",
     "state": {
      "_model_module": "@jupyter-widgets/controls",
      "_model_module_version": "1.5.0",
      "_model_name": "DescriptionStyleModel",
      "_view_count": null,
      "_view_module": "@jupyter-widgets/base",
      "_view_module_version": "1.2.0",
      "_view_name": "StyleView",
      "description_width": ""
     }
    },
    "baf70521c4004f639107f190326d6297": {
     "model_module": "@jupyter-widgets/base",
     "model_module_version": "1.2.0",
     "model_name": "LayoutModel",
     "state": {
      "_model_module": "@jupyter-widgets/base",
      "_model_module_version": "1.2.0",
      "_model_name": "LayoutModel",
      "_view_count": null,
      "_view_module": "@jupyter-widgets/base",
      "_view_module_version": "1.2.0",
      "_view_name": "LayoutView",
      "align_content": null,
      "align_items": null,
      "align_self": null,
      "border": null,
      "bottom": null,
      "display": null,
      "flex": null,
      "flex_flow": null,
      "grid_area": null,
      "grid_auto_columns": null,
      "grid_auto_flow": null,
      "grid_auto_rows": null,
      "grid_column": null,
      "grid_gap": null,
      "grid_row": null,
      "grid_template_areas": null,
      "grid_template_columns": null,
      "grid_template_rows": null,
      "height": null,
      "justify_content": null,
      "justify_items": null,
      "left": null,
      "margin": null,
      "max_height": null,
      "max_width": null,
      "min_height": null,
      "min_width": null,
      "object_fit": null,
      "object_position": null,
      "order": null,
      "overflow": null,
      "overflow_x": null,
      "overflow_y": null,
      "padding": null,
      "right": null,
      "top": null,
      "visibility": null,
      "width": null
     }
    },
    "c058f390f0564bf8821f1d1162f9d0be": {
     "model_module": "@jupyter-widgets/controls",
     "model_module_version": "1.5.0",
     "model_name": "TextModel",
     "state": {
      "_dom_classes": [],
      "_model_module": "@jupyter-widgets/controls",
      "_model_module_version": "1.5.0",
      "_model_name": "TextModel",
      "_view_count": null,
      "_view_module": "@jupyter-widgets/controls",
      "_view_module_version": "1.5.0",
      "_view_name": "TextView",
      "continuous_update": true,
      "description": "Username:",
      "description_tooltip": null,
      "disabled": false,
      "layout": "IPY_MODEL_ebef475f1073435e9d34f219229df9f2",
      "placeholder": "​",
      "style": "IPY_MODEL_c5f650d597204310bd80968c64a0d579",
      "value": "suriya911"
     }
    },
    "c5f650d597204310bd80968c64a0d579": {
     "model_module": "@jupyter-widgets/controls",
     "model_module_version": "1.5.0",
     "model_name": "DescriptionStyleModel",
     "state": {
      "_model_module": "@jupyter-widgets/controls",
      "_model_module_version": "1.5.0",
      "_model_name": "DescriptionStyleModel",
      "_view_count": null,
      "_view_module": "@jupyter-widgets/base",
      "_view_module_version": "1.2.0",
      "_view_name": "StyleView",
      "description_width": ""
     }
    },
    "c7d1e581d75a4c71b37fbc9125d6bd1f": {
     "model_module": "@jupyter-widgets/base",
     "model_module_version": "1.2.0",
     "model_name": "LayoutModel",
     "state": {
      "_model_module": "@jupyter-widgets/base",
      "_model_module_version": "1.2.0",
      "_model_name": "LayoutModel",
      "_view_count": null,
      "_view_module": "@jupyter-widgets/base",
      "_view_module_version": "1.2.0",
      "_view_name": "LayoutView",
      "align_content": null,
      "align_items": "center",
      "align_self": null,
      "border": null,
      "bottom": null,
      "display": "flex",
      "flex": null,
      "flex_flow": "column",
      "grid_area": null,
      "grid_auto_columns": null,
      "grid_auto_flow": null,
      "grid_auto_rows": null,
      "grid_column": null,
      "grid_gap": null,
      "grid_row": null,
      "grid_template_areas": null,
      "grid_template_columns": null,
      "grid_template_rows": null,
      "height": null,
      "justify_content": null,
      "justify_items": null,
      "left": null,
      "margin": null,
      "max_height": null,
      "max_width": null,
      "min_height": null,
      "min_width": null,
      "object_fit": null,
      "object_position": null,
      "order": null,
      "overflow": null,
      "overflow_x": null,
      "overflow_y": null,
      "padding": null,
      "right": null,
      "top": null,
      "visibility": null,
      "width": "50%"
     }
    },
    "e30f995ab9bd413abae1e74ec196a14a": {
     "model_module": "@jupyter-widgets/controls",
     "model_module_version": "1.5.0",
     "model_name": "ButtonModel",
     "state": {
      "_dom_classes": [],
      "_model_module": "@jupyter-widgets/controls",
      "_model_module_version": "1.5.0",
      "_model_name": "ButtonModel",
      "_view_count": null,
      "_view_module": "@jupyter-widgets/controls",
      "_view_module_version": "1.5.0",
      "_view_name": "ButtonView",
      "button_style": "",
      "description": "Login",
      "disabled": false,
      "icon": "",
      "layout": "IPY_MODEL_5da2d97d7e9e4a1b9f876b585796ee8d",
      "style": "IPY_MODEL_6203a0ffcc484b84a6bd2ab5e8f358d7",
      "tooltip": ""
     }
    },
    "e91a083bacf04028a2fcef2295f8a520": {
     "model_module": "@jupyter-widgets/base",
     "model_module_version": "1.2.0",
     "model_name": "LayoutModel",
     "state": {
      "_model_module": "@jupyter-widgets/base",
      "_model_module_version": "1.2.0",
      "_model_name": "LayoutModel",
      "_view_count": null,
      "_view_module": "@jupyter-widgets/base",
      "_view_module_version": "1.2.0",
      "_view_name": "LayoutView",
      "align_content": null,
      "align_items": null,
      "align_self": null,
      "border": null,
      "bottom": null,
      "display": null,
      "flex": null,
      "flex_flow": null,
      "grid_area": null,
      "grid_auto_columns": null,
      "grid_auto_flow": null,
      "grid_auto_rows": null,
      "grid_column": null,
      "grid_gap": null,
      "grid_row": null,
      "grid_template_areas": null,
      "grid_template_columns": null,
      "grid_template_rows": null,
      "height": null,
      "justify_content": null,
      "justify_items": null,
      "left": null,
      "margin": null,
      "max_height": null,
      "max_width": null,
      "min_height": null,
      "min_width": null,
      "object_fit": null,
      "object_position": null,
      "order": null,
      "overflow": null,
      "overflow_x": null,
      "overflow_y": null,
      "padding": null,
      "right": null,
      "top": null,
      "visibility": null,
      "width": null
     }
    },
    "ebef475f1073435e9d34f219229df9f2": {
     "model_module": "@jupyter-widgets/base",
     "model_module_version": "1.2.0",
     "model_name": "LayoutModel",
     "state": {
      "_model_module": "@jupyter-widgets/base",
      "_model_module_version": "1.2.0",
      "_model_name": "LayoutModel",
      "_view_count": null,
      "_view_module": "@jupyter-widgets/base",
      "_view_module_version": "1.2.0",
      "_view_name": "LayoutView",
      "align_content": null,
      "align_items": null,
      "align_self": null,
      "border": null,
      "bottom": null,
      "display": null,
      "flex": null,
      "flex_flow": null,
      "grid_area": null,
      "grid_auto_columns": null,
      "grid_auto_flow": null,
      "grid_auto_rows": null,
      "grid_column": null,
      "grid_gap": null,
      "grid_row": null,
      "grid_template_areas": null,
      "grid_template_columns": null,
      "grid_template_rows": null,
      "height": null,
      "justify_content": null,
      "justify_items": null,
      "left": null,
      "margin": null,
      "max_height": null,
      "max_width": null,
      "min_height": null,
      "min_width": null,
      "object_fit": null,
      "object_position": null,
      "order": null,
      "overflow": null,
      "overflow_x": null,
      "overflow_y": null,
      "padding": null,
      "right": null,
      "top": null,
      "visibility": null,
      "width": null
     }
    },
    "fc7768e2c67949819efac014b36ace53": {
     "model_module": "@jupyter-widgets/controls",
     "model_module_version": "1.5.0",
     "model_name": "LabelModel",
     "state": {
      "_dom_classes": [],
      "_model_module": "@jupyter-widgets/controls",
      "_model_module_version": "1.5.0",
      "_model_name": "LabelModel",
      "_view_count": null,
      "_view_module": "@jupyter-widgets/controls",
      "_view_module_version": "1.5.0",
      "_view_name": "LabelView",
      "description": "",
      "description_tooltip": null,
      "layout": "IPY_MODEL_67f6b111457244d2a7bf114a5188a0d6",
      "placeholder": "​",
      "style": "IPY_MODEL_439165d3dbe84ed58ce52b800f19a016",
      "value": "Kaggle credentials successfully validated."
     }
    }
   }
  }
 },
 "nbformat": 4,
 "nbformat_minor": 0
}
