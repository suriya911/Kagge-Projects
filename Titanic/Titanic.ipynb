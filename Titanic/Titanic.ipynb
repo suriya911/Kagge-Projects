{
 "cells": [
  {
   "cell_type": "markdown",
   "metadata": {},
   "source": [
    "# Titanic Survival Prediction\n",
    "\n",
    "This notebook walks through the analysis, visualization, and prediction of survival on the Titanic using machine learning models. The dataset is available from the Kaggle Titanic competition, and the objective is to predict survival outcomes based on passenger data.\n"
   ]
  },
  {
   "cell_type": "markdown",
   "metadata": {
    "id": "_0l6oLejHpu-"
   },
   "source": [
    "# Importing Necessary Libraries\n",
    "\n",
    "In this step, we import the essential libraries required for data analysis, preprocessing, visualization, and machine learning model training and evaluation. Each library serves a specific purpose, as described below:\n",
    "\n",
    "- **Numpy (`np`)**: A fundamental package for numerical computing in Python, used here for data manipulation and mathematical operations.\n",
    "- **Pandas (`pd`)**: A powerful library for data manipulation and analysis, enabling us to load, clean, and process the Titanic dataset efficiently.\n",
    "- **Seaborn (`sns`)** and **Matplotlib (`plt`)**: Visualization libraries used to create insightful graphs and charts for data exploration. `Seaborn` provides a high-level interface for drawing attractive and informative statistical graphics.\n",
    "- **Scikit-learn (`sklearn`)**: The core machine learning library in Python, providing modules for:\n",
    "  - **Data Preprocessing**: `OneHotEncoder` for encoding categorical variables.\n",
    "  - **Model Selection**: `train_test_split` for data splitting, and `GridSearchCV` for hyperparameter tuning.\n",
    "  - **Metrics**: `accuracy_score`, `classification_report`, and `confusion_matrix` for model evaluation.\n",
    "  - **Algorithms**: Various classifiers like `RandomForestClassifier`, `LogisticRegression`, `DecisionTreeClassifier`, `SVC`, and more.\n",
    "- **XGBoost (`XGBClassifier`)**: A popular gradient-boosting framework known for its speed and accuracy in structured/tabular data.\n",
    "- **CatBoost (`CatBoostClassifier`)**: A gradient-boosting framework that handles categorical features natively and is known for its efficiency and accuracy.\n",
    "- **Warnings**: `warnings.filterwarnings('ignore')` suppresses warnings for cleaner output, particularly useful when using large models or extensive hyperparameter tuning.\n",
    "\n",
    "With these libraries imported, we’re ready to load, explore, and preprocess the data, as well as build and evaluate a variety of machine learning models for predicting survival on the Titanic.\n"
   ]
  },
  {
   "cell_type": "code",
   "execution_count": 1,
   "metadata": {
    "id": "Z3nERSYoHpvA",
    "trusted": true
   },
   "outputs": [],
   "source": [
    "import numpy as np\n",
    "import pandas as pd\n",
    "import seaborn as sns\n",
    "import matplotlib.pyplot as plt\n",
    "from sklearn.model_selection import train_test_split, GridSearchCV\n",
    "from sklearn.preprocessing import OneHotEncoder\n",
    "from sklearn.metrics import accuracy_score, classification_report, confusion_matrix\n",
    "from sklearn.ensemble import (\n",
    "    RandomForestClassifier, AdaBoostClassifier, GradientBoostingClassifier\n",
    ")\n",
    "from sklearn.linear_model import LogisticRegression\n",
    "from sklearn.tree import DecisionTreeClassifier\n",
    "from sklearn.neighbors import KNeighborsClassifier\n",
    "from sklearn.naive_bayes import GaussianNB\n",
    "from sklearn.svm import SVC\n",
    "from xgboost import XGBClassifier\n",
    "from sklearn.neural_network import MLPClassifier\n",
    "import catboost as catboost\n",
    "from catboost import CatBoostClassifier\n",
    "import warnings\n",
    "warnings.filterwarnings('ignore')"
   ]
  },
  {
   "cell_type": "markdown",
   "metadata": {
    "id": "SG1hpysZHpvB"
   },
   "source": [
    "# Import data"
   ]
  },
  {
   "cell_type": "code",
   "execution_count": 2,
   "metadata": {
    "id": "prUnyhFJHpvC",
    "trusted": true
   },
   "outputs": [],
   "source": [
    "train_data = pd.read_csv('train.csv')\n",
    "test_data = pd.read_csv('test.csv')"
   ]
  },
  {
   "cell_type": "markdown",
   "metadata": {
    "id": "uzIf59QaHpvC"
   },
   "source": [
    "# Exploratory Data Analysis"
   ]
  },
  {
   "cell_type": "markdown",
   "metadata": {},
   "source": [
    "Data overview\n",
    "- PassengerId: Unique id for each passenger. No effect on the target feature.\n",
    "- Survived: Whether or not the passenger survived. This is the target feature.\n",
    "  - 0 = No, 1 = Yes\n",
    "- Pclass: Reflects the socio-economic status of the passenger.\n",
    "  - 1 = 1st, Upper Class\n",
    "  - 2 = 2nd, Middle Class\n",
    "  - 3 = 3rd, Lower Class\n",
    "- Name: The name of the passenger. Includes the title of the passenger, such as \"Mr.\", \"Mrs.\", and \"Master.\".\n",
    "- Sex: Gender of the passenger, either \"male\" or \"female\".\n",
    "- Age: The age of the passenger in years.\n",
    "- SibSp: # of siblings / spouses aboard the Titanic.\n",
    "- Parch: # of parents / children aboard the Titanic.\n",
    "- Ticket: The Ticket number.\n",
    "- Fare: Passenger fare.\n",
    "- Cabin: Cabin number of the passenger.\n",
    "- Embarked: Which port the passenger embarked from.\n",
    "  - C = Cherbourg\n",
    "  - Q = Queenstown\n",
    "  - S = Southampton"
   ]
  },
  {
   "cell_type": "code",
   "execution_count": 3,
   "metadata": {
    "colab": {
     "base_uri": "https://localhost:8080/"
    },
    "id": "y_nU440ZHpvD",
    "outputId": "c6d6c0c5-4af0-4972-a282-1dd5d2e07db4",
    "trusted": true
   },
   "outputs": [
    {
     "data": {
      "text/html": [
       "<div>\n",
       "<style scoped>\n",
       "    .dataframe tbody tr th:only-of-type {\n",
       "        vertical-align: middle;\n",
       "    }\n",
       "\n",
       "    .dataframe tbody tr th {\n",
       "        vertical-align: top;\n",
       "    }\n",
       "\n",
       "    .dataframe thead th {\n",
       "        text-align: right;\n",
       "    }\n",
       "</style>\n",
       "<table border=\"1\" class=\"dataframe\">\n",
       "  <thead>\n",
       "    <tr style=\"text-align: right;\">\n",
       "      <th></th>\n",
       "      <th>PassengerId</th>\n",
       "      <th>Survived</th>\n",
       "      <th>Pclass</th>\n",
       "      <th>Name</th>\n",
       "      <th>Sex</th>\n",
       "      <th>Age</th>\n",
       "      <th>SibSp</th>\n",
       "      <th>Parch</th>\n",
       "      <th>Ticket</th>\n",
       "      <th>Fare</th>\n",
       "      <th>Cabin</th>\n",
       "      <th>Embarked</th>\n",
       "    </tr>\n",
       "  </thead>\n",
       "  <tbody>\n",
       "    <tr>\n",
       "      <th>0</th>\n",
       "      <td>1</td>\n",
       "      <td>0</td>\n",
       "      <td>3</td>\n",
       "      <td>Braund, Mr. Owen Harris</td>\n",
       "      <td>male</td>\n",
       "      <td>22.0</td>\n",
       "      <td>1</td>\n",
       "      <td>0</td>\n",
       "      <td>A/5 21171</td>\n",
       "      <td>7.2500</td>\n",
       "      <td>NaN</td>\n",
       "      <td>S</td>\n",
       "    </tr>\n",
       "    <tr>\n",
       "      <th>1</th>\n",
       "      <td>2</td>\n",
       "      <td>1</td>\n",
       "      <td>1</td>\n",
       "      <td>Cumings, Mrs. John Bradley (Florence Briggs Th...</td>\n",
       "      <td>female</td>\n",
       "      <td>38.0</td>\n",
       "      <td>1</td>\n",
       "      <td>0</td>\n",
       "      <td>PC 17599</td>\n",
       "      <td>71.2833</td>\n",
       "      <td>C85</td>\n",
       "      <td>C</td>\n",
       "    </tr>\n",
       "    <tr>\n",
       "      <th>2</th>\n",
       "      <td>3</td>\n",
       "      <td>1</td>\n",
       "      <td>3</td>\n",
       "      <td>Heikkinen, Miss. Laina</td>\n",
       "      <td>female</td>\n",
       "      <td>26.0</td>\n",
       "      <td>0</td>\n",
       "      <td>0</td>\n",
       "      <td>STON/O2. 3101282</td>\n",
       "      <td>7.9250</td>\n",
       "      <td>NaN</td>\n",
       "      <td>S</td>\n",
       "    </tr>\n",
       "    <tr>\n",
       "      <th>3</th>\n",
       "      <td>4</td>\n",
       "      <td>1</td>\n",
       "      <td>1</td>\n",
       "      <td>Futrelle, Mrs. Jacques Heath (Lily May Peel)</td>\n",
       "      <td>female</td>\n",
       "      <td>35.0</td>\n",
       "      <td>1</td>\n",
       "      <td>0</td>\n",
       "      <td>113803</td>\n",
       "      <td>53.1000</td>\n",
       "      <td>C123</td>\n",
       "      <td>S</td>\n",
       "    </tr>\n",
       "    <tr>\n",
       "      <th>4</th>\n",
       "      <td>5</td>\n",
       "      <td>0</td>\n",
       "      <td>3</td>\n",
       "      <td>Allen, Mr. William Henry</td>\n",
       "      <td>male</td>\n",
       "      <td>35.0</td>\n",
       "      <td>0</td>\n",
       "      <td>0</td>\n",
       "      <td>373450</td>\n",
       "      <td>8.0500</td>\n",
       "      <td>NaN</td>\n",
       "      <td>S</td>\n",
       "    </tr>\n",
       "  </tbody>\n",
       "</table>\n",
       "</div>"
      ],
      "text/plain": [
       "   PassengerId  Survived  Pclass  \\\n",
       "0            1         0       3   \n",
       "1            2         1       1   \n",
       "2            3         1       3   \n",
       "3            4         1       1   \n",
       "4            5         0       3   \n",
       "\n",
       "                                                Name     Sex   Age  SibSp  \\\n",
       "0                            Braund, Mr. Owen Harris    male  22.0      1   \n",
       "1  Cumings, Mrs. John Bradley (Florence Briggs Th...  female  38.0      1   \n",
       "2                             Heikkinen, Miss. Laina  female  26.0      0   \n",
       "3       Futrelle, Mrs. Jacques Heath (Lily May Peel)  female  35.0      1   \n",
       "4                           Allen, Mr. William Henry    male  35.0      0   \n",
       "\n",
       "   Parch            Ticket     Fare Cabin Embarked  \n",
       "0      0         A/5 21171   7.2500   NaN        S  \n",
       "1      0          PC 17599  71.2833   C85        C  \n",
       "2      0  STON/O2. 3101282   7.9250   NaN        S  \n",
       "3      0            113803  53.1000  C123        S  \n",
       "4      0            373450   8.0500   NaN        S  "
      ]
     },
     "execution_count": 3,
     "metadata": {},
     "output_type": "execute_result"
    }
   ],
   "source": [
    "train_data.head()"
   ]
  },
  {
   "cell_type": "code",
   "execution_count": 4,
   "metadata": {},
   "outputs": [
    {
     "name": "stdout",
     "output_type": "stream",
     "text": [
      "<class 'pandas.core.frame.DataFrame'>\n",
      "RangeIndex: 891 entries, 0 to 890\n",
      "Data columns (total 12 columns):\n",
      " #   Column       Non-Null Count  Dtype  \n",
      "---  ------       --------------  -----  \n",
      " 0   PassengerId  891 non-null    int64  \n",
      " 1   Survived     891 non-null    int64  \n",
      " 2   Pclass       891 non-null    int64  \n",
      " 3   Name         891 non-null    object \n",
      " 4   Sex          891 non-null    object \n",
      " 5   Age          714 non-null    float64\n",
      " 6   SibSp        891 non-null    int64  \n",
      " 7   Parch        891 non-null    int64  \n",
      " 8   Ticket       891 non-null    object \n",
      " 9   Fare         891 non-null    float64\n",
      " 10  Cabin        204 non-null    object \n",
      " 11  Embarked     889 non-null    object \n",
      "dtypes: float64(2), int64(5), object(5)\n",
      "memory usage: 83.7+ KB\n"
     ]
    }
   ],
   "source": [
    "train_data.info()"
   ]
  },
  {
   "cell_type": "code",
   "execution_count": 5,
   "metadata": {},
   "outputs": [
    {
     "data": {
      "text/plain": [
       "(891, 12)"
      ]
     },
     "execution_count": 5,
     "metadata": {},
     "output_type": "execute_result"
    }
   ],
   "source": [
    "train_data.shape"
   ]
  },
  {
   "cell_type": "code",
   "execution_count": 6,
   "metadata": {
    "colab": {
     "base_uri": "https://localhost:8080/"
    },
    "id": "1nNzMjAGHpvE",
    "outputId": "f029b0c2-1ce6-40ab-c062-e67651a4f8a6",
    "trusted": true
   },
   "outputs": [
    {
     "data": {
      "text/html": [
       "<div>\n",
       "<style scoped>\n",
       "    .dataframe tbody tr th:only-of-type {\n",
       "        vertical-align: middle;\n",
       "    }\n",
       "\n",
       "    .dataframe tbody tr th {\n",
       "        vertical-align: top;\n",
       "    }\n",
       "\n",
       "    .dataframe thead th {\n",
       "        text-align: right;\n",
       "    }\n",
       "</style>\n",
       "<table border=\"1\" class=\"dataframe\">\n",
       "  <thead>\n",
       "    <tr style=\"text-align: right;\">\n",
       "      <th></th>\n",
       "      <th>PassengerId</th>\n",
       "      <th>Pclass</th>\n",
       "      <th>Name</th>\n",
       "      <th>Sex</th>\n",
       "      <th>Age</th>\n",
       "      <th>SibSp</th>\n",
       "      <th>Parch</th>\n",
       "      <th>Ticket</th>\n",
       "      <th>Fare</th>\n",
       "      <th>Cabin</th>\n",
       "      <th>Embarked</th>\n",
       "    </tr>\n",
       "  </thead>\n",
       "  <tbody>\n",
       "    <tr>\n",
       "      <th>0</th>\n",
       "      <td>892</td>\n",
       "      <td>3</td>\n",
       "      <td>Kelly, Mr. James</td>\n",
       "      <td>male</td>\n",
       "      <td>34.5</td>\n",
       "      <td>0</td>\n",
       "      <td>0</td>\n",
       "      <td>330911</td>\n",
       "      <td>7.8292</td>\n",
       "      <td>NaN</td>\n",
       "      <td>Q</td>\n",
       "    </tr>\n",
       "    <tr>\n",
       "      <th>1</th>\n",
       "      <td>893</td>\n",
       "      <td>3</td>\n",
       "      <td>Wilkes, Mrs. James (Ellen Needs)</td>\n",
       "      <td>female</td>\n",
       "      <td>47.0</td>\n",
       "      <td>1</td>\n",
       "      <td>0</td>\n",
       "      <td>363272</td>\n",
       "      <td>7.0000</td>\n",
       "      <td>NaN</td>\n",
       "      <td>S</td>\n",
       "    </tr>\n",
       "    <tr>\n",
       "      <th>2</th>\n",
       "      <td>894</td>\n",
       "      <td>2</td>\n",
       "      <td>Myles, Mr. Thomas Francis</td>\n",
       "      <td>male</td>\n",
       "      <td>62.0</td>\n",
       "      <td>0</td>\n",
       "      <td>0</td>\n",
       "      <td>240276</td>\n",
       "      <td>9.6875</td>\n",
       "      <td>NaN</td>\n",
       "      <td>Q</td>\n",
       "    </tr>\n",
       "    <tr>\n",
       "      <th>3</th>\n",
       "      <td>895</td>\n",
       "      <td>3</td>\n",
       "      <td>Wirz, Mr. Albert</td>\n",
       "      <td>male</td>\n",
       "      <td>27.0</td>\n",
       "      <td>0</td>\n",
       "      <td>0</td>\n",
       "      <td>315154</td>\n",
       "      <td>8.6625</td>\n",
       "      <td>NaN</td>\n",
       "      <td>S</td>\n",
       "    </tr>\n",
       "    <tr>\n",
       "      <th>4</th>\n",
       "      <td>896</td>\n",
       "      <td>3</td>\n",
       "      <td>Hirvonen, Mrs. Alexander (Helga E Lindqvist)</td>\n",
       "      <td>female</td>\n",
       "      <td>22.0</td>\n",
       "      <td>1</td>\n",
       "      <td>1</td>\n",
       "      <td>3101298</td>\n",
       "      <td>12.2875</td>\n",
       "      <td>NaN</td>\n",
       "      <td>S</td>\n",
       "    </tr>\n",
       "  </tbody>\n",
       "</table>\n",
       "</div>"
      ],
      "text/plain": [
       "   PassengerId  Pclass                                          Name     Sex  \\\n",
       "0          892       3                              Kelly, Mr. James    male   \n",
       "1          893       3              Wilkes, Mrs. James (Ellen Needs)  female   \n",
       "2          894       2                     Myles, Mr. Thomas Francis    male   \n",
       "3          895       3                              Wirz, Mr. Albert    male   \n",
       "4          896       3  Hirvonen, Mrs. Alexander (Helga E Lindqvist)  female   \n",
       "\n",
       "    Age  SibSp  Parch   Ticket     Fare Cabin Embarked  \n",
       "0  34.5      0      0   330911   7.8292   NaN        Q  \n",
       "1  47.0      1      0   363272   7.0000   NaN        S  \n",
       "2  62.0      0      0   240276   9.6875   NaN        Q  \n",
       "3  27.0      0      0   315154   8.6625   NaN        S  \n",
       "4  22.0      1      1  3101298  12.2875   NaN        S  "
      ]
     },
     "execution_count": 6,
     "metadata": {},
     "output_type": "execute_result"
    }
   ],
   "source": [
    "test_data.head()"
   ]
  },
  {
   "cell_type": "code",
   "execution_count": 7,
   "metadata": {},
   "outputs": [
    {
     "name": "stdout",
     "output_type": "stream",
     "text": [
      "<class 'pandas.core.frame.DataFrame'>\n",
      "RangeIndex: 418 entries, 0 to 417\n",
      "Data columns (total 11 columns):\n",
      " #   Column       Non-Null Count  Dtype  \n",
      "---  ------       --------------  -----  \n",
      " 0   PassengerId  418 non-null    int64  \n",
      " 1   Pclass       418 non-null    int64  \n",
      " 2   Name         418 non-null    object \n",
      " 3   Sex          418 non-null    object \n",
      " 4   Age          332 non-null    float64\n",
      " 5   SibSp        418 non-null    int64  \n",
      " 6   Parch        418 non-null    int64  \n",
      " 7   Ticket       418 non-null    object \n",
      " 8   Fare         417 non-null    float64\n",
      " 9   Cabin        91 non-null     object \n",
      " 10  Embarked     418 non-null    object \n",
      "dtypes: float64(2), int64(4), object(5)\n",
      "memory usage: 36.0+ KB\n"
     ]
    }
   ],
   "source": [
    "test_data.info()"
   ]
  },
  {
   "cell_type": "code",
   "execution_count": 8,
   "metadata": {},
   "outputs": [
    {
     "data": {
      "text/plain": [
       "(418, 11)"
      ]
     },
     "execution_count": 8,
     "metadata": {},
     "output_type": "execute_result"
    }
   ],
   "source": [
    "test_data.shape"
   ]
  },
  {
   "cell_type": "markdown",
   "metadata": {
    "id": "BoicuMP9HpvF"
   },
   "source": [
    "# Features and Survival"
   ]
  },
  {
   "cell_type": "markdown",
   "metadata": {},
   "source": [
    "### Age Distribution by Survival Status\n",
    "This plot compares the age distribution between passengers who survived and those who did not.\n"
   ]
  },
  {
   "cell_type": "code",
   "execution_count": 9,
   "metadata": {
    "colab": {
     "base_uri": "https://localhost:8080/",
     "height": 430
    },
    "id": "In7q41JtHpvI",
    "outputId": "1d12837e-b1a2-4b6e-e85f-bd3d2c187af4",
    "trusted": true
   },
   "outputs": [
    {
     "data": {
      "image/png": "[encoded data removed]",
      "text/plain": [
       "<Figure size 432x288 with 1 Axes>"
      ]
     },
     "metadata": {
      "needs_background": "light"
     },
     "output_type": "display_data"
    }
   ],
   "source": [
    "plt.figure(figsize=(6, 4))\n",
    "\n",
    "plt.hist(train_data[train_data['Survived'] == 1]['Age'], bins=30,\n",
    "         alpha=0.5, label='Survived', color='green', edgecolor='black')\n",
    "plt.hist(train_data[train_data['Survived'] == 0]['Age'], bins=30,\n",
    "         alpha=0.5, label='Did Not Survive', color='red', edgecolor='black')\n",
    "\n",
    "plt.title('Age Distribution by Survival Status')\n",
    "plt.xlabel('Age')\n",
    "plt.ylabel('Frequency')\n",
    "plt.legend()\n",
    "plt.grid(True)\n",
    "\n",
    "plt.show()"
   ]
  },
  {
   "cell_type": "markdown",
   "metadata": {},
   "source": [
    "- Younger passengers, especially those < 5 years old, seem to survive at a higher rate.\n",
    "- Older passengers seem to have a lower survival rate, especially around 40 - 75 years old."
   ]
  },
  {
   "cell_type": "markdown",
   "metadata": {},
   "source": [
    "### Fare Distribution by Survival Status\n",
    "This plot shows the distribution of fares paid by passengers who survived and those who did not.\n"
   ]
  },
  {
   "cell_type": "code",
   "execution_count": 10,
   "metadata": {},
   "outputs": [
    {
     "data": {
      "image/png": "[encoded data removed]",
      "text/plain": [
       "<Figure size 432x288 with 1 Axes>"
      ]
     },
     "metadata": {
      "needs_background": "light"
     },
     "output_type": "display_data"
    }
   ],
   "source": [
    "plt.figure(figsize=(6, 4))\n",
    "\n",
    "plt.hist(train_data[train_data['Survived'] == 1]['Fare'], bins=30,\n",
    "         alpha=0.5, label='Survived', color='green', edgecolor='black')\n",
    "plt.hist(train_data[train_data['Survived'] == 0]['Fare'], bins=30,\n",
    "         alpha=0.5, label='Did Not Survive', color='red', edgecolor='black')\n",
    "\n",
    "plt.title('Fare Distribution by Survival Status')\n",
    "plt.xlabel('Fare')\n",
    "plt.ylabel('Frequency')\n",
    "plt.legend()\n",
    "plt.grid(True)\n",
    "\n",
    "plt.show()"
   ]
  },
  {
   "cell_type": "markdown",
   "metadata": {},
   "source": [
    "- Lower fares seemed to have survived less.\n",
    "- Higher fares seemed to survive more.\n",
    "- This can be correlated with the socio-economic status of the passenger."
   ]
  },
  {
   "cell_type": "markdown",
   "metadata": {},
   "source": [
    "### Survival Counts by Sex\n",
    "This bar chart displays the survival counts based on the passenger’s sex.\n"
   ]
  },
  {
   "cell_type": "code",
   "execution_count": 11,
   "metadata": {},
   "outputs": [
    {
     "data": {
      "image/png": "[encoded data removed]",
      "text/plain": [
       "<Figure size 432x288 with 1 Axes>"
      ]
     },
     "metadata": {
      "needs_background": "light"
     },
     "output_type": "display_data"
    }
   ],
   "source": [
    "df = train_data.copy()\n",
    "df['Sex_Label'] = df['Sex'].map({'male': 'Male', 'female': 'Female'})\n",
    "\n",
    "survival_counts = df.groupby(['Sex_Label', 'Survived']).size().unstack()\n",
    "survival_counts.plot(kind='bar', stacked=False,\n",
    "                     figsize=(6, 4), color=['salmon', 'skyblue'])\n",
    "\n",
    "plt.title('Survival Counts by Sex')\n",
    "plt.xlabel('Sex')\n",
    "plt.ylabel('Number of People')\n",
    "plt.xticks(rotation=0)\n",
    "plt.legend(title='Survived', labels=['Did not Survive', 'Survived'])\n",
    "plt.grid(True)\n",
    "\n",
    "plt.show()"
   ]
  },
  {
   "cell_type": "markdown",
   "metadata": {},
   "source": [
    "- Females have a higher survival rate than males, which aligns with evacuation protocols that prioritized women and children.\n",
    "- Males have a significantly lower survival rate, likely due to this prioritization.\n"
   ]
  },
  {
   "cell_type": "markdown",
   "metadata": {},
   "source": [
    "### Survival Counts by Embarkation Point\n",
    "This plot displays survival counts based on the port where passengers embarked: Southampton (S), Cherbourg (C), or Queenstown (Q).\n"
   ]
  },
  {
   "cell_type": "code",
   "execution_count": 12,
   "metadata": {},
   "outputs": [
    {
     "data": {
      "image/png": "[encoded data removed]",
      "text/plain": [
       "<Figure size 432x288 with 1 Axes>"
      ]
     },
     "metadata": {
      "needs_background": "light"
     },
     "output_type": "display_data"
    }
   ],
   "source": [
    "survival_counts = train_data.groupby(['Embarked', 'Survived']).size().unstack()\n",
    "\n",
    "survival_counts.plot(kind='bar', stacked=False,\n",
    "                     figsize=(6, 4), color=['salmon', 'skyblue'])\n",
    "\n",
    "plt.title('Survival Counts by Embarked')\n",
    "plt.xlabel('Embarked')\n",
    "plt.ylabel('Number of People')\n",
    "plt.xticks(rotation=0)\n",
    "plt.legend(title='Survived', labels=['Did not Survive', 'Survived'])\n",
    "plt.grid(True)\n",
    "\n",
    "plt.show()"
   ]
  },
  {
   "cell_type": "markdown",
   "metadata": {},
   "source": [
    "- Passengers from Cherbourg (C) had the highest survival rates, possibly reflecting higher socio-economic status.\n",
    "- Passengers from Southampton (S) had the lowest survival rates.\n"
   ]
  },
  {
   "cell_type": "markdown",
   "metadata": {},
   "source": [
    "### Survival Counts by Passenger Class\n",
    "This bar chart shows the survival counts based on passenger class (1st, 2nd, and 3rd class).\n"
   ]
  },
  {
   "cell_type": "code",
   "execution_count": 13,
   "metadata": {},
   "outputs": [
    {
     "data": {
      "image/png": "[encoded data removed]",
      "text/plain": [
       "<Figure size 432x288 with 1 Axes>"
      ]
     },
     "metadata": {
      "needs_background": "light"
     },
     "output_type": "display_data"
    }
   ],
   "source": [
    "survival_counts = train_data.groupby(['Pclass', 'Survived']).size().unstack()\n",
    "\n",
    "survival_counts.plot(kind='bar', stacked=False,\n",
    "                     figsize=(6, 4), color=['salmon', 'skyblue'])\n",
    "\n",
    "plt.title('Survival Counts by Pclass')\n",
    "plt.xlabel('Pclass')\n",
    "plt.ylabel('Number of People')\n",
    "plt.xticks(rotation=0)\n",
    "plt.legend(title='Survived', labels=['Did not Survive', 'Survived'])\n",
    "plt.grid(True)\n",
    "\n",
    "plt.show()"
   ]
  },
  {
   "cell_type": "markdown",
   "metadata": {},
   "source": [
    "- 1st class passengers have a high chance of survival, while 3rd class passengers have a high chance of dying.\n",
    "- Socio-economic status seems to play a part for survival."
   ]
  },
  {
   "cell_type": "markdown",
   "metadata": {},
   "source": [
    "### Feature Engineering: Fill Missing Values\n",
    "First, we identify missing values in the training and test datasets to determine the most appropriate imputation strategy for each feature.\n"
   ]
  },
  {
   "cell_type": "code",
   "execution_count": 14,
   "metadata": {},
   "outputs": [
    {
     "data": {
      "text/plain": [
       "PassengerId      0\n",
       "Survived         0\n",
       "Pclass           0\n",
       "Name             0\n",
       "Sex              0\n",
       "Age            177\n",
       "SibSp            0\n",
       "Parch            0\n",
       "Ticket           0\n",
       "Fare             0\n",
       "Cabin          687\n",
       "Embarked         2\n",
       "dtype: int64"
      ]
     },
     "execution_count": 14,
     "metadata": {},
     "output_type": "execute_result"
    }
   ],
   "source": [
    "train_data.isnull().sum()"
   ]
  },
  {
   "cell_type": "markdown",
   "metadata": {},
   "source": [
    "Missing values in train data:\n",
    "\n",
    "- Age (177 missing values)\n",
    "- Cabin (687 missing values)\n",
    "- Embarked (2 missing values)"
   ]
  },
  {
   "cell_type": "code",
   "execution_count": 15,
   "metadata": {},
   "outputs": [
    {
     "data": {
      "text/plain": [
       "PassengerId      0\n",
       "Pclass           0\n",
       "Name             0\n",
       "Sex              0\n",
       "Age             86\n",
       "SibSp            0\n",
       "Parch            0\n",
       "Ticket           0\n",
       "Fare             1\n",
       "Cabin          327\n",
       "Embarked         0\n",
       "dtype: int64"
      ]
     },
     "execution_count": 15,
     "metadata": {},
     "output_type": "execute_result"
    }
   ],
   "source": [
    "test_data.isnull().sum()"
   ]
  },
  {
   "cell_type": "markdown",
   "metadata": {},
   "source": [
    "Missing values in test data:\n",
    "\n",
    "- Age (86 missing values)\n",
    "- Cabin (327 missing values)\n",
    "- Fare (1 missing value)"
   ]
  },
  {
   "cell_type": "markdown",
   "metadata": {},
   "source": [
    "### Combine Datasets\n",
    "We combine the training and test data for consistent preprocessing and feature engineering. Later, we’ll split them back into separate datasets.\n"
   ]
  },
  {
   "cell_type": "code",
   "execution_count": 16,
   "metadata": {},
   "outputs": [],
   "source": [
    "all_data = pd.concat([train_data, test_data])"
   ]
  },
  {
   "cell_type": "markdown",
   "metadata": {},
   "source": [
    "**Update Sex to binary value** \n",
    "\n",
    "- I change the Sex feature to a binary value, 0 = male, 1 = female. Later, this will be changed to one-hot encoded values."
   ]
  },
  {
   "cell_type": "code",
   "execution_count": 17,
   "metadata": {},
   "outputs": [],
   "source": [
    "all_data['Sex'] = all_data['Sex'].map({'male':0,'female':1})"
   ]
  },
  {
   "cell_type": "markdown",
   "metadata": {},
   "source": [
    "### Impute Missing Ages Using `Pclass`\n",
    "To fill in missing `Age` values, we use the median age for each passenger class (`Pclass`) since `Pclass` is highly correlated with `Age`.\n"
   ]
  },
  {
   "cell_type": "code",
   "execution_count": 18,
   "metadata": {},
   "outputs": [
    {
     "data": {
      "image/png": "[encoded data removed]",
      "text/plain": [
       "<Figure size 504x432 with 2 Axes>"
      ]
     },
     "metadata": {
      "needs_background": "light"
     },
     "output_type": "display_data"
    }
   ],
   "source": [
    "features = [\"Survived\", \"Pclass\", \"Sex\", \"SibSp\", \"Parch\", \"Fare\", \"Age\"]\n",
    "\n",
    "# Only select rows without missing Age values\n",
    "age_present = all_data[all_data['Age'].notna()]\n",
    "age_data = age_present[features]\n",
    "\n",
    "corr = age_data.corr()\n",
    "\n",
    "plt.figure(figsize=(7, 6))\n",
    "sns.heatmap(corr, annot=True, cmap='coolwarm', linewidths=0.5)\n",
    "plt.title('Correlation Matrix Heatmap')\n",
    "plt.show()"
   ]
  },
  {
   "cell_type": "markdown",
   "metadata": {},
   "source": [
    "- The highest correlated feature with Age is the Pclass. The missing `Age` values are filled with the median age for each `Pclass`, preserving meaningful differences in age distribution across classes.\n"
   ]
  },
  {
   "cell_type": "code",
   "execution_count": 19,
   "metadata": {},
   "outputs": [],
   "source": [
    "median_ages = all_data.groupby(\"Pclass\")['Age'].transform('median')\n",
    "all_data['Age'] = all_data['Age'].fillna(median_ages)"
   ]
  },
  {
   "cell_type": "markdown",
   "metadata": {},
   "source": [
    "### Extract Deck and Create Cabin Missing Indicator\n",
    "\n",
    "- I replace this column with the following two features:\n",
    "    - Deck: The first letter in the cabin number. Set to \"U\" if Cabin is missing.\n",
    "    - CabinMissing: 1 if cabin is missing, 0 otherwise."
   ]
  },
  {
   "cell_type": "code",
   "execution_count": 20,
   "metadata": {},
   "outputs": [],
   "source": [
    "all_data['Deck'] = all_data['Cabin'].str[0].fillna('U')\n",
    "all_data['CabinMissing'] = all_data['Cabin'].isna().astype(int)"
   ]
  },
  {
   "cell_type": "code",
   "execution_count": 21,
   "metadata": {},
   "outputs": [
    {
     "data": {
      "image/png": "[encoded data removed]",
      "text/plain": [
       "<Figure size 720x432 with 1 Axes>"
      ]
     },
     "metadata": {
      "needs_background": "light"
     },
     "output_type": "display_data"
    }
   ],
   "source": [
    "survival_counts = all_data[:891].groupby(['Deck','Survived']).size().unstack()\n",
    "\n",
    "survival_counts.plot(kind='bar', stacked=False, figsize=(10,6), color = ['salmon','skyblue'])\n",
    "\n",
    "plt.title('Survival Counts by Deck')\n",
    "plt.xlabel('Deck')\n",
    "plt.ylabel('Number of People')\n",
    "plt.xticks(rotation=0)\n",
    "plt.legend(title='Survived', labels=['Did not Survive', 'Survived'])\n",
    "plt.grid(True)\n",
    "\n",
    "plt.show()"
   ]
  },
  {
   "cell_type": "markdown",
   "metadata": {},
   "source": [
    "- `Deck` is extracted from `Cabin` and filled with 'U' for missing values.\n",
    "- The `CabinMissing` indicator helps capture missing information which may correlate with survival.\n"
   ]
  },
  {
   "cell_type": "markdown",
   "metadata": {},
   "source": [
    "### Impute Missing Embarked Values\n",
    "\n",
    "\n",
    "\n",
    "- I fill the missing values with the most common value for similar rows.\n",
    "- There are only 2 missing values, so I set them to the mode embarked value of the passengers who are also female and on Deck \"B\"."
   ]
  },
  {
   "cell_type": "code",
   "execution_count": 22,
   "metadata": {},
   "outputs": [
    {
     "data": {
      "text/html": [
       "<div>\n",
       "<style scoped>\n",
       "    .dataframe tbody tr th:only-of-type {\n",
       "        vertical-align: middle;\n",
       "    }\n",
       "\n",
       "    .dataframe tbody tr th {\n",
       "        vertical-align: top;\n",
       "    }\n",
       "\n",
       "    .dataframe thead th {\n",
       "        text-align: right;\n",
       "    }\n",
       "</style>\n",
       "<table border=\"1\" class=\"dataframe\">\n",
       "  <thead>\n",
       "    <tr style=\"text-align: right;\">\n",
       "      <th></th>\n",
       "      <th>PassengerId</th>\n",
       "      <th>Survived</th>\n",
       "      <th>Pclass</th>\n",
       "      <th>Name</th>\n",
       "      <th>Sex</th>\n",
       "      <th>Age</th>\n",
       "      <th>SibSp</th>\n",
       "      <th>Parch</th>\n",
       "      <th>Ticket</th>\n",
       "      <th>Fare</th>\n",
       "      <th>Cabin</th>\n",
       "      <th>Embarked</th>\n",
       "      <th>Deck</th>\n",
       "      <th>CabinMissing</th>\n",
       "    </tr>\n",
       "  </thead>\n",
       "  <tbody>\n",
       "    <tr>\n",
       "      <th>61</th>\n",
       "      <td>62</td>\n",
       "      <td>1.0</td>\n",
       "      <td>1</td>\n",
       "      <td>Icard, Miss. Amelie</td>\n",
       "      <td>1</td>\n",
       "      <td>38.0</td>\n",
       "      <td>0</td>\n",
       "      <td>0</td>\n",
       "      <td>113572</td>\n",
       "      <td>80.0</td>\n",
       "      <td>B28</td>\n",
       "      <td>NaN</td>\n",
       "      <td>B</td>\n",
       "      <td>0</td>\n",
       "    </tr>\n",
       "    <tr>\n",
       "      <th>829</th>\n",
       "      <td>830</td>\n",
       "      <td>1.0</td>\n",
       "      <td>1</td>\n",
       "      <td>Stone, Mrs. George Nelson (Martha Evelyn)</td>\n",
       "      <td>1</td>\n",
       "      <td>62.0</td>\n",
       "      <td>0</td>\n",
       "      <td>0</td>\n",
       "      <td>113572</td>\n",
       "      <td>80.0</td>\n",
       "      <td>B28</td>\n",
       "      <td>NaN</td>\n",
       "      <td>B</td>\n",
       "      <td>0</td>\n",
       "    </tr>\n",
       "  </tbody>\n",
       "</table>\n",
       "</div>"
      ],
      "text/plain": [
       "     PassengerId  Survived  Pclass                                       Name  \\\n",
       "61            62       1.0       1                        Icard, Miss. Amelie   \n",
       "829          830       1.0       1  Stone, Mrs. George Nelson (Martha Evelyn)   \n",
       "\n",
       "     Sex   Age  SibSp  Parch  Ticket  Fare Cabin Embarked Deck  CabinMissing  \n",
       "61     1  38.0      0      0  113572  80.0   B28      NaN    B             0  \n",
       "829    1  62.0      0      0  113572  80.0   B28      NaN    B             0  "
      ]
     },
     "execution_count": 22,
     "metadata": {},
     "output_type": "execute_result"
    }
   ],
   "source": [
    "missing_embarked = all_data[all_data[\"Embarked\"].isna()]\n",
    "missing_embarked"
   ]
  },
  {
   "cell_type": "code",
   "execution_count": 23,
   "metadata": {},
   "outputs": [],
   "source": [
    "def mode_or_nan(series):\n",
    "    mode = series.mode()\n",
    "    return mode[0] if not mode.empty else np.nan\n",
    "\n",
    "all_data['Embarked'] = all_data.groupby(['Sex','Deck'])['Embarked'].transform(lambda x: x.fillna(mode_or_nan(x)))"
   ]
  },
  {
   "cell_type": "markdown",
   "metadata": {},
   "source": [
    "- Missing `Embarked` values are filled with the mode of similar rows based on `Sex` and `Deck`.\n"
   ]
  },
  {
   "cell_type": "markdown",
   "metadata": {},
   "source": [
    "### Impute Missing Fare Values\n",
    "\n",
    "- I fill the missing fare values with the mean fare value for the highest correlated feature, which is the Pclass."
   ]
  },
  {
   "cell_type": "code",
   "execution_count": 24,
   "metadata": {},
   "outputs": [
    {
     "data": {
      "text/html": [
       "<div>\n",
       "<style scoped>\n",
       "    .dataframe tbody tr th:only-of-type {\n",
       "        vertical-align: middle;\n",
       "    }\n",
       "\n",
       "    .dataframe tbody tr th {\n",
       "        vertical-align: top;\n",
       "    }\n",
       "\n",
       "    .dataframe thead th {\n",
       "        text-align: right;\n",
       "    }\n",
       "</style>\n",
       "<table border=\"1\" class=\"dataframe\">\n",
       "  <thead>\n",
       "    <tr style=\"text-align: right;\">\n",
       "      <th></th>\n",
       "      <th>PassengerId</th>\n",
       "      <th>Survived</th>\n",
       "      <th>Pclass</th>\n",
       "      <th>Name</th>\n",
       "      <th>Sex</th>\n",
       "      <th>Age</th>\n",
       "      <th>SibSp</th>\n",
       "      <th>Parch</th>\n",
       "      <th>Ticket</th>\n",
       "      <th>Fare</th>\n",
       "      <th>Cabin</th>\n",
       "      <th>Embarked</th>\n",
       "      <th>Deck</th>\n",
       "      <th>CabinMissing</th>\n",
       "    </tr>\n",
       "  </thead>\n",
       "  <tbody>\n",
       "    <tr>\n",
       "      <th>152</th>\n",
       "      <td>1044</td>\n",
       "      <td>NaN</td>\n",
       "      <td>3</td>\n",
       "      <td>Storey, Mr. Thomas</td>\n",
       "      <td>0</td>\n",
       "      <td>60.5</td>\n",
       "      <td>0</td>\n",
       "      <td>0</td>\n",
       "      <td>3701</td>\n",
       "      <td>NaN</td>\n",
       "      <td>NaN</td>\n",
       "      <td>S</td>\n",
       "      <td>U</td>\n",
       "      <td>1</td>\n",
       "    </tr>\n",
       "  </tbody>\n",
       "</table>\n",
       "</div>"
      ],
      "text/plain": [
       "     PassengerId  Survived  Pclass                Name  Sex   Age  SibSp  \\\n",
       "152         1044       NaN       3  Storey, Mr. Thomas    0  60.5      0   \n",
       "\n",
       "     Parch Ticket  Fare Cabin Embarked Deck  CabinMissing  \n",
       "152      0   3701   NaN   NaN        S    U             1  "
      ]
     },
     "execution_count": 24,
     "metadata": {},
     "output_type": "execute_result"
    }
   ],
   "source": [
    "all_data[all_data.Fare.isna()]"
   ]
  },
  {
   "cell_type": "code",
   "execution_count": 25,
   "metadata": {},
   "outputs": [],
   "source": [
    "all_data[\"Fare\"] = all_data.groupby(\"Pclass\")[\"Fare\"].transform(\n",
    "    lambda x: x.fillna(x.mean())\n",
    ")"
   ]
  },
  {
   "cell_type": "markdown",
   "metadata": {},
   "source": [
    "- Missing `Fare` values are filled based on the mean fare of passengers in the same `Pclass`.\n"
   ]
  },
  {
   "cell_type": "markdown",
   "metadata": {},
   "source": [
    "# New Features"
   ]
  },
  {
   "cell_type": "markdown",
   "metadata": {},
   "source": [
    "### Create New Features\n",
    "1. `TicketCount`: The number of passengers with the same ticket, indicating group size.\n",
    "2. `FamilySize`: Combines `SibSp` and `Parch` to capture the family size.\n"
   ]
  },
  {
   "cell_type": "code",
   "execution_count": 26,
   "metadata": {},
   "outputs": [],
   "source": [
    "all_data[\"TicketCount\"] = all_data.groupby(\n",
    "    \"Ticket\")[\"Ticket\"].transform(\"count\")"
   ]
  },
  {
   "cell_type": "code",
   "execution_count": 27,
   "metadata": {},
   "outputs": [],
   "source": [
    "all_data[\"FamilySize\"] = all_data[\"SibSp\"] + all_data[\"Parch\"] + 1"
   ]
  },
  {
   "cell_type": "markdown",
   "metadata": {},
   "source": [
    "- `TicketCount` might indicate group size, which can impact survival probability.\n",
    "- `FamilySize` can affect survival as passengers traveling alone may face different survival chances than those with family.\n"
   ]
  },
  {
   "cell_type": "markdown",
   "metadata": {},
   "source": [
    "### Create IsAlone Feature\n",
    "Create `IsAlone`, which is 1 if `FamilySize` is 1, indicating the passenger is traveling alone."
   ]
  },
  {
   "cell_type": "code",
   "execution_count": 28,
   "metadata": {},
   "outputs": [],
   "source": [
    "all_data[\"IsAlone\"] = (all_data[\"FamilySize\"] == 1).astype(int)"
   ]
  },
  {
   "cell_type": "markdown",
   "metadata": {},
   "source": [
    "- `IsAlone` could reveal differences in survival rates based on whether a passenger is alone or with family."
   ]
  },
  {
   "cell_type": "markdown",
   "metadata": {},
   "source": [
    "### Create Age Bins\n",
    "Bin `Age` into categorical ranges to simplify age-based differences in survival rates.\n"
   ]
  },
  {
   "cell_type": "code",
   "execution_count": 29,
   "metadata": {},
   "outputs": [
    {
     "data": {
      "text/plain": [
       "count    1309.000000\n",
       "mean       29.207540\n",
       "std        13.172381\n",
       "min         0.170000\n",
       "25%        22.000000\n",
       "50%        26.000000\n",
       "75%        37.000000\n",
       "max        80.000000\n",
       "Name: Age, dtype: float64"
      ]
     },
     "execution_count": 29,
     "metadata": {},
     "output_type": "execute_result"
    }
   ],
   "source": [
    "all_data[\"Age\"].describe()"
   ]
  },
  {
   "cell_type": "code",
   "execution_count": 30,
   "metadata": {},
   "outputs": [],
   "source": [
    "bins = [x*10 for x in range(10)]\n",
    "labels = range(1, len(bins))\n",
    "\n",
    "all_data[\"AgeBin\"] = pd.cut(\n",
    "    all_data[\"Age\"], bins=bins, labels=labels, right=False)"
   ]
  },
  {
   "cell_type": "markdown",
   "metadata": {},
   "source": [
    "- `AgeBin` allows us to group passengers by age range, which can capture non-linear relationships between age and survival.\n"
   ]
  },
  {
   "cell_type": "markdown",
   "metadata": {},
   "source": [
    "### Extract and Group Titles from Names\n",
    "\n",
    "- This is extracted from the Name feature of each passenger.\n",
    "- It seems to carry potential information such as their gender (Mr. for male, Mrs. for female) and their age (Master. is given to boys)."
   ]
  },
  {
   "cell_type": "code",
   "execution_count": 31,
   "metadata": {},
   "outputs": [
    {
     "data": {
      "text/plain": [
       "array(['Mr.', 'Mrs.', 'Miss.', 'Master.', 'Don.', 'Rev.', 'Dr.', 'Mme.',\n",
       "       'Ms.', 'Major.', 'Lady.', 'Sir.', 'Mlle.', 'Col.', 'Capt.', 'the',\n",
       "       'Jonkheer.', 'Dona.'], dtype=object)"
      ]
     },
     "execution_count": 31,
     "metadata": {},
     "output_type": "execute_result"
    }
   ],
   "source": [
    "all_data[\"Title\"] = all_data[\"Name\"].apply(\n",
    "    lambda x: x.split(',')[1].split()[0])\n",
    "all_data[\"Title\"].unique()"
   ]
  },
  {
   "cell_type": "code",
   "execution_count": 32,
   "metadata": {},
   "outputs": [
    {
     "data": {
      "image/png": "[encoded data removed]",
      "text/plain": [
       "<Figure size 504x432 with 1 Axes>"
      ]
     },
     "metadata": {
      "needs_background": "light"
     },
     "output_type": "display_data"
    }
   ],
   "source": [
    "plt.figure(figsize=(7, 6))\n",
    "all_data[\"Title\"].value_counts().plot(kind='bar', color='skyblue')\n",
    "plt.show()"
   ]
  },
  {
   "cell_type": "code",
   "execution_count": 33,
   "metadata": {},
   "outputs": [
    {
     "data": {
      "text/html": [
       "<div>\n",
       "<style scoped>\n",
       "    .dataframe tbody tr th:only-of-type {\n",
       "        vertical-align: middle;\n",
       "    }\n",
       "\n",
       "    .dataframe tbody tr th {\n",
       "        vertical-align: top;\n",
       "    }\n",
       "\n",
       "    .dataframe thead th {\n",
       "        text-align: right;\n",
       "    }\n",
       "</style>\n",
       "<table border=\"1\" class=\"dataframe\">\n",
       "  <thead>\n",
       "    <tr style=\"text-align: right;\">\n",
       "      <th></th>\n",
       "      <th>PassengerId</th>\n",
       "      <th>Survived</th>\n",
       "      <th>Pclass</th>\n",
       "      <th>Name</th>\n",
       "      <th>Sex</th>\n",
       "      <th>Age</th>\n",
       "      <th>SibSp</th>\n",
       "      <th>Parch</th>\n",
       "      <th>Ticket</th>\n",
       "      <th>Fare</th>\n",
       "      <th>Cabin</th>\n",
       "      <th>Embarked</th>\n",
       "      <th>Deck</th>\n",
       "      <th>CabinMissing</th>\n",
       "      <th>TicketCount</th>\n",
       "      <th>FamilySize</th>\n",
       "      <th>IsAlone</th>\n",
       "      <th>AgeBin</th>\n",
       "      <th>Title</th>\n",
       "    </tr>\n",
       "  </thead>\n",
       "  <tbody>\n",
       "    <tr>\n",
       "      <th>30</th>\n",
       "      <td>31</td>\n",
       "      <td>0.0</td>\n",
       "      <td>1</td>\n",
       "      <td>Uruchurtu, Don. Manuel E</td>\n",
       "      <td>0</td>\n",
       "      <td>40.0</td>\n",
       "      <td>0</td>\n",
       "      <td>0</td>\n",
       "      <td>PC 17601</td>\n",
       "      <td>27.7208</td>\n",
       "      <td>NaN</td>\n",
       "      <td>C</td>\n",
       "      <td>U</td>\n",
       "      <td>1</td>\n",
       "      <td>1</td>\n",
       "      <td>1</td>\n",
       "      <td>1</td>\n",
       "      <td>5</td>\n",
       "      <td>Don.</td>\n",
       "    </tr>\n",
       "    <tr>\n",
       "      <th>369</th>\n",
       "      <td>370</td>\n",
       "      <td>1.0</td>\n",
       "      <td>1</td>\n",
       "      <td>Aubart, Mme. Leontine Pauline</td>\n",
       "      <td>1</td>\n",
       "      <td>24.0</td>\n",
       "      <td>0</td>\n",
       "      <td>0</td>\n",
       "      <td>PC 17477</td>\n",
       "      <td>69.3000</td>\n",
       "      <td>B35</td>\n",
       "      <td>C</td>\n",
       "      <td>B</td>\n",
       "      <td>0</td>\n",
       "      <td>2</td>\n",
       "      <td>1</td>\n",
       "      <td>1</td>\n",
       "      <td>3</td>\n",
       "      <td>Mme.</td>\n",
       "    </tr>\n",
       "    <tr>\n",
       "      <th>641</th>\n",
       "      <td>642</td>\n",
       "      <td>1.0</td>\n",
       "      <td>1</td>\n",
       "      <td>Sagesser, Mlle. Emma</td>\n",
       "      <td>1</td>\n",
       "      <td>24.0</td>\n",
       "      <td>0</td>\n",
       "      <td>0</td>\n",
       "      <td>PC 17477</td>\n",
       "      <td>69.3000</td>\n",
       "      <td>B35</td>\n",
       "      <td>C</td>\n",
       "      <td>B</td>\n",
       "      <td>0</td>\n",
       "      <td>2</td>\n",
       "      <td>1</td>\n",
       "      <td>1</td>\n",
       "      <td>3</td>\n",
       "      <td>Mlle.</td>\n",
       "    </tr>\n",
       "    <tr>\n",
       "      <th>710</th>\n",
       "      <td>711</td>\n",
       "      <td>1.0</td>\n",
       "      <td>1</td>\n",
       "      <td>Mayne, Mlle. Berthe Antonine (\"Mrs de Villiers\")</td>\n",
       "      <td>1</td>\n",
       "      <td>24.0</td>\n",
       "      <td>0</td>\n",
       "      <td>0</td>\n",
       "      <td>PC 17482</td>\n",
       "      <td>49.5042</td>\n",
       "      <td>C90</td>\n",
       "      <td>C</td>\n",
       "      <td>C</td>\n",
       "      <td>0</td>\n",
       "      <td>1</td>\n",
       "      <td>1</td>\n",
       "      <td>1</td>\n",
       "      <td>3</td>\n",
       "      <td>Mlle.</td>\n",
       "    </tr>\n",
       "    <tr>\n",
       "      <th>759</th>\n",
       "      <td>760</td>\n",
       "      <td>1.0</td>\n",
       "      <td>1</td>\n",
       "      <td>Rothes, the Countess. of (Lucy Noel Martha Dye...</td>\n",
       "      <td>1</td>\n",
       "      <td>33.0</td>\n",
       "      <td>0</td>\n",
       "      <td>0</td>\n",
       "      <td>110152</td>\n",
       "      <td>86.5000</td>\n",
       "      <td>B77</td>\n",
       "      <td>S</td>\n",
       "      <td>B</td>\n",
       "      <td>0</td>\n",
       "      <td>3</td>\n",
       "      <td>1</td>\n",
       "      <td>1</td>\n",
       "      <td>4</td>\n",
       "      <td>the</td>\n",
       "    </tr>\n",
       "    <tr>\n",
       "      <th>822</th>\n",
       "      <td>823</td>\n",
       "      <td>0.0</td>\n",
       "      <td>1</td>\n",
       "      <td>Reuchlin, Jonkheer. John George</td>\n",
       "      <td>0</td>\n",
       "      <td>38.0</td>\n",
       "      <td>0</td>\n",
       "      <td>0</td>\n",
       "      <td>19972</td>\n",
       "      <td>0.0000</td>\n",
       "      <td>NaN</td>\n",
       "      <td>S</td>\n",
       "      <td>U</td>\n",
       "      <td>1</td>\n",
       "      <td>1</td>\n",
       "      <td>1</td>\n",
       "      <td>1</td>\n",
       "      <td>4</td>\n",
       "      <td>Jonkheer.</td>\n",
       "    </tr>\n",
       "    <tr>\n",
       "      <th>414</th>\n",
       "      <td>1306</td>\n",
       "      <td>NaN</td>\n",
       "      <td>1</td>\n",
       "      <td>Oliva y Ocana, Dona. Fermina</td>\n",
       "      <td>1</td>\n",
       "      <td>39.0</td>\n",
       "      <td>0</td>\n",
       "      <td>0</td>\n",
       "      <td>PC 17758</td>\n",
       "      <td>108.9000</td>\n",
       "      <td>C105</td>\n",
       "      <td>C</td>\n",
       "      <td>C</td>\n",
       "      <td>0</td>\n",
       "      <td>3</td>\n",
       "      <td>1</td>\n",
       "      <td>1</td>\n",
       "      <td>4</td>\n",
       "      <td>Dona.</td>\n",
       "    </tr>\n",
       "  </tbody>\n",
       "</table>\n",
       "</div>"
      ],
      "text/plain": [
       "     PassengerId  Survived  Pclass  \\\n",
       "30            31       0.0       1   \n",
       "369          370       1.0       1   \n",
       "641          642       1.0       1   \n",
       "710          711       1.0       1   \n",
       "759          760       1.0       1   \n",
       "822          823       0.0       1   \n",
       "414         1306       NaN       1   \n",
       "\n",
       "                                                  Name  Sex   Age  SibSp  \\\n",
       "30                            Uruchurtu, Don. Manuel E    0  40.0      0   \n",
       "369                      Aubart, Mme. Leontine Pauline    1  24.0      0   \n",
       "641                               Sagesser, Mlle. Emma    1  24.0      0   \n",
       "710   Mayne, Mlle. Berthe Antonine (\"Mrs de Villiers\")    1  24.0      0   \n",
       "759  Rothes, the Countess. of (Lucy Noel Martha Dye...    1  33.0      0   \n",
       "822                    Reuchlin, Jonkheer. John George    0  38.0      0   \n",
       "414                       Oliva y Ocana, Dona. Fermina    1  39.0      0   \n",
       "\n",
       "     Parch    Ticket      Fare Cabin Embarked Deck  CabinMissing  TicketCount  \\\n",
       "30       0  PC 17601   27.7208   NaN        C    U             1            1   \n",
       "369      0  PC 17477   69.3000   B35        C    B             0            2   \n",
       "641      0  PC 17477   69.3000   B35        C    B             0            2   \n",
       "710      0  PC 17482   49.5042   C90        C    C             0            1   \n",
       "759      0    110152   86.5000   B77        S    B             0            3   \n",
       "822      0     19972    0.0000   NaN        S    U             1            1   \n",
       "414      0  PC 17758  108.9000  C105        C    C             0            3   \n",
       "\n",
       "     FamilySize  IsAlone AgeBin      Title  \n",
       "30            1        1      5       Don.  \n",
       "369           1        1      3       Mme.  \n",
       "641           1        1      3      Mlle.  \n",
       "710           1        1      3      Mlle.  \n",
       "759           1        1      4        the  \n",
       "822           1        1      4  Jonkheer.  \n",
       "414           1        1      4      Dona.  "
      ]
     },
     "execution_count": 33,
     "metadata": {},
     "output_type": "execute_result"
    }
   ],
   "source": [
    "match_list = [\"the\", \"Jonkheer.\", \"Dona.\", \"Mlle.\", \"Mme.\", \"Don.\"]\n",
    "\n",
    "all_data[all_data[\"Name\"].apply(\n",
    "    lambda x: x.split(',')[1].split()[0]).isin(match_list)]"
   ]
  },
  {
   "cell_type": "markdown",
   "metadata": {},
   "source": [
    "- Jonkheer., Dona., Mlle., MMe. and Don. seem to be the names of passengers.\n",
    "- \"the\" is for PassengerId 760. It's followed by the term \"Countess\".\n",
    "\n",
    "I'll group together these titles by similarity into one of four groups:\n",
    "\n",
    "- Mr\n",
    "- Mrs/Miss\n",
    "- Master\n",
    "- Officer/Professional"
   ]
  },
  {
   "cell_type": "code",
   "execution_count": 34,
   "metadata": {},
   "outputs": [
    {
     "data": {
      "text/plain": [
       "array(['Mr', 'Mrs/Miss', 'Master', 'Officer/Professional'], dtype=object)"
      ]
     },
     "execution_count": 34,
     "metadata": {},
     "output_type": "execute_result"
    }
   ],
   "source": [
    "replacements = {\n",
    "    'Mr.': 'Mr',\n",
    "    'Mrs.': 'Mrs/Miss',\n",
    "    'Miss.': 'Mrs/Miss',\n",
    "    'Master.': 'Master',\n",
    "    'Don.': 'Mr',\n",
    "    'Rev.': 'Officer/Professional',\n",
    "    'Dr.': 'Officer/Professional',\n",
    "    'Mme.': 'Mrs/Miss',\n",
    "    'Ms.': 'Mrs/Miss',\n",
    "    'Major.': 'Officer/Professional',\n",
    "    'Lady.': 'Mrs/Miss',\n",
    "    'Sir.': 'Mr',\n",
    "    'Mlle.': 'Mrs/Miss',\n",
    "    'Col.': 'Officer/Professional',\n",
    "    'Capt.': 'Officer/Professional',\n",
    "    'the': 'Mrs/Miss',\n",
    "    'Jonkheer.': 'Mr',\n",
    "    'Dona.': 'Mrs/Miss'\n",
    "}\n",
    "\n",
    "all_data[\"Title\"] = all_data[\"Title\"].replace(replacements)\n",
    "\n",
    "all_data[\"Title\"].unique()"
   ]
  },
  {
   "cell_type": "markdown",
   "metadata": {},
   "source": [
    "- Titles can provide insight into social status or gender and age (e.g., Master for young boys).\n"
   ]
  },
  {
   "cell_type": "markdown",
   "metadata": {},
   "source": [
    "### One-Hot Encode Categorical Variables\n",
    "Convert categorical variables (e.g., `Pclass`, `Title`, `Embarked`, `AgeBin`) into one-hot encoded features for model compatibility.\n"
   ]
  },
  {
   "cell_type": "code",
   "execution_count": 35,
   "metadata": {},
   "outputs": [],
   "source": [
    "one_hot_columns = [\"Pclass\", \"Title\", \"Embarked\", \"Deck\", \"Sex\"]\n",
    "\n",
    "encoder = OneHotEncoder(sparse_output=False, dtype=int)\n",
    "encoded_features = encoder.fit_transform(all_data[one_hot_columns])\n",
    "encoded_df = pd.DataFrame(\n",
    "    encoded_features, columns=encoder.get_feature_names_out(one_hot_columns))\n",
    "encoded_df.index = all_data.index"
   ]
  },
  {
   "cell_type": "code",
   "execution_count": 36,
   "metadata": {},
   "outputs": [],
   "source": [
    "df_final = pd.concat([all_data, encoded_df], axis=1)"
   ]
  },
  {
   "cell_type": "code",
   "execution_count": 37,
   "metadata": {},
   "outputs": [],
   "source": [
    "df_final.columns \n",
    "# Convert categorical columns to one-hot encoding or label encoding\n",
    "# One-hot encode AgeBin\n",
    "df_final = pd.get_dummies(df_final, columns=[\"AgeBin\"])"
   ]
  },
  {
   "cell_type": "code",
   "execution_count": 38,
   "metadata": {},
   "outputs": [
    {
     "data": {
      "text/plain": [
       "Index(['PassengerId', 'Survived', 'Pclass', 'Name', 'Sex', 'Age', 'SibSp',\n",
       "       'Parch', 'Ticket', 'Fare', 'Cabin', 'Embarked', 'Deck', 'CabinMissing',\n",
       "       'TicketCount', 'FamilySize', 'IsAlone', 'Title', 'Pclass_1', 'Pclass_2',\n",
       "       'Pclass_3', 'Title_Master', 'Title_Mr', 'Title_Mrs/Miss',\n",
       "       'Title_Officer/Professional', 'Embarked_C', 'Embarked_Q', 'Embarked_S',\n",
       "       'Deck_A', 'Deck_B', 'Deck_C', 'Deck_D', 'Deck_E', 'Deck_F', 'Deck_G',\n",
       "       'Deck_T', 'Deck_U', 'Sex_0', 'Sex_1', 'AgeBin_1', 'AgeBin_2',\n",
       "       'AgeBin_3', 'AgeBin_4', 'AgeBin_5', 'AgeBin_6', 'AgeBin_7', 'AgeBin_8',\n",
       "       'AgeBin_9'],\n",
       "      dtype='object')"
      ]
     },
     "execution_count": 38,
     "metadata": {},
     "output_type": "execute_result"
    }
   ],
   "source": [
    "df_final.columns"
   ]
  },
  {
   "cell_type": "markdown",
   "metadata": {},
   "source": [
    "- One-hot encoding allows categorical data to be represented numerically, making it suitable for model input.\n"
   ]
  },
  {
   "cell_type": "markdown",
   "metadata": {},
   "source": [
    "### Drop Irrelevant Columns\n",
    "Remove columns that are no longer needed after feature engineering (e.g., original categorical columns and IDs).\n"
   ]
  },
  {
   "cell_type": "code",
   "execution_count": 39,
   "metadata": {},
   "outputs": [],
   "source": [
    "drop_cols = [\"Ticket\", \"Cabin\", \"Name\", \"PassengerId\", \"Age\",\n",
    "             \"SibSp\", \"Parch\", \"Pclass\", \"Embarked\", \"Title\", \"Deck\", \"Sex\"]\n",
    "\n",
    "df_final.drop(columns=drop_cols, inplace=True)"
   ]
  },
  {
   "cell_type": "markdown",
   "metadata": {},
   "source": [
    "- Dropping these columns reduces dimensionality, keeping only relevant engineered features.\n"
   ]
  },
  {
   "cell_type": "code",
   "execution_count": 40,
   "metadata": {},
   "outputs": [
    {
     "data": {
      "text/plain": [
       "Index(['Survived', 'Fare', 'CabinMissing', 'TicketCount', 'FamilySize',\n",
       "       'IsAlone', 'Pclass_1', 'Pclass_2', 'Pclass_3', 'Title_Master',\n",
       "       'Title_Mr', 'Title_Mrs/Miss', 'Title_Officer/Professional',\n",
       "       'Embarked_C', 'Embarked_Q', 'Embarked_S', 'Deck_A', 'Deck_B', 'Deck_C',\n",
       "       'Deck_D', 'Deck_E', 'Deck_F', 'Deck_G', 'Deck_T', 'Deck_U', 'Sex_0',\n",
       "       'Sex_1', 'AgeBin_1', 'AgeBin_2', 'AgeBin_3', 'AgeBin_4', 'AgeBin_5',\n",
       "       'AgeBin_6', 'AgeBin_7', 'AgeBin_8', 'AgeBin_9'],\n",
       "      dtype='object')"
      ]
     },
     "execution_count": 40,
     "metadata": {},
     "output_type": "execute_result"
    }
   ],
   "source": [
    "df_final.columns"
   ]
  },
  {
   "cell_type": "code",
   "execution_count": 41,
   "metadata": {},
   "outputs": [
    {
     "data": {
      "text/html": [
       "<div>\n",
       "<style scoped>\n",
       "    .dataframe tbody tr th:only-of-type {\n",
       "        vertical-align: middle;\n",
       "    }\n",
       "\n",
       "    .dataframe tbody tr th {\n",
       "        vertical-align: top;\n",
       "    }\n",
       "\n",
       "    .dataframe thead th {\n",
       "        text-align: right;\n",
       "    }\n",
       "</style>\n",
       "<table border=\"1\" class=\"dataframe\">\n",
       "  <thead>\n",
       "    <tr style=\"text-align: right;\">\n",
       "      <th></th>\n",
       "      <th>Survived</th>\n",
       "      <th>Fare</th>\n",
       "      <th>CabinMissing</th>\n",
       "      <th>TicketCount</th>\n",
       "      <th>FamilySize</th>\n",
       "      <th>IsAlone</th>\n",
       "      <th>Pclass_1</th>\n",
       "      <th>Pclass_2</th>\n",
       "      <th>Pclass_3</th>\n",
       "      <th>Title_Master</th>\n",
       "      <th>...</th>\n",
       "      <th>Sex_1</th>\n",
       "      <th>AgeBin_1</th>\n",
       "      <th>AgeBin_2</th>\n",
       "      <th>AgeBin_3</th>\n",
       "      <th>AgeBin_4</th>\n",
       "      <th>AgeBin_5</th>\n",
       "      <th>AgeBin_6</th>\n",
       "      <th>AgeBin_7</th>\n",
       "      <th>AgeBin_8</th>\n",
       "      <th>AgeBin_9</th>\n",
       "    </tr>\n",
       "  </thead>\n",
       "  <tbody>\n",
       "    <tr>\n",
       "      <th>0</th>\n",
       "      <td>0.0</td>\n",
       "      <td>7.2500</td>\n",
       "      <td>1</td>\n",
       "      <td>1</td>\n",
       "      <td>2</td>\n",
       "      <td>0</td>\n",
       "      <td>0</td>\n",
       "      <td>0</td>\n",
       "      <td>1</td>\n",
       "      <td>0</td>\n",
       "      <td>...</td>\n",
       "      <td>0</td>\n",
       "      <td>False</td>\n",
       "      <td>False</td>\n",
       "      <td>True</td>\n",
       "      <td>False</td>\n",
       "      <td>False</td>\n",
       "      <td>False</td>\n",
       "      <td>False</td>\n",
       "      <td>False</td>\n",
       "      <td>False</td>\n",
       "    </tr>\n",
       "    <tr>\n",
       "      <th>1</th>\n",
       "      <td>1.0</td>\n",
       "      <td>71.2833</td>\n",
       "      <td>0</td>\n",
       "      <td>2</td>\n",
       "      <td>2</td>\n",
       "      <td>0</td>\n",
       "      <td>1</td>\n",
       "      <td>0</td>\n",
       "      <td>0</td>\n",
       "      <td>0</td>\n",
       "      <td>...</td>\n",
       "      <td>1</td>\n",
       "      <td>False</td>\n",
       "      <td>False</td>\n",
       "      <td>False</td>\n",
       "      <td>True</td>\n",
       "      <td>False</td>\n",
       "      <td>False</td>\n",
       "      <td>False</td>\n",
       "      <td>False</td>\n",
       "      <td>False</td>\n",
       "    </tr>\n",
       "    <tr>\n",
       "      <th>2</th>\n",
       "      <td>1.0</td>\n",
       "      <td>7.9250</td>\n",
       "      <td>1</td>\n",
       "      <td>1</td>\n",
       "      <td>1</td>\n",
       "      <td>1</td>\n",
       "      <td>0</td>\n",
       "      <td>0</td>\n",
       "      <td>1</td>\n",
       "      <td>0</td>\n",
       "      <td>...</td>\n",
       "      <td>1</td>\n",
       "      <td>False</td>\n",
       "      <td>False</td>\n",
       "      <td>True</td>\n",
       "      <td>False</td>\n",
       "      <td>False</td>\n",
       "      <td>False</td>\n",
       "      <td>False</td>\n",
       "      <td>False</td>\n",
       "      <td>False</td>\n",
       "    </tr>\n",
       "    <tr>\n",
       "      <th>3</th>\n",
       "      <td>1.0</td>\n",
       "      <td>53.1000</td>\n",
       "      <td>0</td>\n",
       "      <td>2</td>\n",
       "      <td>2</td>\n",
       "      <td>0</td>\n",
       "      <td>1</td>\n",
       "      <td>0</td>\n",
       "      <td>0</td>\n",
       "      <td>0</td>\n",
       "      <td>...</td>\n",
       "      <td>1</td>\n",
       "      <td>False</td>\n",
       "      <td>False</td>\n",
       "      <td>False</td>\n",
       "      <td>True</td>\n",
       "      <td>False</td>\n",
       "      <td>False</td>\n",
       "      <td>False</td>\n",
       "      <td>False</td>\n",
       "      <td>False</td>\n",
       "    </tr>\n",
       "    <tr>\n",
       "      <th>4</th>\n",
       "      <td>0.0</td>\n",
       "      <td>8.0500</td>\n",
       "      <td>1</td>\n",
       "      <td>1</td>\n",
       "      <td>1</td>\n",
       "      <td>1</td>\n",
       "      <td>0</td>\n",
       "      <td>0</td>\n",
       "      <td>1</td>\n",
       "      <td>0</td>\n",
       "      <td>...</td>\n",
       "      <td>0</td>\n",
       "      <td>False</td>\n",
       "      <td>False</td>\n",
       "      <td>False</td>\n",
       "      <td>True</td>\n",
       "      <td>False</td>\n",
       "      <td>False</td>\n",
       "      <td>False</td>\n",
       "      <td>False</td>\n",
       "      <td>False</td>\n",
       "    </tr>\n",
       "  </tbody>\n",
       "</table>\n",
       "<p>5 rows × 36 columns</p>\n",
       "</div>"
      ],
      "text/plain": [
       "   Survived     Fare  CabinMissing  TicketCount  FamilySize  IsAlone  \\\n",
       "0       0.0   7.2500             1            1           2        0   \n",
       "1       1.0  71.2833             0            2           2        0   \n",
       "2       1.0   7.9250             1            1           1        1   \n",
       "3       1.0  53.1000             0            2           2        0   \n",
       "4       0.0   8.0500             1            1           1        1   \n",
       "\n",
       "   Pclass_1  Pclass_2  Pclass_3  Title_Master  ...  Sex_1  AgeBin_1  AgeBin_2  \\\n",
       "0         0         0         1             0  ...      0     False     False   \n",
       "1         1         0         0             0  ...      1     False     False   \n",
       "2         0         0         1             0  ...      1     False     False   \n",
       "3         1         0         0             0  ...      1     False     False   \n",
       "4         0         0         1             0  ...      0     False     False   \n",
       "\n",
       "   AgeBin_3  AgeBin_4  AgeBin_5  AgeBin_6  AgeBin_7  AgeBin_8  AgeBin_9  \n",
       "0      True     False     False     False     False     False     False  \n",
       "1     False      True     False     False     False     False     False  \n",
       "2      True     False     False     False     False     False     False  \n",
       "3     False      True     False     False     False     False     False  \n",
       "4     False      True     False     False     False     False     False  \n",
       "\n",
       "[5 rows x 36 columns]"
      ]
     },
     "execution_count": 41,
     "metadata": {},
     "output_type": "execute_result"
    }
   ],
   "source": [
    "df_final.head()"
   ]
  },
  {
   "cell_type": "markdown",
   "metadata": {},
   "source": [
    "### Split Data Back into Train and Test Sets\n",
    "After feature engineering, separate the data back into training and test sets for model training and evaluation.\n"
   ]
  },
  {
   "cell_type": "code",
   "execution_count": 42,
   "metadata": {},
   "outputs": [],
   "source": [
    "# Split the data back into the train and test sets\n",
    "df_train = df_final[:891]\n",
    "df_test = df_final[891:]"
   ]
  },
  {
   "cell_type": "code",
   "execution_count": 43,
   "metadata": {},
   "outputs": [
    {
     "name": "stdout",
     "output_type": "stream",
     "text": [
      "(891, 36)\n",
      "(418, 36)\n"
     ]
    }
   ],
   "source": [
    "print(df_train.shape)\n",
    "print(df_test.shape)"
   ]
  },
  {
   "cell_type": "code",
   "execution_count": 44,
   "metadata": {},
   "outputs": [],
   "source": [
    "df_test.drop(columns=['Survived'], inplace=True)"
   ]
  },
  {
   "cell_type": "code",
   "execution_count": 45,
   "metadata": {},
   "outputs": [],
   "source": [
    "X_train = df_train.drop(columns=\"Survived\")\n",
    "y_train = df_train[\"Survived\"].values\n",
    "\n",
    "X_test = df_test"
   ]
  },
  {
   "cell_type": "markdown",
   "metadata": {},
   "source": [
    "- Data is split back into training and testing sets with the target variable (`Survived`) separated for training.\n"
   ]
  },
  {
   "cell_type": "code",
   "execution_count": 46,
   "metadata": {},
   "outputs": [
    {
     "data": {
      "text/html": [
       "<div>\n",
       "<style scoped>\n",
       "    .dataframe tbody tr th:only-of-type {\n",
       "        vertical-align: middle;\n",
       "    }\n",
       "\n",
       "    .dataframe tbody tr th {\n",
       "        vertical-align: top;\n",
       "    }\n",
       "\n",
       "    .dataframe thead th {\n",
       "        text-align: right;\n",
       "    }\n",
       "</style>\n",
       "<table border=\"1\" class=\"dataframe\">\n",
       "  <thead>\n",
       "    <tr style=\"text-align: right;\">\n",
       "      <th></th>\n",
       "      <th>Fare</th>\n",
       "      <th>CabinMissing</th>\n",
       "      <th>TicketCount</th>\n",
       "      <th>FamilySize</th>\n",
       "      <th>IsAlone</th>\n",
       "      <th>Pclass_1</th>\n",
       "      <th>Pclass_2</th>\n",
       "      <th>Pclass_3</th>\n",
       "      <th>Title_Master</th>\n",
       "      <th>Title_Mr</th>\n",
       "      <th>...</th>\n",
       "      <th>Sex_1</th>\n",
       "      <th>AgeBin_1</th>\n",
       "      <th>AgeBin_2</th>\n",
       "      <th>AgeBin_3</th>\n",
       "      <th>AgeBin_4</th>\n",
       "      <th>AgeBin_5</th>\n",
       "      <th>AgeBin_6</th>\n",
       "      <th>AgeBin_7</th>\n",
       "      <th>AgeBin_8</th>\n",
       "      <th>AgeBin_9</th>\n",
       "    </tr>\n",
       "  </thead>\n",
       "  <tbody>\n",
       "    <tr>\n",
       "      <th>0</th>\n",
       "      <td>7.2500</td>\n",
       "      <td>1</td>\n",
       "      <td>1</td>\n",
       "      <td>2</td>\n",
       "      <td>0</td>\n",
       "      <td>0</td>\n",
       "      <td>0</td>\n",
       "      <td>1</td>\n",
       "      <td>0</td>\n",
       "      <td>1</td>\n",
       "      <td>...</td>\n",
       "      <td>0</td>\n",
       "      <td>False</td>\n",
       "      <td>False</td>\n",
       "      <td>True</td>\n",
       "      <td>False</td>\n",
       "      <td>False</td>\n",
       "      <td>False</td>\n",
       "      <td>False</td>\n",
       "      <td>False</td>\n",
       "      <td>False</td>\n",
       "    </tr>\n",
       "    <tr>\n",
       "      <th>1</th>\n",
       "      <td>71.2833</td>\n",
       "      <td>0</td>\n",
       "      <td>2</td>\n",
       "      <td>2</td>\n",
       "      <td>0</td>\n",
       "      <td>1</td>\n",
       "      <td>0</td>\n",
       "      <td>0</td>\n",
       "      <td>0</td>\n",
       "      <td>0</td>\n",
       "      <td>...</td>\n",
       "      <td>1</td>\n",
       "      <td>False</td>\n",
       "      <td>False</td>\n",
       "      <td>False</td>\n",
       "      <td>True</td>\n",
       "      <td>False</td>\n",
       "      <td>False</td>\n",
       "      <td>False</td>\n",
       "      <td>False</td>\n",
       "      <td>False</td>\n",
       "    </tr>\n",
       "    <tr>\n",
       "      <th>2</th>\n",
       "      <td>7.9250</td>\n",
       "      <td>1</td>\n",
       "      <td>1</td>\n",
       "      <td>1</td>\n",
       "      <td>1</td>\n",
       "      <td>0</td>\n",
       "      <td>0</td>\n",
       "      <td>1</td>\n",
       "      <td>0</td>\n",
       "      <td>0</td>\n",
       "      <td>...</td>\n",
       "      <td>1</td>\n",
       "      <td>False</td>\n",
       "      <td>False</td>\n",
       "      <td>True</td>\n",
       "      <td>False</td>\n",
       "      <td>False</td>\n",
       "      <td>False</td>\n",
       "      <td>False</td>\n",
       "      <td>False</td>\n",
       "      <td>False</td>\n",
       "    </tr>\n",
       "    <tr>\n",
       "      <th>3</th>\n",
       "      <td>53.1000</td>\n",
       "      <td>0</td>\n",
       "      <td>2</td>\n",
       "      <td>2</td>\n",
       "      <td>0</td>\n",
       "      <td>1</td>\n",
       "      <td>0</td>\n",
       "      <td>0</td>\n",
       "      <td>0</td>\n",
       "      <td>0</td>\n",
       "      <td>...</td>\n",
       "      <td>1</td>\n",
       "      <td>False</td>\n",
       "      <td>False</td>\n",
       "      <td>False</td>\n",
       "      <td>True</td>\n",
       "      <td>False</td>\n",
       "      <td>False</td>\n",
       "      <td>False</td>\n",
       "      <td>False</td>\n",
       "      <td>False</td>\n",
       "    </tr>\n",
       "    <tr>\n",
       "      <th>4</th>\n",
       "      <td>8.0500</td>\n",
       "      <td>1</td>\n",
       "      <td>1</td>\n",
       "      <td>1</td>\n",
       "      <td>1</td>\n",
       "      <td>0</td>\n",
       "      <td>0</td>\n",
       "      <td>1</td>\n",
       "      <td>0</td>\n",
       "      <td>1</td>\n",
       "      <td>...</td>\n",
       "      <td>0</td>\n",
       "      <td>False</td>\n",
       "      <td>False</td>\n",
       "      <td>False</td>\n",
       "      <td>True</td>\n",
       "      <td>False</td>\n",
       "      <td>False</td>\n",
       "      <td>False</td>\n",
       "      <td>False</td>\n",
       "      <td>False</td>\n",
       "    </tr>\n",
       "  </tbody>\n",
       "</table>\n",
       "<p>5 rows × 35 columns</p>\n",
       "</div>"
      ],
      "text/plain": [
       "      Fare  CabinMissing  TicketCount  FamilySize  IsAlone  Pclass_1  \\\n",
       "0   7.2500             1            1           2        0         0   \n",
       "1  71.2833             0            2           2        0         1   \n",
       "2   7.9250             1            1           1        1         0   \n",
       "3  53.1000             0            2           2        0         1   \n",
       "4   8.0500             1            1           1        1         0   \n",
       "\n",
       "   Pclass_2  Pclass_3  Title_Master  Title_Mr  ...  Sex_1  AgeBin_1  AgeBin_2  \\\n",
       "0         0         1             0         1  ...      0     False     False   \n",
       "1         0         0             0         0  ...      1     False     False   \n",
       "2         0         1             0         0  ...      1     False     False   \n",
       "3         0         0             0         0  ...      1     False     False   \n",
       "4         0         1             0         1  ...      0     False     False   \n",
       "\n",
       "   AgeBin_3  AgeBin_4  AgeBin_5  AgeBin_6  AgeBin_7  AgeBin_8  AgeBin_9  \n",
       "0      True     False     False     False     False     False     False  \n",
       "1     False      True     False     False     False     False     False  \n",
       "2      True     False     False     False     False     False     False  \n",
       "3     False      True     False     False     False     False     False  \n",
       "4     False      True     False     False     False     False     False  \n",
       "\n",
       "[5 rows x 35 columns]"
      ]
     },
     "execution_count": 46,
     "metadata": {},
     "output_type": "execute_result"
    }
   ],
   "source": [
    "X_train.head()"
   ]
  },
  {
   "cell_type": "markdown",
   "metadata": {},
   "source": [
    "# Model Selection and Hyperparameter Tuning\n",
    "\n",
    "We use various machine learning algorithms to predict Titanic survival, including:\n",
    "- **Random Forest**: A robust ensemble method that performs well on tabular data.\n",
    "- **Logistic Regression**: A simple, interpretable linear model often used in binary classification.\n",
    "- **Artificial Neural Network (ANN)**: A basic neural network that can capture complex patterns.\n",
    "- **Decision Tree**: A non-linear model that performs well with high interpretability.\n",
    "- **Support Vector Machine (SVM)**: A powerful classification algorithm that creates decision boundaries.\n",
    "- **k-Nearest Neighbors (k-NN)**: A non-parametric method that relies on feature similarity.\n",
    "- **Naive Bayes**: A simple probabilistic classifier based on Bayes' theorem.\n",
    "- **AdaBoost and Gradient Boosting**: Ensemble methods that iteratively improve weak learners.\n",
    "- **XGBoost and CatBoost**: Gradient-boosting models optimized for performance on structured data.\n",
    "\n",
    "For each model, we define a parameter grid for `GridSearchCV` to perform hyperparameter tuning and select the best combination of parameters using cross-validation. This will optimize each model’s performance by finding the most suitable parameter values.\n"
   ]
  },
  {
   "cell_type": "code",
   "execution_count": 47,
   "metadata": {},
   "outputs": [],
   "source": [
    "# Define all models with base parameters for GridSearchCV\n",
    "models = {\n",
    "    'Random Forest': RandomForestClassifier(class_weight='balanced'),\n",
    "    'Logistic Regression': LogisticRegression(max_iter=200),\n",
    "    'Artificial Neural Network': MLPClassifier(max_iter=200),\n",
    "    'Decision Tree': DecisionTreeClassifier(criterion='gini'),\n",
    "    'Support Vector Machine': SVC(),\n",
    "    'k-Nearest Neighbors': KNeighborsClassifier(),\n",
    "    'Naive Bayes': GaussianNB(),\n",
    "    'AdaBoost': AdaBoostClassifier(),\n",
    "    'Gradient Boosting': GradientBoostingClassifier(),\n",
    "    'XGBoost': XGBClassifier(use_label_encoder=False, eval_metric='logloss'),\n",
    "    'CatBoost': CatBoostClassifier(verbose=0)\n",
    "}"
   ]
  },
  {
   "cell_type": "markdown",
   "metadata": {},
   "source": [
    "This dictionary contains the initialized models, each with some default parameters to be further tuned with `GridSearchCV`. Each model has different characteristics that may contribute to improved performance in predicting survival on the Titanic dataset.\n"
   ]
  },
  {
   "cell_type": "markdown",
   "metadata": {},
   "source": [
    "### Defining Parameter Grids for GridSearchCV\n",
    "\n",
    "Here, we define the parameter grids for each model. These grids contain values for each hyperparameter to test during cross-validation. Notable parameters for each model include:\n",
    "- **Random Forest**: Number of estimators (trees), maximum tree depth, minimum samples per split, etc.\n",
    "- **Logistic Regression**: Regularization strength, solver type, and maximum iterations.\n",
    "- **Artificial Neural Network**: Number of hidden layers, activation function, learning rate, and maximum iterations.\n",
    "- **Support Vector Machine**: Penalty parameter (C), kernel type, and gamma for non-linear kernels.\n",
    "- **AdaBoost** and **Gradient Boosting**: Learning rate, number of estimators, and parameters for weak learners.\n",
    "- **XGBoost and CatBoost**: Number of boosting iterations, learning rate, and regularization parameters, among others.\n",
    "\n",
    "These parameter grids will be used in `GridSearchCV` to test multiple combinations, identifying the optimal parameter set for each model.\n"
   ]
  },
  {
   "cell_type": "code",
   "execution_count": 48,
   "metadata": {},
   "outputs": [],
   "source": [
    "# Define parameter grids for models that will use GridSearchCV\n",
    "param_grids = {\n",
    "    'Random Forest': {'n_estimators': [100, 200, 300], 'max_depth': [5, 10, 15, None], 'min_samples_split': [2, 5, 10], 'min_samples_leaf': [1, 2, 4]},\n",
    "    'Logistic Regression': {'C': [0.01, 0.1, 0.5, 1.0, 10], 'solver': ['liblinear', 'lbfgs', 'saga'],'penalty': ['l1', 'l2', 'elasticnet'], 'max_iter': [100, 200, 300]},\n",
    "    'Artificial Neural Network': {'hidden_layer_sizes': [(50, 30), (100,),(100, 50),(150, 100, 50)], 'solver': ['adam','sgd'], 'alpha': [0.0001, 0.001, 0.01], 'learning_rate': ['constant', 'adaptive'], 'max_iter': [200, 300, 500]},\n",
    "    'Decision Tree': {'max_depth': [5, 10, 15, None], 'min_samples_split': [2, 5, 10], 'min_samples_leaf': [1, 2, 4], 'criterion': ['gini', 'entropy', 'log_loss']},\n",
    "    'Support Vector Machine': {'C': [0.1, 0.5, 1.0, 10], 'kernel': ['rbf', 'linear'], 'gamma': ['scale', 'auto']},\n",
    "    'k-Nearest Neighbors': {'n_neighbors': [3, 5, 7, 10], 'weights': ['uniform', 'distance'], 'metric': ['euclidean', 'manhattan', 'minkowski']},\n",
    "    'Naive Bayes': {'var_smoothing': [1e-9, 1e-8, 1e-7, 1e-6, 1e-5]},  # Test different levels of variance smoothing\n",
    "    'AdaBoost': {'n_estimators': [50, 100, 200], 'learning_rate': [0.1, 0.5, 1.0, 1.5]},\n",
    "    'Gradient Boosting': {'n_estimators': [100, 150, 200, 300], 'learning_rate': [0.01, 0.05, 0.1, 0.2], 'max_depth': [3, 5, 7], 'subsample': [0.7, 0.8, 1.0], 'min_samples_split': [2, 5, 10]},\n",
    "    'XGBoost': {'n_estimators': [100, 150, 200, 300], 'learning_rate': [0.01, 0.05, 0.1, 0.2], 'max_depth': [3, 5, 7], 'subsample': [0.7, 0.8, 1.0], 'colsample_bytree': [0.5, 0.8, 1.0], 'gamma': [0, 0.1, 0.3], 'reg_alpha': [0, 0.01, 0.1], 'reg_lambda': [1, 1.5, 2]},\n",
    "    'CatBoost': {'iterations': [100, 150, 200, 300],  'learning_rate': [0.01, 0.05, 0.1, 0.2],  'depth': [3, 5, 7, 10], 'l2_leaf_reg': [1, 3, 5, 7], 'bagging_temperature': [0.0, 0.5, 1.0], 'border_count': [32, 64, 128]}\n",
    "}"
   ]
  },
  {
   "cell_type": "markdown",
   "metadata": {},
   "source": [
    "The parameters defined in each grid cover a range of potential values, allowing `GridSearchCV` to find the most effective hyperparameters through cross-validation.\n"
   ]
  },
  {
   "cell_type": "markdown",
   "metadata": {},
   "source": [
    "### Train Models and Perform Hyperparameter Tuning\n",
    "\n",
    "For each model, we use `GridSearchCV` to search for the optimal hyperparameters through 5-fold cross-validation. The best-performing model for each algorithm is then selected based on the highest cross-validation accuracy.\n"
   ]
  },
  {
   "cell_type": "code",
   "execution_count": 49,
   "metadata": {},
   "outputs": [
    {
     "name": "stdout",
     "output_type": "stream",
     "text": [
      "Training Random Forest...\n",
      "Best Parameters for Random Forest: {'max_depth': None, 'min_samples_leaf': 2, 'min_samples_split': 2, 'n_estimators': 200}\n",
      "Best Cross-Validation Accuracy for Random Forest: 0.8371\n",
      "Random Forest Validation Accuracy: 0.8380\n",
      "              precision    recall  f1-score   support\n",
      "\n",
      "         0.0       0.87      0.86      0.86       105\n",
      "         1.0       0.80      0.81      0.81        74\n",
      "\n",
      "    accuracy                           0.84       179\n",
      "   macro avg       0.83      0.83      0.83       179\n",
      "weighted avg       0.84      0.84      0.84       179\n",
      "\n",
      "Confusion Matrix:\n",
      " [[90 15]\n",
      " [14 60]]\n",
      "\n",
      "==================================================\n",
      "\n",
      "Training Logistic Regression...\n",
      "Best Parameters for Logistic Regression: {'C': 10, 'max_iter': 100, 'penalty': 'l2', 'solver': 'lbfgs'}\n",
      "Best Cross-Validation Accuracy for Logistic Regression: 0.8315\n",
      "Logistic Regression Validation Accuracy: 0.8324\n",
      "              precision    recall  f1-score   support\n",
      "\n",
      "         0.0       0.86      0.86      0.86       105\n",
      "         1.0       0.80      0.80      0.80        74\n",
      "\n",
      "    accuracy                           0.83       179\n",
      "   macro avg       0.83      0.83      0.83       179\n",
      "weighted avg       0.83      0.83      0.83       179\n",
      "\n",
      "Confusion Matrix:\n",
      " [[90 15]\n",
      " [15 59]]\n",
      "\n",
      "==================================================\n",
      "\n",
      "Training Artificial Neural Network...\n",
      "Best Parameters for Artificial Neural Network: {'alpha': 0.0001, 'hidden_layer_sizes': (50, 30), 'learning_rate': 'constant', 'max_iter': 200, 'solver': 'adam'}\n",
      "Best Cross-Validation Accuracy for Artificial Neural Network: 0.8343\n",
      "Artificial Neural Network Validation Accuracy: 0.8324\n",
      "              precision    recall  f1-score   support\n",
      "\n",
      "         0.0       0.84      0.89      0.86       105\n",
      "         1.0       0.82      0.76      0.79        74\n",
      "\n",
      "    accuracy                           0.83       179\n",
      "   macro avg       0.83      0.82      0.82       179\n",
      "weighted avg       0.83      0.83      0.83       179\n",
      "\n",
      "Confusion Matrix:\n",
      " [[93 12]\n",
      " [18 56]]\n",
      "\n",
      "==================================================\n",
      "\n",
      "Training Decision Tree...\n",
      "Best Parameters for Decision Tree: {'criterion': 'gini', 'max_depth': 10, 'min_samples_leaf': 1, 'min_samples_split': 10}\n",
      "Best Cross-Validation Accuracy for Decision Tree: 0.8231\n",
      "Decision Tree Validation Accuracy: 0.8268\n",
      "              precision    recall  f1-score   support\n",
      "\n",
      "         0.0       0.84      0.87      0.85       105\n",
      "         1.0       0.80      0.77      0.79        74\n",
      "\n",
      "    accuracy                           0.83       179\n",
      "   macro avg       0.82      0.82      0.82       179\n",
      "weighted avg       0.83      0.83      0.83       179\n",
      "\n",
      "Confusion Matrix:\n",
      " [[91 14]\n",
      " [17 57]]\n",
      "\n",
      "==================================================\n",
      "\n",
      "Training Support Vector Machine...\n",
      "Best Parameters for Support Vector Machine: {'C': 0.1, 'gamma': 'scale', 'kernel': 'linear'}\n",
      "Best Cross-Validation Accuracy for Support Vector Machine: 0.8300\n",
      "Support Vector Machine Validation Accuracy: 0.8268\n",
      "              precision    recall  f1-score   support\n",
      "\n",
      "         0.0       0.84      0.88      0.86       105\n",
      "         1.0       0.81      0.76      0.78        74\n",
      "\n",
      "    accuracy                           0.83       179\n",
      "   macro avg       0.82      0.82      0.82       179\n",
      "weighted avg       0.83      0.83      0.83       179\n",
      "\n",
      "Confusion Matrix:\n",
      " [[92 13]\n",
      " [18 56]]\n",
      "\n",
      "==================================================\n",
      "\n",
      "Training k-Nearest Neighbors...\n",
      "Best Parameters for k-Nearest Neighbors: {'metric': 'manhattan', 'n_neighbors': 5, 'weights': 'uniform'}\n",
      "Best Cross-Validation Accuracy for k-Nearest Neighbors: 0.8006\n",
      "k-Nearest Neighbors Validation Accuracy: 0.8101\n",
      "              precision    recall  f1-score   support\n",
      "\n",
      "         0.0       0.82      0.87      0.84       105\n",
      "         1.0       0.79      0.73      0.76        74\n",
      "\n",
      "    accuracy                           0.81       179\n",
      "   macro avg       0.81      0.80      0.80       179\n",
      "weighted avg       0.81      0.81      0.81       179\n",
      "\n",
      "Confusion Matrix:\n",
      " [[91 14]\n",
      " [20 54]]\n",
      "\n",
      "==================================================\n",
      "\n",
      "Training Naive Bayes...\n",
      "Best Parameters for Naive Bayes: {'var_smoothing': 1e-05}\n",
      "Best Cross-Validation Accuracy for Naive Bayes: 0.7921\n",
      "Naive Bayes Validation Accuracy: 0.7933\n",
      "              precision    recall  f1-score   support\n",
      "\n",
      "         0.0       0.85      0.78      0.82       105\n",
      "         1.0       0.72      0.81      0.76        74\n",
      "\n",
      "    accuracy                           0.79       179\n",
      "   macro avg       0.79      0.80      0.79       179\n",
      "weighted avg       0.80      0.79      0.79       179\n",
      "\n",
      "Confusion Matrix:\n",
      " [[82 23]\n",
      " [14 60]]\n",
      "\n",
      "==================================================\n",
      "\n",
      "Training AdaBoost...\n",
      "Best Parameters for AdaBoost: {'learning_rate': 1.0, 'n_estimators': 200}\n",
      "Best Cross-Validation Accuracy for AdaBoost: 0.8301\n",
      "AdaBoost Validation Accuracy: 0.8156\n",
      "              precision    recall  f1-score   support\n",
      "\n",
      "         0.0       0.85      0.83      0.84       105\n",
      "         1.0       0.77      0.80      0.78        74\n",
      "\n",
      "    accuracy                           0.82       179\n",
      "   macro avg       0.81      0.81      0.81       179\n",
      "weighted avg       0.82      0.82      0.82       179\n",
      "\n",
      "Confusion Matrix:\n",
      " [[87 18]\n",
      " [15 59]]\n",
      "\n",
      "==================================================\n",
      "\n",
      "Training Gradient Boosting...\n",
      "Best Parameters for Gradient Boosting: {'learning_rate': 0.1, 'max_depth': 3, 'min_samples_split': 2, 'n_estimators': 150, 'subsample': 0.8}\n",
      "Best Cross-Validation Accuracy for Gradient Boosting: 0.8497\n",
      "Gradient Boosting Validation Accuracy: 0.8156\n",
      "              precision    recall  f1-score   support\n",
      "\n",
      "         0.0       0.84      0.85      0.84       105\n",
      "         1.0       0.78      0.77      0.78        74\n",
      "\n",
      "    accuracy                           0.82       179\n",
      "   macro avg       0.81      0.81      0.81       179\n",
      "weighted avg       0.82      0.82      0.82       179\n",
      "\n",
      "Confusion Matrix:\n",
      " [[89 16]\n",
      " [17 57]]\n",
      "\n",
      "==================================================\n",
      "\n",
      "Training XGBoost...\n",
      "Best Parameters for XGBoost: {'colsample_bytree': 0.5, 'gamma': 0, 'learning_rate': 0.05, 'max_depth': 5, 'n_estimators': 300, 'reg_alpha': 0, 'reg_lambda': 2, 'subsample': 1.0}\n",
      "Best Cross-Validation Accuracy for XGBoost: 0.8511\n",
      "XGBoost Validation Accuracy: 0.8380\n",
      "              precision    recall  f1-score   support\n",
      "\n",
      "         0.0       0.86      0.87      0.86       105\n",
      "         1.0       0.81      0.80      0.80        74\n",
      "\n",
      "    accuracy                           0.84       179\n",
      "   macro avg       0.83      0.83      0.83       179\n",
      "weighted avg       0.84      0.84      0.84       179\n",
      "\n",
      "Confusion Matrix:\n",
      " [[91 14]\n",
      " [15 59]]\n",
      "\n",
      "==================================================\n",
      "\n",
      "Training CatBoost...\n",
      "Best Parameters for CatBoost: {'bagging_temperature': 0.0, 'border_count': 64, 'depth': 3, 'iterations': 300, 'l2_leaf_reg': 5, 'learning_rate': 0.1}\n",
      "Best Cross-Validation Accuracy for CatBoost: 0.8567\n",
      "CatBoost Validation Accuracy: 0.8436\n",
      "              precision    recall  f1-score   support\n",
      "\n",
      "         0.0       0.85      0.89      0.87       105\n",
      "         1.0       0.83      0.78      0.81        74\n",
      "\n",
      "    accuracy                           0.84       179\n",
      "   macro avg       0.84      0.83      0.84       179\n",
      "weighted avg       0.84      0.84      0.84       179\n",
      "\n",
      "Confusion Matrix:\n",
      " [[93 12]\n",
      " [16 58]]\n",
      "\n",
      "==================================================\n",
      "\n"
     ]
    }
   ],
   "source": [
    "# Track performance of each model\n",
    "model_performance = []\n",
    "\n",
    "# Split the data into training and validation sets\n",
    "train_x, X_val, train_y, y_val = train_test_split(\n",
    "    X_train, y_train, test_size=0.2, random_state=42)\n",
    "\n",
    "for model_name, model in models.items():\n",
    "    print(f\"Training {model_name}...\")\n",
    "\n",
    "    # Get the parameter grid for the model\n",
    "    param_grid = param_grids.get(model_name, {})\n",
    "\n",
    "    # Initialize best model\n",
    "    best_model = model\n",
    "\n",
    "    # If there are parameters to tune, use GridSearchCV\n",
    "    if param_grid:\n",
    "        grid_search_cv = GridSearchCV(\n",
    "            estimator=model, param_grid=param_grid, cv=5, n_jobs=-1, scoring='accuracy', verbose=0)\n",
    "        grid_search_cv.fit(train_x, train_y)\n",
    "\n",
    "        # Extract the best model and parameters\n",
    "        best_model = grid_search_cv.best_estimator_\n",
    "        best_params = grid_search_cv.best_params_\n",
    "        best_score = grid_search_cv.best_score_\n",
    "\n",
    "        print(f\"Best Parameters for {model_name}: {best_params}\")\n",
    "        print(\n",
    "            f\"Best Cross-Validation Accuracy for {model_name}: {best_score:.4f}\")\n",
    "    else:\n",
    "        # If no parameters to tune, fit model as-is\n",
    "        best_model.fit(train_x, train_y)\n",
    "\n",
    "    # Predict on validation set with best model\n",
    "    y_pred = best_model.predict(X_val)\n",
    "\n",
    "    # Calculate accuracy and detailed metrics\n",
    "    accuracy = accuracy_score(y_val, y_pred)\n",
    "    report = classification_report(y_val, y_pred, output_dict=True)\n",
    "\n",
    "    print(f\"{model_name} Validation Accuracy: {accuracy:.4f}\")\n",
    "    print(classification_report(y_val, y_pred))\n",
    "    print(\"Confusion Matrix:\\n\", confusion_matrix(y_val, y_pred))\n",
    "    print(\"\\n\" + \"=\"*50 + \"\\n\")\n",
    "\n",
    "    # Append results to model_performance list\n",
    "    model_performance.append({\n",
    "        'Model': model_name,\n",
    "        'Best Parameters': best_params if param_grid else \"Default\",\n",
    "        'Cross-Validation Accuracy': best_score if param_grid else \"Not Applicable\",\n",
    "        'Validation Accuracy': accuracy,\n",
    "        'Precision': report['weighted avg']['precision'],\n",
    "        'Recall': report['weighted avg']['recall'],\n",
    "        'F1 Score': report['weighted avg']['f1-score']\n",
    "    })\n"
   ]
  },
  {
   "cell_type": "markdown",
   "metadata": {},
   "source": [
    "Each model is trained and evaluated on the validation set, with the best-performing hyperparameters applied. Performance metrics, including accuracy, precision, recall, and F1-score, are recorded for comparison.\n"
   ]
  },
  {
   "cell_type": "markdown",
   "metadata": {},
   "source": [
    "# Evaluate and Compare Model Performance\n",
    "\n",
    "After training, we compare all models based on validation accuracy to identify the best-performing model for Titanic survival prediction.\n"
   ]
  },
  {
   "cell_type": "code",
   "execution_count": 50,
   "metadata": {},
   "outputs": [
    {
     "data": {
      "text/html": [
       "<div>\n",
       "<style scoped>\n",
       "    .dataframe tbody tr th:only-of-type {\n",
       "        vertical-align: middle;\n",
       "    }\n",
       "\n",
       "    .dataframe tbody tr th {\n",
       "        vertical-align: top;\n",
       "    }\n",
       "\n",
       "    .dataframe thead th {\n",
       "        text-align: right;\n",
       "    }\n",
       "</style>\n",
       "<table border=\"1\" class=\"dataframe\">\n",
       "  <thead>\n",
       "    <tr style=\"text-align: right;\">\n",
       "      <th></th>\n",
       "      <th>Model</th>\n",
       "      <th>Best Parameters</th>\n",
       "      <th>Cross-Validation Accuracy</th>\n",
       "      <th>Validation Accuracy</th>\n",
       "      <th>Precision</th>\n",
       "      <th>Recall</th>\n",
       "      <th>F1 Score</th>\n",
       "    </tr>\n",
       "  </thead>\n",
       "  <tbody>\n",
       "    <tr>\n",
       "      <th>10</th>\n",
       "      <td>CatBoost</td>\n",
       "      <td>{'bagging_temperature': 0.0, 'border_count': 6...</td>\n",
       "      <td>0.856732</td>\n",
       "      <td>0.843575</td>\n",
       "      <td>0.843025</td>\n",
       "      <td>0.843575</td>\n",
       "      <td>0.842865</td>\n",
       "    </tr>\n",
       "    <tr>\n",
       "      <th>9</th>\n",
       "      <td>XGBoost</td>\n",
       "      <td>{'colsample_bytree': 0.5, 'gamma': 0, 'learnin...</td>\n",
       "      <td>0.851128</td>\n",
       "      <td>0.837989</td>\n",
       "      <td>0.837708</td>\n",
       "      <td>0.837989</td>\n",
       "      <td>0.837822</td>\n",
       "    </tr>\n",
       "    <tr>\n",
       "      <th>8</th>\n",
       "      <td>Gradient Boosting</td>\n",
       "      <td>{'learning_rate': 0.1, 'max_depth': 3, 'min_sa...</td>\n",
       "      <td>0.849739</td>\n",
       "      <td>0.815642</td>\n",
       "      <td>0.815314</td>\n",
       "      <td>0.815642</td>\n",
       "      <td>0.815452</td>\n",
       "    </tr>\n",
       "    <tr>\n",
       "      <th>0</th>\n",
       "      <td>Random Forest</td>\n",
       "      <td>{'max_depth': None, 'min_samples_leaf': 2, 'mi...</td>\n",
       "      <td>0.837083</td>\n",
       "      <td>0.837989</td>\n",
       "      <td>0.838354</td>\n",
       "      <td>0.837989</td>\n",
       "      <td>0.838145</td>\n",
       "    </tr>\n",
       "    <tr>\n",
       "      <th>2</th>\n",
       "      <td>Artificial Neural Network</td>\n",
       "      <td>{'alpha': 0.0001, 'hidden_layer_sizes': (50, 3...</td>\n",
       "      <td>0.834256</td>\n",
       "      <td>0.832402</td>\n",
       "      <td>0.831923</td>\n",
       "      <td>0.832402</td>\n",
       "      <td>0.831189</td>\n",
       "    </tr>\n",
       "    <tr>\n",
       "      <th>1</th>\n",
       "      <td>Logistic Regression</td>\n",
       "      <td>{'C': 10, 'max_iter': 100, 'penalty': 'l2', 's...</td>\n",
       "      <td>0.831469</td>\n",
       "      <td>0.832402</td>\n",
       "      <td>0.832402</td>\n",
       "      <td>0.832402</td>\n",
       "      <td>0.832402</td>\n",
       "    </tr>\n",
       "    <tr>\n",
       "      <th>7</th>\n",
       "      <td>AdaBoost</td>\n",
       "      <td>{'learning_rate': 1.0, 'n_estimators': 200}</td>\n",
       "      <td>0.830060</td>\n",
       "      <td>0.815642</td>\n",
       "      <td>0.817096</td>\n",
       "      <td>0.815642</td>\n",
       "      <td>0.816138</td>\n",
       "    </tr>\n",
       "    <tr>\n",
       "      <th>4</th>\n",
       "      <td>Support Vector Machine</td>\n",
       "      <td>{'C': 0.1, 'gamma': 'scale', 'kernel': 'linear'}</td>\n",
       "      <td>0.830011</td>\n",
       "      <td>0.826816</td>\n",
       "      <td>0.826124</td>\n",
       "      <td>0.826816</td>\n",
       "      <td>0.825802</td>\n",
       "    </tr>\n",
       "    <tr>\n",
       "      <th>3</th>\n",
       "      <td>Decision Tree</td>\n",
       "      <td>{'criterion': 'gini', 'max_depth': 10, 'min_sa...</td>\n",
       "      <td>0.823097</td>\n",
       "      <td>0.826816</td>\n",
       "      <td>0.826149</td>\n",
       "      <td>0.826816</td>\n",
       "      <td>0.826244</td>\n",
       "    </tr>\n",
       "    <tr>\n",
       "      <th>5</th>\n",
       "      <td>k-Nearest Neighbors</td>\n",
       "      <td>{'metric': 'manhattan', 'n_neighbors': 5, 'wei...</td>\n",
       "      <td>0.800561</td>\n",
       "      <td>0.810056</td>\n",
       "      <td>0.809194</td>\n",
       "      <td>0.810056</td>\n",
       "      <td>0.808681</td>\n",
       "    </tr>\n",
       "    <tr>\n",
       "      <th>6</th>\n",
       "      <td>Naive Bayes</td>\n",
       "      <td>{'var_smoothing': 1e-05}</td>\n",
       "      <td>0.792071</td>\n",
       "      <td>0.793296</td>\n",
       "      <td>0.799897</td>\n",
       "      <td>0.793296</td>\n",
       "      <td>0.794593</td>\n",
       "    </tr>\n",
       "  </tbody>\n",
       "</table>\n",
       "</div>"
      ],
      "text/plain": [
       "                        Model  \\\n",
       "10                   CatBoost   \n",
       "9                     XGBoost   \n",
       "8           Gradient Boosting   \n",
       "0               Random Forest   \n",
       "2   Artificial Neural Network   \n",
       "1         Logistic Regression   \n",
       "7                    AdaBoost   \n",
       "4      Support Vector Machine   \n",
       "3               Decision Tree   \n",
       "5         k-Nearest Neighbors   \n",
       "6                 Naive Bayes   \n",
       "\n",
       "                                      Best Parameters  \\\n",
       "10  {'bagging_temperature': 0.0, 'border_count': 6...   \n",
       "9   {'colsample_bytree': 0.5, 'gamma': 0, 'learnin...   \n",
       "8   {'learning_rate': 0.1, 'max_depth': 3, 'min_sa...   \n",
       "0   {'max_depth': None, 'min_samples_leaf': 2, 'mi...   \n",
       "2   {'alpha': 0.0001, 'hidden_layer_sizes': (50, 3...   \n",
       "1   {'C': 10, 'max_iter': 100, 'penalty': 'l2', 's...   \n",
       "7         {'learning_rate': 1.0, 'n_estimators': 200}   \n",
       "4    {'C': 0.1, 'gamma': 'scale', 'kernel': 'linear'}   \n",
       "3   {'criterion': 'gini', 'max_depth': 10, 'min_sa...   \n",
       "5   {'metric': 'manhattan', 'n_neighbors': 5, 'wei...   \n",
       "6                            {'var_smoothing': 1e-05}   \n",
       "\n",
       "    Cross-Validation Accuracy  Validation Accuracy  Precision    Recall  \\\n",
       "10                   0.856732             0.843575   0.843025  0.843575   \n",
       "9                    0.851128             0.837989   0.837708  0.837989   \n",
       "8                    0.849739             0.815642   0.815314  0.815642   \n",
       "0                    0.837083             0.837989   0.838354  0.837989   \n",
       "2                    0.834256             0.832402   0.831923  0.832402   \n",
       "1                    0.831469             0.832402   0.832402  0.832402   \n",
       "7                    0.830060             0.815642   0.817096  0.815642   \n",
       "4                    0.830011             0.826816   0.826124  0.826816   \n",
       "3                    0.823097             0.826816   0.826149  0.826816   \n",
       "5                    0.800561             0.810056   0.809194  0.810056   \n",
       "6                    0.792071             0.793296   0.799897  0.793296   \n",
       "\n",
       "    F1 Score  \n",
       "10  0.842865  \n",
       "9   0.837822  \n",
       "8   0.815452  \n",
       "0   0.838145  \n",
       "2   0.831189  \n",
       "1   0.832402  \n",
       "7   0.816138  \n",
       "4   0.825802  \n",
       "3   0.826244  \n",
       "5   0.808681  \n",
       "6   0.794593  "
      ]
     },
     "execution_count": 50,
     "metadata": {},
     "output_type": "execute_result"
    }
   ],
   "source": [
    "# Convert results to a DataFrame for better comparison\n",
    "performance_df = pd.DataFrame(model_performance).sort_values(\n",
    "    by='Cross-Validation Accuracy', ascending=False)\n",
    "performance_df"
   ]
  },
  {
   "cell_type": "markdown",
   "metadata": {},
   "source": [
    "This DataFrame ranks the models based on validation accuracy, allowing us to easily see which model performed the best on the validation set.\n"
   ]
  },
  {
   "cell_type": "markdown",
   "metadata": {
    "id": "u-gfA-zbHpvq"
   },
   "source": [
    "### Select and Train the Best Model\n",
    "\n",
    "Based on validation accuracy, we choose the best model (e.g., Gradient Boosting). This model is then retrained on the full training data using the best hyperparameters from `GridSearchCV`.\n"
   ]
  },
  {
   "cell_type": "code",
   "execution_count": 51,
   "metadata": {
    "id": "rztTlyUnHpvq",
    "trusted": true
   },
   "outputs": [
    {
     "name": "stdout",
     "output_type": "stream",
     "text": [
      "Best Model: CatBoost\n",
      "Best Model Parameters: {'bagging_temperature': 0.0, 'border_count': 64, 'depth': 3, 'iterations': 300, 'l2_leaf_reg': 5, 'learning_rate': 0.1}\n"
     ]
    }
   ],
   "source": [
    "best_model = performance_df.iloc[0]['Model']\n",
    "print(f\"Best Model: {best_model}\")\n",
    "print(f\"Best Model Parameters: {performance_df.iloc[0]['Best Parameters']}\")\n",
    "\n",
    "# Retrieve the best parameters and model\n",
    "best_params = param_grids[best_model]\n",
    "best_model = models[best_model]\n",
    "\n",
    "# Re-run GridSearchCV on the full training data to use the best parameters for the best model\n",
    "grid_search_cv = GridSearchCV(estimator=best_model, param_grid=best_params, cv=5, n_jobs=-1, scoring='accuracy')\n",
    "grid_search_cv.fit(X_train, y_train)\n",
    "\n",
    "# Get the best estimator from grid search\n",
    "final_model = grid_search_cv.best_estimator_"
   ]
  },
  {
   "cell_type": "markdown",
   "metadata": {},
   "source": [
    "The best model is selected and retrained on the entire training set with the optimal parameters. This final model will be used to make predictions on the test data.\n"
   ]
  },
  {
   "cell_type": "markdown",
   "metadata": {},
   "source": [
    "### Generate Predictions and Create Submission File\n",
    "\n",
    "Using the final trained model, we predict survival outcomes on the test dataset and save the results in a CSV file for Kaggle submission.\n"
   ]
  },
  {
   "cell_type": "code",
   "execution_count": 52,
   "metadata": {},
   "outputs": [],
   "source": [
    "# Make predictions on the test data\n",
    "prediction = final_model.predict(X_test)\n",
    "\n",
    "# Create a submission file\n",
    "submission = pd.DataFrame(\n",
    "    {'PassengerId': test_data.PassengerId, 'Survived': prediction})\n",
    "submission.to_csv('titanic_submission_all_comparision.csv', index=False)"
   ]
  }
 ],
 "metadata": {
  "accelerator": "TPU",
  "colab": {
   "gpuType": "V28",
   "name": "Titanic",
   "provenance": []
  },
  "kaggle": {
   "accelerator": "none",
   "dataSources": [
    {
     "databundleVersionId": 26502,
     "sourceId": 3136,
     "sourceType": "competition"
    }
   ],
   "dockerImageVersionId": 30786,
   "isGpuEnabled": false,
   "isInternetEnabled": true,
   "language": "python",
   "sourceType": "notebook"
  },
  "kernelspec": {
   "display_name": "kaggle",
   "language": "python",
   "name": "python3"
  },
  "language_info": {
   "codemirror_mode": {
    "name": "ipython",
    "version": 3
   },
   "file_extension": ".py",
   "mimetype": "text/x-python",
   "name": "python",
   "nbconvert_exporter": "python",
   "pygments_lexer": "ipython3",
   "version": "3.10.15"
  },
  "widgets": {
   "application/vnd.jupyter.widget-state+json": {
    "12655640e9a647039ba191c70d2bb1f0": {
     "model_module": "@jupyter-widgets/controls",
     "model_module_version": "1.5.0",
     "model_name": "PasswordModel",
     "state": {
      "_dom_classes": [],
      "_model_module": "@jupyter-widgets/controls",
      "_model_module_version": "1.5.0",
      "_model_name": "PasswordModel",
      "_view_count": null,
      "_view_module": "@jupyter-widgets/controls",
      "_view_module_version": "1.5.0",
      "_view_name": "PasswordView",
      "continuous_update": true,
      "description": "Token:",
      "description_tooltip": null,
      "disabled": false,
      "layout": "IPY_MODEL_44698e70fe464986b768ff1924367190",
      "placeholder": "​",
      "style": "IPY_MODEL_130ca7f75bc1404a8ec6ec16ace3674f",
      "value": ""
     }
    },
    "130ca7f75bc1404a8ec6ec16ace3674f": {
     "model_module": "@jupyter-widgets/controls",
     "model_module_version": "1.5.0",
     "model_name": "DescriptionStyleModel",
     "state": {
      "_model_module": "@jupyter-widgets/controls",
      "_model_module_version": "1.5.0",
      "_model_name": "DescriptionStyleModel",
      "_view_count": null,
      "_view_module": "@jupyter-widgets/base",
      "_view_module_version": "1.2.0",
      "_view_name": "StyleView",
      "description_width": ""
     }
    },
    "20cccc3aba854f569b96d713e9f7f9f3": {
     "model_module": "@jupyter-widgets/controls",
     "model_module_version": "1.5.0",
     "model_name": "VBoxModel",
     "state": {
      "_dom_classes": [],
      "_model_module": "@jupyter-widgets/controls",
      "_model_module_version": "1.5.0",
      "_model_name": "VBoxModel",
      "_view_count": null,
      "_view_module": "@jupyter-widgets/controls",
      "_view_module_version": "1.5.0",
      "_view_name": "VBoxView",
      "box_style": "",
      "children": [
       "IPY_MODEL_fc7768e2c67949819efac014b36ace53"
      ],
      "layout": "IPY_MODEL_c7d1e581d75a4c71b37fbc9125d6bd1f"
     }
    },
    "23bc8b87b5474e118f13c691fdb65b60": {
     "model_module": "@jupyter-widgets/base",
     "model_module_version": "1.2.0",
     "model_name": "LayoutModel",
     "state": {
      "_model_module": "@jupyter-widgets/base",
      "_model_module_version": "1.2.0",
      "_model_name": "LayoutModel",
      "_view_count": null,
      "_view_module": "@jupyter-widgets/base",
      "_view_module_version": "1.2.0",
      "_view_name": "LayoutView",
      "align_content": null,
      "align_items": null,
      "align_self": null,
      "border": null,
      "bottom": null,
      "display": null,
      "flex": null,
      "flex_flow": null,
      "grid_area": null,
      "grid_auto_columns": null,
      "grid_auto_flow": null,
      "grid_auto_rows": null,
      "grid_column": null,
      "grid_gap": null,
      "grid_row": null,
      "grid_template_areas": null,
      "grid_template_columns": null,
      "grid_template_rows": null,
      "height": null,
      "justify_content": null,
      "justify_items": null,
      "left": null,
      "margin": null,
      "max_height": null,
      "max_width": null,
      "min_height": null,
      "min_width": null,
      "object_fit": null,
      "object_position": null,
      "order": null,
      "overflow": null,
      "overflow_x": null,
      "overflow_y": null,
      "padding": null,
      "right": null,
      "top": null,
      "visibility": null,
      "width": null
     }
    },
    "439165d3dbe84ed58ce52b800f19a016": {
     "model_module": "@jupyter-widgets/controls",
     "model_module_version": "1.5.0",
     "model_name": "DescriptionStyleModel",
     "state": {
      "_model_module": "@jupyter-widgets/controls",
      "_model_module_version": "1.5.0",
      "_model_name": "DescriptionStyleModel",
      "_view_count": null,
      "_view_module": "@jupyter-widgets/base",
      "_view_module_version": "1.2.0",
      "_view_name": "StyleView",
      "description_width": ""
     }
    },
    "44698e70fe464986b768ff1924367190": {
     "model_module": "@jupyter-widgets/base",
     "model_module_version": "1.2.0",
     "model_name": "LayoutModel",
     "state": {
      "_model_module": "@jupyter-widgets/base",
      "_model_module_version": "1.2.0",
      "_model_name": "LayoutModel",
      "_view_count": null,
      "_view_module": "@jupyter-widgets/base",
      "_view_module_version": "1.2.0",
      "_view_name": "LayoutView",
      "align_content": null,
      "align_items": null,
      "align_self": null,
      "border": null,
      "bottom": null,
      "display": null,
      "flex": null,
      "flex_flow": null,
      "grid_area": null,
      "grid_auto_columns": null,
      "grid_auto_flow": null,
      "grid_auto_rows": null,
      "grid_column": null,
      "grid_gap": null,
      "grid_row": null,
      "grid_template_areas": null,
      "grid_template_columns": null,
      "grid_template_rows": null,
      "height": null,
      "justify_content": null,
      "justify_items": null,
      "left": null,
      "margin": null,
      "max_height": null,
      "max_width": null,
      "min_height": null,
      "min_width": null,
      "object_fit": null,
      "object_position": null,
      "order": null,
      "overflow": null,
      "overflow_x": null,
      "overflow_y": null,
      "padding": null,
      "right": null,
      "top": null,
      "visibility": null,
      "width": null
     }
    },
    "44e42c1b53204a48a4c4041aa7939dc0": {
     "model_module": "@jupyter-widgets/controls",
     "model_module_version": "1.5.0",
     "model_name": "DescriptionStyleModel",
     "state": {
      "_model_module": "@jupyter-widgets/controls",
      "_model_module_version": "1.5.0",
      "_model_name": "DescriptionStyleModel",
      "_view_count": null,
      "_view_module": "@jupyter-widgets/base",
      "_view_module_version": "1.2.0",
      "_view_name": "StyleView",
      "description_width": ""
     }
    },
    "4e3cc4d5a3834ed598a4d448f09174e0": {
     "model_module": "@jupyter-widgets/controls",
     "model_module_version": "1.5.0",
     "model_name": "LabelModel",
     "state": {
      "_dom_classes": [],
      "_model_module": "@jupyter-widgets/controls",
      "_model_module_version": "1.5.0",
      "_model_name": "LabelModel",
      "_view_count": null,
      "_view_module": "@jupyter-widgets/controls",
      "_view_module_version": "1.5.0",
      "_view_name": "LabelView",
      "description": "",
      "description_tooltip": null,
      "layout": "IPY_MODEL_23bc8b87b5474e118f13c691fdb65b60",
      "placeholder": "​",
      "style": "IPY_MODEL_44e42c1b53204a48a4c4041aa7939dc0",
      "value": "Connecting..."
     }
    },
    "5da2d97d7e9e4a1b9f876b585796ee8d": {
     "model_module": "@jupyter-widgets/base",
     "model_module_version": "1.2.0",
     "model_name": "LayoutModel",
     "state": {
      "_model_module": "@jupyter-widgets/base",
      "_model_module_version": "1.2.0",
      "_model_name": "LayoutModel",
      "_view_count": null,
      "_view_module": "@jupyter-widgets/base",
      "_view_module_version": "1.2.0",
      "_view_name": "LayoutView",
      "align_content": null,
      "align_items": null,
      "align_self": null,
      "border": null,
      "bottom": null,
      "display": null,
      "flex": null,
      "flex_flow": null,
      "grid_area": null,
      "grid_auto_columns": null,
      "grid_auto_flow": null,
      "grid_auto_rows": null,
      "grid_column": null,
      "grid_gap": null,
      "grid_row": null,
      "grid_template_areas": null,
      "grid_template_columns": null,
      "grid_template_rows": null,
      "height": null,
      "justify_content": null,
      "justify_items": null,
      "left": null,
      "margin": null,
      "max_height": null,
      "max_width": null,
      "min_height": null,
      "min_width": null,
      "object_fit": null,
      "object_position": null,
      "order": null,
      "overflow": null,
      "overflow_x": null,
      "overflow_y": null,
      "padding": null,
      "right": null,
      "top": null,
      "visibility": null,
      "width": null
     }
    },
    "6203a0ffcc484b84a6bd2ab5e8f358d7": {
     "model_module": "@jupyter-widgets/controls",
     "model_module_version": "1.5.0",
     "model_name": "ButtonStyleModel",
     "state": {
      "_model_module": "@jupyter-widgets/controls",
      "_model_module_version": "1.5.0",
      "_model_name": "ButtonStyleModel",
      "_view_count": null,
      "_view_module": "@jupyter-widgets/base",
      "_view_module_version": "1.2.0",
      "_view_name": "StyleView",
      "button_color": null,
      "font_weight": ""
     }
    },
    "67f6b111457244d2a7bf114a5188a0d6": {
     "model_module": "@jupyter-widgets/base",
     "model_module_version": "1.2.0",
     "model_name": "LayoutModel",
     "state": {
      "_model_module": "@jupyter-widgets/base",
      "_model_module_version": "1.2.0",
      "_model_name": "LayoutModel",
      "_view_count": null,
      "_view_module": "@jupyter-widgets/base",
      "_view_module_version": "1.2.0",
      "_view_name": "LayoutView",
      "align_content": null,
      "align_items": null,
      "align_self": null,
      "border": null,
      "bottom": null,
      "display": null,
      "flex": null,
      "flex_flow": null,
      "grid_area": null,
      "grid_auto_columns": null,
      "grid_auto_flow": null,
      "grid_auto_rows": null,
      "grid_column": null,
      "grid_gap": null,
      "grid_row": null,
      "grid_template_areas": null,
      "grid_template_columns": null,
      "grid_template_rows": null,
      "height": null,
      "justify_content": null,
      "justify_items": null,
      "left": null,
      "margin": null,
      "max_height": null,
      "max_width": null,
      "min_height": null,
      "min_width": null,
      "object_fit": null,
      "object_position": null,
      "order": null,
      "overflow": null,
      "overflow_x": null,
      "overflow_y": null,
      "padding": null,
      "right": null,
      "top": null,
      "visibility": null,
      "width": null
     }
    },
    "724fd5d8aef94edc9369cda79cb26450": {
     "model_module": "@jupyter-widgets/controls",
     "model_module_version": "1.5.0",
     "model_name": "HTMLModel",
     "state": {
      "_dom_classes": [],
      "_model_module": "@jupyter-widgets/controls",
      "_model_module_version": "1.5.0",
      "_model_name": "HTMLModel",
      "_view_count": null,
      "_view_module": "@jupyter-widgets/controls",
      "_view_module_version": "1.5.0",
      "_view_name": "HTMLView",
      "description": "",
      "description_tooltip": null,
      "layout": "IPY_MODEL_e91a083bacf04028a2fcef2295f8a520",
      "placeholder": "​",
      "style": "IPY_MODEL_a8ade60ab68846f0a87d7d2fcaebcb12",
      "value": "<center> <img\nsrc=https://www.kaggle.com/static/images/site-logo.png\nalt='Kaggle'> <br> Create an API token from <a\nhref=\"https://www.kaggle.com/settings/account\" target=\"_blank\">your Kaggle\nsettings page</a> and paste it below along with your Kaggle username. <br> </center>"
     }
    },
    "9f7189d0f90d44cdaafccda1b033a494": {
     "model_module": "@jupyter-widgets/controls",
     "model_module_version": "1.5.0",
     "model_name": "HTMLModel",
     "state": {
      "_dom_classes": [],
      "_model_module": "@jupyter-widgets/controls",
      "_model_module_version": "1.5.0",
      "_model_name": "HTMLModel",
      "_view_count": null,
      "_view_module": "@jupyter-widgets/controls",
      "_view_module_version": "1.5.0",
      "_view_name": "HTMLView",
      "description": "",
      "description_tooltip": null,
      "layout": "IPY_MODEL_baf70521c4004f639107f190326d6297",
      "placeholder": "​",
      "style": "IPY_MODEL_aa3a62f511e048f8aa4be339f2e89743",
      "value": "\n<b>Thank You</b></center>"
     }
    },
    "a8ade60ab68846f0a87d7d2fcaebcb12": {
     "model_module": "@jupyter-widgets/controls",
     "model_module_version": "1.5.0",
     "model_name": "DescriptionStyleModel",
     "state": {
      "_model_module": "@jupyter-widgets/controls",
      "_model_module_version": "1.5.0",
      "_model_name": "DescriptionStyleModel",
      "_view_count": null,
      "_view_module": "@jupyter-widgets/base",
      "_view_module_version": "1.2.0",
      "_view_name": "StyleView",
      "description_width": ""
     }
    },
    "aa3a62f511e048f8aa4be339f2e89743": {
     "model_module": "@jupyter-widgets/controls",
     "model_module_version": "1.5.0",
     "model_name": "DescriptionStyleModel",
     "state": {
      "_model_module": "@jupyter-widgets/controls",
      "_model_module_version": "1.5.0",
      "_model_name": "DescriptionStyleModel",
      "_view_count": null,
      "_view_module": "@jupyter-widgets/base",
      "_view_module_version": "1.2.0",
      "_view_name": "StyleView",
      "description_width": ""
     }
    },
    "baf70521c4004f639107f190326d6297": {
     "model_module": "@jupyter-widgets/base",
     "model_module_version": "1.2.0",
     "model_name": "LayoutModel",
     "state": {
      "_model_module": "@jupyter-widgets/base",
      "_model_module_version": "1.2.0",
      "_model_name": "LayoutModel",
      "_view_count": null,
      "_view_module": "@jupyter-widgets/base",
      "_view_module_version": "1.2.0",
      "_view_name": "LayoutView",
      "align_content": null,
      "align_items": null,
      "align_self": null,
      "border": null,
      "bottom": null,
      "display": null,
      "flex": null,
      "flex_flow": null,
      "grid_area": null,
      "grid_auto_columns": null,
      "grid_auto_flow": null,
      "grid_auto_rows": null,
      "grid_column": null,
      "grid_gap": null,
      "grid_row": null,
      "grid_template_areas": null,
      "grid_template_columns": null,
      "grid_template_rows": null,
      "height": null,
      "justify_content": null,
      "justify_items": null,
      "left": null,
      "margin": null,
      "max_height": null,
      "max_width": null,
      "min_height": null,
      "min_width": null,
      "object_fit": null,
      "object_position": null,
      "order": null,
      "overflow": null,
      "overflow_x": null,
      "overflow_y": null,
      "padding": null,
      "right": null,
      "top": null,
      "visibility": null,
      "width": null
     }
    },
    "c058f390f0564bf8821f1d1162f9d0be": {
     "model_module": "@jupyter-widgets/controls",
     "model_module_version": "1.5.0",
     "model_name": "TextModel",
     "state": {
      "_dom_classes": [],
      "_model_module": "@jupyter-widgets/controls",
      "_model_module_version": "1.5.0",
      "_model_name": "TextModel",
      "_view_count": null,
      "_view_module": "@jupyter-widgets/controls",
      "_view_module_version": "1.5.0",
      "_view_name": "TextView",
      "continuous_update": true,
      "description": "Username:",
      "description_tooltip": null,
      "disabled": false,
      "layout": "IPY_MODEL_ebef475f1073435e9d34f219229df9f2",
      "placeholder": "​",
      "style": "IPY_MODEL_c5f650d597204310bd80968c64a0d579",
      "value": "suriya911"
     }
    },
    "c5f650d597204310bd80968c64a0d579": {
     "model_module": "@jupyter-widgets/controls",
     "model_module_version": "1.5.0",
     "model_name": "DescriptionStyleModel",
     "state": {
      "_model_module": "@jupyter-widgets/controls",
      "_model_module_version": "1.5.0",
      "_model_name": "DescriptionStyleModel",
      "_view_count": null,
      "_view_module": "@jupyter-widgets/base",
      "_view_module_version": "1.2.0",
      "_view_name": "StyleView",
      "description_width": ""
     }
    },
    "c7d1e581d75a4c71b37fbc9125d6bd1f": {
     "model_module": "@jupyter-widgets/base",
     "model_module_version": "1.2.0",
     "model_name": "LayoutModel",
     "state": {
      "_model_module": "@jupyter-widgets/base",
      "_model_module_version": "1.2.0",
      "_model_name": "LayoutModel",
      "_view_count": null,
      "_view_module": "@jupyter-widgets/base",
      "_view_module_version": "1.2.0",
      "_view_name": "LayoutView",
      "align_content": null,
      "align_items": "center",
      "align_self": null,
      "border": null,
      "bottom": null,
      "display": "flex",
      "flex": null,
      "flex_flow": "column",
      "grid_area": null,
      "grid_auto_columns": null,
      "grid_auto_flow": null,
      "grid_auto_rows": null,
      "grid_column": null,
      "grid_gap": null,
      "grid_row": null,
      "grid_template_areas": null,
      "grid_template_columns": null,
      "grid_template_rows": null,
      "height": null,
      "justify_content": null,
      "justify_items": null,
      "left": null,
      "margin": null,
      "max_height": null,
      "max_width": null,
      "min_height": null,
      "min_width": null,
      "object_fit": null,
      "object_position": null,
      "order": null,
      "overflow": null,
      "overflow_x": null,
      "overflow_y": null,
      "padding": null,
      "right": null,
      "top": null,
      "visibility": null,
      "width": "50%"
     }
    },
    "e30f995ab9bd413abae1e74ec196a14a": {
     "model_module": "@jupyter-widgets/controls",
     "model_module_version": "1.5.0",
     "model_name": "ButtonModel",
     "state": {
      "_dom_classes": [],
      "_model_module": "@jupyter-widgets/controls",
      "_model_module_version": "1.5.0",
      "_model_name": "ButtonModel",
      "_view_count": null,
      "_view_module": "@jupyter-widgets/controls",
      "_view_module_version": "1.5.0",
      "_view_name": "ButtonView",
      "button_style": "",
      "description": "Login",
      "disabled": false,
      "icon": "",
      "layout": "IPY_MODEL_5da2d97d7e9e4a1b9f876b585796ee8d",
      "style": "IPY_MODEL_6203a0ffcc484b84a6bd2ab5e8f358d7",
      "tooltip": ""
     }
    },
    "e91a083bacf04028a2fcef2295f8a520": {
     "model_module": "@jupyter-widgets/base",
     "model_module_version": "1.2.0",
     "model_name": "LayoutModel",
     "state": {
      "_model_module": "@jupyter-widgets/base",
      "_model_module_version": "1.2.0",
      "_model_name": "LayoutModel",
      "_view_count": null,
      "_view_module": "@jupyter-widgets/base",
      "_view_module_version": "1.2.0",
      "_view_name": "LayoutView",
      "align_content": null,
      "align_items": null,
      "align_self": null,
      "border": null,
      "bottom": null,
      "display": null,
      "flex": null,
      "flex_flow": null,
      "grid_area": null,
      "grid_auto_columns": null,
      "grid_auto_flow": null,
      "grid_auto_rows": null,
      "grid_column": null,
      "grid_gap": null,
      "grid_row": null,
      "grid_template_areas": null,
      "grid_template_columns": null,
      "grid_template_rows": null,
      "height": null,
      "justify_content": null,
      "justify_items": null,
      "left": null,
      "margin": null,
      "max_height": null,
      "max_width": null,
      "min_height": null,
      "min_width": null,
      "object_fit": null,
      "object_position": null,
      "order": null,
      "overflow": null,
      "overflow_x": null,
      "overflow_y": null,
      "padding": null,
      "right": null,
      "top": null,
      "visibility": null,
      "width": null
     }
    },
    "ebef475f1073435e9d34f219229df9f2": {
     "model_module": "@jupyter-widgets/base",
     "model_module_version": "1.2.0",
     "model_name": "LayoutModel",
     "state": {
      "_model_module": "@jupyter-widgets/base",
      "_model_module_version": "1.2.0",
      "_model_name": "LayoutModel",
      "_view_count": null,
      "_view_module": "@jupyter-widgets/base",
      "_view_module_version": "1.2.0",
      "_view_name": "LayoutView",
      "align_content": null,
      "align_items": null,
      "align_self": null,
      "border": null,
      "bottom": null,
      "display": null,
      "flex": null,
      "flex_flow": null,
      "grid_area": null,
      "grid_auto_columns": null,
      "grid_auto_flow": null,
      "grid_auto_rows": null,
      "grid_column": null,
      "grid_gap": null,
      "grid_row": null,
      "grid_template_areas": null,
      "grid_template_columns": null,
      "grid_template_rows": null,
      "height": null,
      "justify_content": null,
      "justify_items": null,
      "left": null,
      "margin": null,
      "max_height": null,
      "max_width": null,
      "min_height": null,
      "min_width": null,
      "object_fit": null,
      "object_position": null,
      "order": null,
      "overflow": null,
      "overflow_x": null,
      "overflow_y": null,
      "padding": null,
      "right": null,
      "top": null,
      "visibility": null,
      "width": null
     }
    },
    "fc7768e2c67949819efac014b36ace53": {
     "model_module": "@jupyter-widgets/controls",
     "model_module_version": "1.5.0",
     "model_name": "LabelModel",
     "state": {
      "_dom_classes": [],
      "_model_module": "@jupyter-widgets/controls",
      "_model_module_version": "1.5.0",
      "_model_name": "LabelModel",
      "_view_count": null,
      "_view_module": "@jupyter-widgets/controls",
      "_view_module_version": "1.5.0",
      "_view_name": "LabelView",
      "description": "",
      "description_tooltip": null,
      "layout": "IPY_MODEL_67f6b111457244d2a7bf114a5188a0d6",
      "placeholder": "​",
      "style": "IPY_MODEL_439165d3dbe84ed58ce52b800f19a016",
      "value": "Kaggle credentials successfully validated."
     }
    }
   }
  }
 },
 "nbformat": 4,
 "nbformat_minor": 0
}
